{
 "cells": [
  {
   "cell_type": "markdown",
   "metadata": {},
   "source": [
    "# Построение модели прогнозирования оттока клиентов банка «Бета-Банка»."
   ]
  },
  {
   "cell_type": "markdown",
   "metadata": {},
   "source": [
    "## Постановка задачи:"
   ]
  },
  {
   "cell_type": "markdown",
   "metadata": {},
   "source": [
    "Заказчик - банк «Бета-Банка». Необходимо построить модель, которая может спрогнозировать, уйдёт клиент из банка в ближайшее время или нет. Метрика F1 на тестовой выборке должна быть больше 0.59."
   ]
  },
  {
   "cell_type": "markdown",
   "metadata": {},
   "source": [
    "## Описание исходных данных:"
   ]
  },
  {
   "cell_type": "markdown",
   "metadata": {},
   "source": [
    "Заказчиком предоставлены исторические данные о поведении клиентов и расторжении договоров с банком.\n",
    "\n",
    "Путь к файлу:\n",
    "- /datasets/Churn.csv\n",
    "\n",
    "Признаки:\n",
    "- RowNumber — индекс строки в данных\n",
    "- CustomerId — уникальный идентификатор клиента\n",
    "- Surname — фамилия\n",
    "- CreditScore — кредитный рейтинг\n",
    "- Geography — страна проживания\n",
    "- Gender — пол\n",
    "- Age — возраст\n",
    "- Tenure — количество недвижимости у клиента\n",
    "- Balance — баланс на счёте\n",
    "- NumOfProducts — количество продуктов банка, используемых клиентом\n",
    "- HasCrCard — наличие кредитной карты\n",
    "- IsActiveMember — активность клиента\n",
    "- EstimatedSalary — предполагаемая зарплата\n",
    "\n",
    "Целевой признак\n",
    "- Exited — факт ухода клиента"
   ]
  },
  {
   "cell_type": "markdown",
   "metadata": {},
   "source": [
    "## Оглавление:"
   ]
  },
  {
   "cell_type": "markdown",
   "metadata": {},
   "source": [
    "<br> [1. Предварительный анализ исходных данных.](#step1)\n",
    "<br>  - [1.1 Вывод.](#step1.1)\n",
    "<br> [2. Предварительная обработка данных.](#step2)\n",
    "<br>  - [2.1 Очистка данных](#step2.1)\n",
    "<br>  - [2.2 Корректировка названия столбцов.](#step2.2)\n",
    "<br>  - [2.3 Обработка пропущенных значений.](#step2.3)\n",
    "<br>  - [2.4 Прямое кодирование строчных признаков.](#step2.4)\n",
    "<br>  - [2.5 Корректировка типов.](#step2.5)\n",
    "<br>  - [2.6 Обработка дубликатов](#step2.6)\n",
    "<br> [3. Получение обучающего, валидационного, тестового набора данных.](#step3)\n",
    "<br> [4. Масштабирование признаков.](#step4)\n",
    "<br> [5. Построение моделей.](#step5)\n",
    "<br>  - [5.1 Дерево решений.](#step5.1)\n",
    "<br>  - [5.2 Случайный лес.](#step5.2)\n",
    "<br>  - [5.3 Логистическая регрессия.](#step5.3)\n",
    "<br>  - [5.4 Вывод.](#step5.4)\n",
    "<br> [6. Балансировка классов.](#step6)\n",
    "<br>  - [6.1 Балансировка увеличением веса редкого класса.](#step6.1)\n",
    "<br>  - [6.2 Балансировка увеличением набора данных редкого класса.](#step6.2)\n",
    "<br>  - [6.3 Балансировка уменьшением набора данных частого класса.](#step6.3)\n",
    "<br>  - [6.4 Вывод.](#step6.4)\n",
    "<br> [7. Проверка на тестовом наборе данных.](#step7)\n",
    "<br> [8. Общий вывод.](#step5)"
   ]
  },
  {
   "cell_type": "markdown",
   "metadata": {},
   "source": [
    "### 1. Предварительный анализ исходных данных.<a id='step1'></a>"
   ]
  },
  {
   "cell_type": "markdown",
   "metadata": {},
   "source": [
    "Импорт библиотек необходимых для построения модели."
   ]
  },
  {
   "cell_type": "code",
   "execution_count": 1,
   "metadata": {},
   "outputs": [],
   "source": [
    "import pandas as pd # <библиотека \"pandas\" для работы с таблицами>\n",
    "import numpy as np # <библиотека \"numpy\" для работы с числовыми значениями>\n",
    "import matplotlib.pyplot as plt # <библиотека \"matplotlib\" для работы с графиками>\n",
    "from sklearn.preprocessing import StandardScaler # <библиотека \"sklearn\" методы стандартизации>\n",
    "from sklearn.metrics import f1_score # <библиотека \"sklearn\" метрика F1>\n",
    "from sklearn.utils import shuffle # <библиотека \"sklearn\" модуль для случайно сортировки>\n",
    "from sklearn.metrics import roc_auc_score # <библиотека \"sklearn\" метрика ROC AUC>\n",
    "# <импорт различных классов для построения моделей машинного обучения>\n",
    "from sklearn.tree import DecisionTreeClassifier # <дерево решений>\n",
    "from sklearn.ensemble import RandomForestClassifier # <случайный лес>\n",
    "from sklearn.linear_model import LogisticRegression # <логистическая регрессия>"
   ]
  },
  {
   "cell_type": "markdown",
   "metadata": {},
   "source": [
    "Загрузка файлов с данными в переменные."
   ]
  },
  {
   "cell_type": "code",
   "execution_count": 2,
   "metadata": {},
   "outputs": [],
   "source": [
    "try: # <для работы в веб форме практикума>\n",
    "    data = pd.read_csv('/datasets/Churn.csv')\n",
    "    \n",
    "except: # <для работы с данными на локальной машине>\n",
    "    data = pd.read_csv('c:/Job/yandex ds/DS_2/project_2/Churn.csv')"
   ]
  },
  {
   "cell_type": "markdown",
   "metadata": {},
   "source": [
    "Структура таблицы \"data\"."
   ]
  },
  {
   "cell_type": "code",
   "execution_count": 3,
   "metadata": {},
   "outputs": [
    {
     "data": {
      "text/plain": [
       "(10000, 14)"
      ]
     },
     "execution_count": 3,
     "metadata": {},
     "output_type": "execute_result"
    }
   ],
   "source": [
    "data.shape # <размер таблицы>"
   ]
  },
  {
   "cell_type": "code",
   "execution_count": 4,
   "metadata": {},
   "outputs": [
    {
     "data": {
      "text/html": [
       "<div>\n",
       "<style scoped>\n",
       "    .dataframe tbody tr th:only-of-type {\n",
       "        vertical-align: middle;\n",
       "    }\n",
       "\n",
       "    .dataframe tbody tr th {\n",
       "        vertical-align: top;\n",
       "    }\n",
       "\n",
       "    .dataframe thead th {\n",
       "        text-align: right;\n",
       "    }\n",
       "</style>\n",
       "<table border=\"1\" class=\"dataframe\">\n",
       "  <thead>\n",
       "    <tr style=\"text-align: right;\">\n",
       "      <th></th>\n",
       "      <th>RowNumber</th>\n",
       "      <th>CustomerId</th>\n",
       "      <th>Surname</th>\n",
       "      <th>CreditScore</th>\n",
       "      <th>Geography</th>\n",
       "      <th>Gender</th>\n",
       "      <th>Age</th>\n",
       "      <th>Tenure</th>\n",
       "      <th>Balance</th>\n",
       "      <th>NumOfProducts</th>\n",
       "      <th>HasCrCard</th>\n",
       "      <th>IsActiveMember</th>\n",
       "      <th>EstimatedSalary</th>\n",
       "      <th>Exited</th>\n",
       "    </tr>\n",
       "  </thead>\n",
       "  <tbody>\n",
       "    <tr>\n",
       "      <th>0</th>\n",
       "      <td>1</td>\n",
       "      <td>15634602</td>\n",
       "      <td>Hargrave</td>\n",
       "      <td>619</td>\n",
       "      <td>France</td>\n",
       "      <td>Female</td>\n",
       "      <td>42</td>\n",
       "      <td>2.0</td>\n",
       "      <td>0.00</td>\n",
       "      <td>1</td>\n",
       "      <td>1</td>\n",
       "      <td>1</td>\n",
       "      <td>101348.88</td>\n",
       "      <td>1</td>\n",
       "    </tr>\n",
       "    <tr>\n",
       "      <th>1</th>\n",
       "      <td>2</td>\n",
       "      <td>15647311</td>\n",
       "      <td>Hill</td>\n",
       "      <td>608</td>\n",
       "      <td>Spain</td>\n",
       "      <td>Female</td>\n",
       "      <td>41</td>\n",
       "      <td>1.0</td>\n",
       "      <td>83807.86</td>\n",
       "      <td>1</td>\n",
       "      <td>0</td>\n",
       "      <td>1</td>\n",
       "      <td>112542.58</td>\n",
       "      <td>0</td>\n",
       "    </tr>\n",
       "    <tr>\n",
       "      <th>2</th>\n",
       "      <td>3</td>\n",
       "      <td>15619304</td>\n",
       "      <td>Onio</td>\n",
       "      <td>502</td>\n",
       "      <td>France</td>\n",
       "      <td>Female</td>\n",
       "      <td>42</td>\n",
       "      <td>8.0</td>\n",
       "      <td>159660.80</td>\n",
       "      <td>3</td>\n",
       "      <td>1</td>\n",
       "      <td>0</td>\n",
       "      <td>113931.57</td>\n",
       "      <td>1</td>\n",
       "    </tr>\n",
       "    <tr>\n",
       "      <th>3</th>\n",
       "      <td>4</td>\n",
       "      <td>15701354</td>\n",
       "      <td>Boni</td>\n",
       "      <td>699</td>\n",
       "      <td>France</td>\n",
       "      <td>Female</td>\n",
       "      <td>39</td>\n",
       "      <td>1.0</td>\n",
       "      <td>0.00</td>\n",
       "      <td>2</td>\n",
       "      <td>0</td>\n",
       "      <td>0</td>\n",
       "      <td>93826.63</td>\n",
       "      <td>0</td>\n",
       "    </tr>\n",
       "    <tr>\n",
       "      <th>4</th>\n",
       "      <td>5</td>\n",
       "      <td>15737888</td>\n",
       "      <td>Mitchell</td>\n",
       "      <td>850</td>\n",
       "      <td>Spain</td>\n",
       "      <td>Female</td>\n",
       "      <td>43</td>\n",
       "      <td>2.0</td>\n",
       "      <td>125510.82</td>\n",
       "      <td>1</td>\n",
       "      <td>1</td>\n",
       "      <td>1</td>\n",
       "      <td>79084.10</td>\n",
       "      <td>0</td>\n",
       "    </tr>\n",
       "    <tr>\n",
       "      <th>5</th>\n",
       "      <td>6</td>\n",
       "      <td>15574012</td>\n",
       "      <td>Chu</td>\n",
       "      <td>645</td>\n",
       "      <td>Spain</td>\n",
       "      <td>Male</td>\n",
       "      <td>44</td>\n",
       "      <td>8.0</td>\n",
       "      <td>113755.78</td>\n",
       "      <td>2</td>\n",
       "      <td>1</td>\n",
       "      <td>0</td>\n",
       "      <td>149756.71</td>\n",
       "      <td>1</td>\n",
       "    </tr>\n",
       "    <tr>\n",
       "      <th>6</th>\n",
       "      <td>7</td>\n",
       "      <td>15592531</td>\n",
       "      <td>Bartlett</td>\n",
       "      <td>822</td>\n",
       "      <td>France</td>\n",
       "      <td>Male</td>\n",
       "      <td>50</td>\n",
       "      <td>7.0</td>\n",
       "      <td>0.00</td>\n",
       "      <td>2</td>\n",
       "      <td>1</td>\n",
       "      <td>1</td>\n",
       "      <td>10062.80</td>\n",
       "      <td>0</td>\n",
       "    </tr>\n",
       "    <tr>\n",
       "      <th>7</th>\n",
       "      <td>8</td>\n",
       "      <td>15656148</td>\n",
       "      <td>Obinna</td>\n",
       "      <td>376</td>\n",
       "      <td>Germany</td>\n",
       "      <td>Female</td>\n",
       "      <td>29</td>\n",
       "      <td>4.0</td>\n",
       "      <td>115046.74</td>\n",
       "      <td>4</td>\n",
       "      <td>1</td>\n",
       "      <td>0</td>\n",
       "      <td>119346.88</td>\n",
       "      <td>1</td>\n",
       "    </tr>\n",
       "    <tr>\n",
       "      <th>8</th>\n",
       "      <td>9</td>\n",
       "      <td>15792365</td>\n",
       "      <td>He</td>\n",
       "      <td>501</td>\n",
       "      <td>France</td>\n",
       "      <td>Male</td>\n",
       "      <td>44</td>\n",
       "      <td>4.0</td>\n",
       "      <td>142051.07</td>\n",
       "      <td>2</td>\n",
       "      <td>0</td>\n",
       "      <td>1</td>\n",
       "      <td>74940.50</td>\n",
       "      <td>0</td>\n",
       "    </tr>\n",
       "    <tr>\n",
       "      <th>9</th>\n",
       "      <td>10</td>\n",
       "      <td>15592389</td>\n",
       "      <td>H?</td>\n",
       "      <td>684</td>\n",
       "      <td>France</td>\n",
       "      <td>Male</td>\n",
       "      <td>27</td>\n",
       "      <td>2.0</td>\n",
       "      <td>134603.88</td>\n",
       "      <td>1</td>\n",
       "      <td>1</td>\n",
       "      <td>1</td>\n",
       "      <td>71725.73</td>\n",
       "      <td>0</td>\n",
       "    </tr>\n",
       "  </tbody>\n",
       "</table>\n",
       "</div>"
      ],
      "text/plain": [
       "   RowNumber  CustomerId   Surname  CreditScore Geography  Gender  Age  \\\n",
       "0          1    15634602  Hargrave          619    France  Female   42   \n",
       "1          2    15647311      Hill          608     Spain  Female   41   \n",
       "2          3    15619304      Onio          502    France  Female   42   \n",
       "3          4    15701354      Boni          699    France  Female   39   \n",
       "4          5    15737888  Mitchell          850     Spain  Female   43   \n",
       "5          6    15574012       Chu          645     Spain    Male   44   \n",
       "6          7    15592531  Bartlett          822    France    Male   50   \n",
       "7          8    15656148    Obinna          376   Germany  Female   29   \n",
       "8          9    15792365        He          501    France    Male   44   \n",
       "9         10    15592389        H?          684    France    Male   27   \n",
       "\n",
       "   Tenure    Balance  NumOfProducts  HasCrCard  IsActiveMember  \\\n",
       "0     2.0       0.00              1          1               1   \n",
       "1     1.0   83807.86              1          0               1   \n",
       "2     8.0  159660.80              3          1               0   \n",
       "3     1.0       0.00              2          0               0   \n",
       "4     2.0  125510.82              1          1               1   \n",
       "5     8.0  113755.78              2          1               0   \n",
       "6     7.0       0.00              2          1               1   \n",
       "7     4.0  115046.74              4          1               0   \n",
       "8     4.0  142051.07              2          0               1   \n",
       "9     2.0  134603.88              1          1               1   \n",
       "\n",
       "   EstimatedSalary  Exited  \n",
       "0        101348.88       1  \n",
       "1        112542.58       0  \n",
       "2        113931.57       1  \n",
       "3         93826.63       0  \n",
       "4         79084.10       0  \n",
       "5        149756.71       1  \n",
       "6         10062.80       0  \n",
       "7        119346.88       1  \n",
       "8         74940.50       0  \n",
       "9         71725.73       0  "
      ]
     },
     "execution_count": 4,
     "metadata": {},
     "output_type": "execute_result"
    }
   ],
   "source": [
    "data.head(10) # <вывод первых 10 строк>"
   ]
  },
  {
   "cell_type": "code",
   "execution_count": 5,
   "metadata": {},
   "outputs": [
    {
     "data": {
      "text/html": [
       "<div>\n",
       "<style scoped>\n",
       "    .dataframe tbody tr th:only-of-type {\n",
       "        vertical-align: middle;\n",
       "    }\n",
       "\n",
       "    .dataframe tbody tr th {\n",
       "        vertical-align: top;\n",
       "    }\n",
       "\n",
       "    .dataframe thead th {\n",
       "        text-align: right;\n",
       "    }\n",
       "</style>\n",
       "<table border=\"1\" class=\"dataframe\">\n",
       "  <thead>\n",
       "    <tr style=\"text-align: right;\">\n",
       "      <th></th>\n",
       "      <th>RowNumber</th>\n",
       "      <th>CustomerId</th>\n",
       "      <th>Surname</th>\n",
       "      <th>CreditScore</th>\n",
       "      <th>Geography</th>\n",
       "      <th>Gender</th>\n",
       "      <th>Age</th>\n",
       "      <th>Tenure</th>\n",
       "      <th>Balance</th>\n",
       "      <th>NumOfProducts</th>\n",
       "      <th>HasCrCard</th>\n",
       "      <th>IsActiveMember</th>\n",
       "      <th>EstimatedSalary</th>\n",
       "      <th>Exited</th>\n",
       "    </tr>\n",
       "  </thead>\n",
       "  <tbody>\n",
       "    <tr>\n",
       "      <th>9990</th>\n",
       "      <td>9991</td>\n",
       "      <td>15798964</td>\n",
       "      <td>Nkemakonam</td>\n",
       "      <td>714</td>\n",
       "      <td>Germany</td>\n",
       "      <td>Male</td>\n",
       "      <td>33</td>\n",
       "      <td>3.0</td>\n",
       "      <td>35016.60</td>\n",
       "      <td>1</td>\n",
       "      <td>1</td>\n",
       "      <td>0</td>\n",
       "      <td>53667.08</td>\n",
       "      <td>0</td>\n",
       "    </tr>\n",
       "    <tr>\n",
       "      <th>9991</th>\n",
       "      <td>9992</td>\n",
       "      <td>15769959</td>\n",
       "      <td>Ajuluchukwu</td>\n",
       "      <td>597</td>\n",
       "      <td>France</td>\n",
       "      <td>Female</td>\n",
       "      <td>53</td>\n",
       "      <td>4.0</td>\n",
       "      <td>88381.21</td>\n",
       "      <td>1</td>\n",
       "      <td>1</td>\n",
       "      <td>0</td>\n",
       "      <td>69384.71</td>\n",
       "      <td>1</td>\n",
       "    </tr>\n",
       "    <tr>\n",
       "      <th>9992</th>\n",
       "      <td>9993</td>\n",
       "      <td>15657105</td>\n",
       "      <td>Chukwualuka</td>\n",
       "      <td>726</td>\n",
       "      <td>Spain</td>\n",
       "      <td>Male</td>\n",
       "      <td>36</td>\n",
       "      <td>2.0</td>\n",
       "      <td>0.00</td>\n",
       "      <td>1</td>\n",
       "      <td>1</td>\n",
       "      <td>0</td>\n",
       "      <td>195192.40</td>\n",
       "      <td>0</td>\n",
       "    </tr>\n",
       "    <tr>\n",
       "      <th>9993</th>\n",
       "      <td>9994</td>\n",
       "      <td>15569266</td>\n",
       "      <td>Rahman</td>\n",
       "      <td>644</td>\n",
       "      <td>France</td>\n",
       "      <td>Male</td>\n",
       "      <td>28</td>\n",
       "      <td>7.0</td>\n",
       "      <td>155060.41</td>\n",
       "      <td>1</td>\n",
       "      <td>1</td>\n",
       "      <td>0</td>\n",
       "      <td>29179.52</td>\n",
       "      <td>0</td>\n",
       "    </tr>\n",
       "    <tr>\n",
       "      <th>9994</th>\n",
       "      <td>9995</td>\n",
       "      <td>15719294</td>\n",
       "      <td>Wood</td>\n",
       "      <td>800</td>\n",
       "      <td>France</td>\n",
       "      <td>Female</td>\n",
       "      <td>29</td>\n",
       "      <td>2.0</td>\n",
       "      <td>0.00</td>\n",
       "      <td>2</td>\n",
       "      <td>0</td>\n",
       "      <td>0</td>\n",
       "      <td>167773.55</td>\n",
       "      <td>0</td>\n",
       "    </tr>\n",
       "    <tr>\n",
       "      <th>9995</th>\n",
       "      <td>9996</td>\n",
       "      <td>15606229</td>\n",
       "      <td>Obijiaku</td>\n",
       "      <td>771</td>\n",
       "      <td>France</td>\n",
       "      <td>Male</td>\n",
       "      <td>39</td>\n",
       "      <td>5.0</td>\n",
       "      <td>0.00</td>\n",
       "      <td>2</td>\n",
       "      <td>1</td>\n",
       "      <td>0</td>\n",
       "      <td>96270.64</td>\n",
       "      <td>0</td>\n",
       "    </tr>\n",
       "    <tr>\n",
       "      <th>9996</th>\n",
       "      <td>9997</td>\n",
       "      <td>15569892</td>\n",
       "      <td>Johnstone</td>\n",
       "      <td>516</td>\n",
       "      <td>France</td>\n",
       "      <td>Male</td>\n",
       "      <td>35</td>\n",
       "      <td>10.0</td>\n",
       "      <td>57369.61</td>\n",
       "      <td>1</td>\n",
       "      <td>1</td>\n",
       "      <td>1</td>\n",
       "      <td>101699.77</td>\n",
       "      <td>0</td>\n",
       "    </tr>\n",
       "    <tr>\n",
       "      <th>9997</th>\n",
       "      <td>9998</td>\n",
       "      <td>15584532</td>\n",
       "      <td>Liu</td>\n",
       "      <td>709</td>\n",
       "      <td>France</td>\n",
       "      <td>Female</td>\n",
       "      <td>36</td>\n",
       "      <td>7.0</td>\n",
       "      <td>0.00</td>\n",
       "      <td>1</td>\n",
       "      <td>0</td>\n",
       "      <td>1</td>\n",
       "      <td>42085.58</td>\n",
       "      <td>1</td>\n",
       "    </tr>\n",
       "    <tr>\n",
       "      <th>9998</th>\n",
       "      <td>9999</td>\n",
       "      <td>15682355</td>\n",
       "      <td>Sabbatini</td>\n",
       "      <td>772</td>\n",
       "      <td>Germany</td>\n",
       "      <td>Male</td>\n",
       "      <td>42</td>\n",
       "      <td>3.0</td>\n",
       "      <td>75075.31</td>\n",
       "      <td>2</td>\n",
       "      <td>1</td>\n",
       "      <td>0</td>\n",
       "      <td>92888.52</td>\n",
       "      <td>1</td>\n",
       "    </tr>\n",
       "    <tr>\n",
       "      <th>9999</th>\n",
       "      <td>10000</td>\n",
       "      <td>15628319</td>\n",
       "      <td>Walker</td>\n",
       "      <td>792</td>\n",
       "      <td>France</td>\n",
       "      <td>Female</td>\n",
       "      <td>28</td>\n",
       "      <td>NaN</td>\n",
       "      <td>130142.79</td>\n",
       "      <td>1</td>\n",
       "      <td>1</td>\n",
       "      <td>0</td>\n",
       "      <td>38190.78</td>\n",
       "      <td>0</td>\n",
       "    </tr>\n",
       "  </tbody>\n",
       "</table>\n",
       "</div>"
      ],
      "text/plain": [
       "      RowNumber  CustomerId      Surname  CreditScore Geography  Gender  Age  \\\n",
       "9990       9991    15798964   Nkemakonam          714   Germany    Male   33   \n",
       "9991       9992    15769959  Ajuluchukwu          597    France  Female   53   \n",
       "9992       9993    15657105  Chukwualuka          726     Spain    Male   36   \n",
       "9993       9994    15569266       Rahman          644    France    Male   28   \n",
       "9994       9995    15719294         Wood          800    France  Female   29   \n",
       "9995       9996    15606229     Obijiaku          771    France    Male   39   \n",
       "9996       9997    15569892    Johnstone          516    France    Male   35   \n",
       "9997       9998    15584532          Liu          709    France  Female   36   \n",
       "9998       9999    15682355    Sabbatini          772   Germany    Male   42   \n",
       "9999      10000    15628319       Walker          792    France  Female   28   \n",
       "\n",
       "      Tenure    Balance  NumOfProducts  HasCrCard  IsActiveMember  \\\n",
       "9990     3.0   35016.60              1          1               0   \n",
       "9991     4.0   88381.21              1          1               0   \n",
       "9992     2.0       0.00              1          1               0   \n",
       "9993     7.0  155060.41              1          1               0   \n",
       "9994     2.0       0.00              2          0               0   \n",
       "9995     5.0       0.00              2          1               0   \n",
       "9996    10.0   57369.61              1          1               1   \n",
       "9997     7.0       0.00              1          0               1   \n",
       "9998     3.0   75075.31              2          1               0   \n",
       "9999     NaN  130142.79              1          1               0   \n",
       "\n",
       "      EstimatedSalary  Exited  \n",
       "9990         53667.08       0  \n",
       "9991         69384.71       1  \n",
       "9992        195192.40       0  \n",
       "9993         29179.52       0  \n",
       "9994        167773.55       0  \n",
       "9995         96270.64       0  \n",
       "9996        101699.77       0  \n",
       "9997         42085.58       1  \n",
       "9998         92888.52       1  \n",
       "9999         38190.78       0  "
      ]
     },
     "execution_count": 5,
     "metadata": {},
     "output_type": "execute_result"
    }
   ],
   "source": [
    "data.tail(10) # <вывод последних 10 строк>"
   ]
  },
  {
   "cell_type": "code",
   "execution_count": 6,
   "metadata": {},
   "outputs": [
    {
     "name": "stdout",
     "output_type": "stream",
     "text": [
      "<class 'pandas.core.frame.DataFrame'>\n",
      "RangeIndex: 10000 entries, 0 to 9999\n",
      "Data columns (total 14 columns):\n",
      " #   Column           Non-Null Count  Dtype  \n",
      "---  ------           --------------  -----  \n",
      " 0   RowNumber        10000 non-null  int64  \n",
      " 1   CustomerId       10000 non-null  int64  \n",
      " 2   Surname          10000 non-null  object \n",
      " 3   CreditScore      10000 non-null  int64  \n",
      " 4   Geography        10000 non-null  object \n",
      " 5   Gender           10000 non-null  object \n",
      " 6   Age              10000 non-null  int64  \n",
      " 7   Tenure           9091 non-null   float64\n",
      " 8   Balance          10000 non-null  float64\n",
      " 9   NumOfProducts    10000 non-null  int64  \n",
      " 10  HasCrCard        10000 non-null  int64  \n",
      " 11  IsActiveMember   10000 non-null  int64  \n",
      " 12  EstimatedSalary  10000 non-null  float64\n",
      " 13  Exited           10000 non-null  int64  \n",
      "dtypes: float64(3), int64(8), object(3)\n",
      "memory usage: 1.1+ MB\n"
     ]
    }
   ],
   "source": [
    "data.info() # <общая информация по типам данных>"
   ]
  },
  {
   "cell_type": "markdown",
   "metadata": {},
   "source": [
    "Оценим количество пропущенных значений."
   ]
  },
  {
   "cell_type": "code",
   "execution_count": 7,
   "metadata": {},
   "outputs": [
    {
     "data": {
      "text/html": [
       "<div>\n",
       "<style scoped>\n",
       "    .dataframe tbody tr th:only-of-type {\n",
       "        vertical-align: middle;\n",
       "    }\n",
       "\n",
       "    .dataframe tbody tr th {\n",
       "        vertical-align: top;\n",
       "    }\n",
       "\n",
       "    .dataframe thead th {\n",
       "        text-align: right;\n",
       "    }\n",
       "</style>\n",
       "<table border=\"1\" class=\"dataframe\">\n",
       "  <thead>\n",
       "    <tr style=\"text-align: right;\">\n",
       "      <th></th>\n",
       "      <th>missing_values</th>\n",
       "      <th>% of total</th>\n",
       "    </tr>\n",
       "  </thead>\n",
       "  <tbody>\n",
       "    <tr>\n",
       "      <th>Tenure</th>\n",
       "      <td>909</td>\n",
       "      <td>0.09</td>\n",
       "    </tr>\n",
       "    <tr>\n",
       "      <th>RowNumber</th>\n",
       "      <td>0</td>\n",
       "      <td>0.00</td>\n",
       "    </tr>\n",
       "    <tr>\n",
       "      <th>CustomerId</th>\n",
       "      <td>0</td>\n",
       "      <td>0.00</td>\n",
       "    </tr>\n",
       "    <tr>\n",
       "      <th>Surname</th>\n",
       "      <td>0</td>\n",
       "      <td>0.00</td>\n",
       "    </tr>\n",
       "    <tr>\n",
       "      <th>CreditScore</th>\n",
       "      <td>0</td>\n",
       "      <td>0.00</td>\n",
       "    </tr>\n",
       "    <tr>\n",
       "      <th>Geography</th>\n",
       "      <td>0</td>\n",
       "      <td>0.00</td>\n",
       "    </tr>\n",
       "    <tr>\n",
       "      <th>Gender</th>\n",
       "      <td>0</td>\n",
       "      <td>0.00</td>\n",
       "    </tr>\n",
       "    <tr>\n",
       "      <th>Age</th>\n",
       "      <td>0</td>\n",
       "      <td>0.00</td>\n",
       "    </tr>\n",
       "    <tr>\n",
       "      <th>Balance</th>\n",
       "      <td>0</td>\n",
       "      <td>0.00</td>\n",
       "    </tr>\n",
       "    <tr>\n",
       "      <th>NumOfProducts</th>\n",
       "      <td>0</td>\n",
       "      <td>0.00</td>\n",
       "    </tr>\n",
       "    <tr>\n",
       "      <th>HasCrCard</th>\n",
       "      <td>0</td>\n",
       "      <td>0.00</td>\n",
       "    </tr>\n",
       "    <tr>\n",
       "      <th>IsActiveMember</th>\n",
       "      <td>0</td>\n",
       "      <td>0.00</td>\n",
       "    </tr>\n",
       "    <tr>\n",
       "      <th>EstimatedSalary</th>\n",
       "      <td>0</td>\n",
       "      <td>0.00</td>\n",
       "    </tr>\n",
       "    <tr>\n",
       "      <th>Exited</th>\n",
       "      <td>0</td>\n",
       "      <td>0.00</td>\n",
       "    </tr>\n",
       "  </tbody>\n",
       "</table>\n",
       "</div>"
      ],
      "text/plain": [
       "                 missing_values  % of total\n",
       "Tenure                      909        0.09\n",
       "RowNumber                     0        0.00\n",
       "CustomerId                    0        0.00\n",
       "Surname                       0        0.00\n",
       "CreditScore                   0        0.00\n",
       "Geography                     0        0.00\n",
       "Gender                        0        0.00\n",
       "Age                           0        0.00\n",
       "Balance                       0        0.00\n",
       "NumOfProducts                 0        0.00\n",
       "HasCrCard                     0        0.00\n",
       "IsActiveMember                0        0.00\n",
       "EstimatedSalary               0        0.00\n",
       "Exited                        0        0.00"
      ]
     },
     "execution_count": 7,
     "metadata": {},
     "output_type": "execute_result"
    }
   ],
   "source": [
    "report = data.isna().sum().to_frame()\n",
    "report = report.rename(columns = {0: 'missing_values'})\n",
    "report['% of total'] = (report['missing_values'] / data.shape[0]).round(2)\n",
    "report.sort_values(by = 'missing_values', ascending = False)"
   ]
  },
  {
   "cell_type": "code",
   "execution_count": 8,
   "metadata": {},
   "outputs": [
    {
     "data": {
      "text/html": [
       "<div>\n",
       "<style scoped>\n",
       "    .dataframe tbody tr th:only-of-type {\n",
       "        vertical-align: middle;\n",
       "    }\n",
       "\n",
       "    .dataframe tbody tr th {\n",
       "        vertical-align: top;\n",
       "    }\n",
       "\n",
       "    .dataframe thead th {\n",
       "        text-align: right;\n",
       "    }\n",
       "</style>\n",
       "<table border=\"1\" class=\"dataframe\">\n",
       "  <thead>\n",
       "    <tr style=\"text-align: right;\">\n",
       "      <th></th>\n",
       "      <th>RowNumber</th>\n",
       "      <th>CustomerId</th>\n",
       "      <th>CreditScore</th>\n",
       "      <th>Age</th>\n",
       "      <th>Tenure</th>\n",
       "      <th>Balance</th>\n",
       "      <th>NumOfProducts</th>\n",
       "      <th>HasCrCard</th>\n",
       "      <th>IsActiveMember</th>\n",
       "      <th>EstimatedSalary</th>\n",
       "      <th>Exited</th>\n",
       "    </tr>\n",
       "  </thead>\n",
       "  <tbody>\n",
       "    <tr>\n",
       "      <th>count</th>\n",
       "      <td>10000.00000</td>\n",
       "      <td>1.000000e+04</td>\n",
       "      <td>10000.000000</td>\n",
       "      <td>10000.000000</td>\n",
       "      <td>9091.000000</td>\n",
       "      <td>10000.000000</td>\n",
       "      <td>10000.000000</td>\n",
       "      <td>10000.00000</td>\n",
       "      <td>10000.000000</td>\n",
       "      <td>10000.000000</td>\n",
       "      <td>10000.000000</td>\n",
       "    </tr>\n",
       "    <tr>\n",
       "      <th>mean</th>\n",
       "      <td>5000.50000</td>\n",
       "      <td>1.569094e+07</td>\n",
       "      <td>650.528800</td>\n",
       "      <td>38.921800</td>\n",
       "      <td>4.997690</td>\n",
       "      <td>76485.889288</td>\n",
       "      <td>1.530200</td>\n",
       "      <td>0.70550</td>\n",
       "      <td>0.515100</td>\n",
       "      <td>100090.239881</td>\n",
       "      <td>0.203700</td>\n",
       "    </tr>\n",
       "    <tr>\n",
       "      <th>std</th>\n",
       "      <td>2886.89568</td>\n",
       "      <td>7.193619e+04</td>\n",
       "      <td>96.653299</td>\n",
       "      <td>10.487806</td>\n",
       "      <td>2.894723</td>\n",
       "      <td>62397.405202</td>\n",
       "      <td>0.581654</td>\n",
       "      <td>0.45584</td>\n",
       "      <td>0.499797</td>\n",
       "      <td>57510.492818</td>\n",
       "      <td>0.402769</td>\n",
       "    </tr>\n",
       "    <tr>\n",
       "      <th>min</th>\n",
       "      <td>1.00000</td>\n",
       "      <td>1.556570e+07</td>\n",
       "      <td>350.000000</td>\n",
       "      <td>18.000000</td>\n",
       "      <td>0.000000</td>\n",
       "      <td>0.000000</td>\n",
       "      <td>1.000000</td>\n",
       "      <td>0.00000</td>\n",
       "      <td>0.000000</td>\n",
       "      <td>11.580000</td>\n",
       "      <td>0.000000</td>\n",
       "    </tr>\n",
       "    <tr>\n",
       "      <th>25%</th>\n",
       "      <td>2500.75000</td>\n",
       "      <td>1.562853e+07</td>\n",
       "      <td>584.000000</td>\n",
       "      <td>32.000000</td>\n",
       "      <td>2.000000</td>\n",
       "      <td>0.000000</td>\n",
       "      <td>1.000000</td>\n",
       "      <td>0.00000</td>\n",
       "      <td>0.000000</td>\n",
       "      <td>51002.110000</td>\n",
       "      <td>0.000000</td>\n",
       "    </tr>\n",
       "    <tr>\n",
       "      <th>50%</th>\n",
       "      <td>5000.50000</td>\n",
       "      <td>1.569074e+07</td>\n",
       "      <td>652.000000</td>\n",
       "      <td>37.000000</td>\n",
       "      <td>5.000000</td>\n",
       "      <td>97198.540000</td>\n",
       "      <td>1.000000</td>\n",
       "      <td>1.00000</td>\n",
       "      <td>1.000000</td>\n",
       "      <td>100193.915000</td>\n",
       "      <td>0.000000</td>\n",
       "    </tr>\n",
       "    <tr>\n",
       "      <th>75%</th>\n",
       "      <td>7500.25000</td>\n",
       "      <td>1.575323e+07</td>\n",
       "      <td>718.000000</td>\n",
       "      <td>44.000000</td>\n",
       "      <td>7.000000</td>\n",
       "      <td>127644.240000</td>\n",
       "      <td>2.000000</td>\n",
       "      <td>1.00000</td>\n",
       "      <td>1.000000</td>\n",
       "      <td>149388.247500</td>\n",
       "      <td>0.000000</td>\n",
       "    </tr>\n",
       "    <tr>\n",
       "      <th>max</th>\n",
       "      <td>10000.00000</td>\n",
       "      <td>1.581569e+07</td>\n",
       "      <td>850.000000</td>\n",
       "      <td>92.000000</td>\n",
       "      <td>10.000000</td>\n",
       "      <td>250898.090000</td>\n",
       "      <td>4.000000</td>\n",
       "      <td>1.00000</td>\n",
       "      <td>1.000000</td>\n",
       "      <td>199992.480000</td>\n",
       "      <td>1.000000</td>\n",
       "    </tr>\n",
       "  </tbody>\n",
       "</table>\n",
       "</div>"
      ],
      "text/plain": [
       "         RowNumber    CustomerId   CreditScore           Age       Tenure  \\\n",
       "count  10000.00000  1.000000e+04  10000.000000  10000.000000  9091.000000   \n",
       "mean    5000.50000  1.569094e+07    650.528800     38.921800     4.997690   \n",
       "std     2886.89568  7.193619e+04     96.653299     10.487806     2.894723   \n",
       "min        1.00000  1.556570e+07    350.000000     18.000000     0.000000   \n",
       "25%     2500.75000  1.562853e+07    584.000000     32.000000     2.000000   \n",
       "50%     5000.50000  1.569074e+07    652.000000     37.000000     5.000000   \n",
       "75%     7500.25000  1.575323e+07    718.000000     44.000000     7.000000   \n",
       "max    10000.00000  1.581569e+07    850.000000     92.000000    10.000000   \n",
       "\n",
       "             Balance  NumOfProducts    HasCrCard  IsActiveMember  \\\n",
       "count   10000.000000   10000.000000  10000.00000    10000.000000   \n",
       "mean    76485.889288       1.530200      0.70550        0.515100   \n",
       "std     62397.405202       0.581654      0.45584        0.499797   \n",
       "min         0.000000       1.000000      0.00000        0.000000   \n",
       "25%         0.000000       1.000000      0.00000        0.000000   \n",
       "50%     97198.540000       1.000000      1.00000        1.000000   \n",
       "75%    127644.240000       2.000000      1.00000        1.000000   \n",
       "max    250898.090000       4.000000      1.00000        1.000000   \n",
       "\n",
       "       EstimatedSalary        Exited  \n",
       "count     10000.000000  10000.000000  \n",
       "mean     100090.239881      0.203700  \n",
       "std       57510.492818      0.402769  \n",
       "min          11.580000      0.000000  \n",
       "25%       51002.110000      0.000000  \n",
       "50%      100193.915000      0.000000  \n",
       "75%      149388.247500      0.000000  \n",
       "max      199992.480000      1.000000  "
      ]
     },
     "execution_count": 8,
     "metadata": {},
     "output_type": "execute_result"
    }
   ],
   "source": [
    "data.describe() # <общие статистические данные>"
   ]
  },
  {
   "cell_type": "markdown",
   "metadata": {},
   "source": [
    "Проанализируем количественные признаки на попарную коллинеарность. Признаки 'RowNumber','CustomerId' исключаются из анализа, так как целевой признак не зависит от них."
   ]
  },
  {
   "cell_type": "code",
   "execution_count": 9,
   "metadata": {},
   "outputs": [
    {
     "data": {
      "image/png": "[encoded data removed]",
      "text/plain": [
       "<Figure size 1080x1080 with 81 Axes>"
      ]
     },
     "metadata": {
      "needs_background": "light"
     },
     "output_type": "display_data"
    }
   ],
   "source": [
    "pd.plotting.scatter_matrix(data.drop(['RowNumber','CustomerId'], axis=1), figsize=(15, 15))\n",
    "plt.show()"
   ]
  },
  {
   "cell_type": "markdown",
   "metadata": {},
   "source": [
    "Оценим распределения значений признаков. Напишем функцию, которая строит гистограммы."
   ]
  },
  {
   "cell_type": "code",
   "execution_count": 10,
   "metadata": {},
   "outputs": [],
   "source": [
    "# <функция построения гистограмм>\n",
    "def plot_hist(data):\n",
    "    for column in data:\n",
    "        data[column].hist(bins=100)\n",
    "        plt.title(f'Распределение значений в столбце \"{column}\"', fontsize=15)\n",
    "        plt.show()"
   ]
  },
  {
   "cell_type": "markdown",
   "metadata": {},
   "source": [
    "Построим графики по всем признакам за исключением 'RowNumber','CustomerId','Surname'. Данные признаки не оказывают влияния на целевой признак."
   ]
  },
  {
   "cell_type": "code",
   "execution_count": 11,
   "metadata": {
    "scrolled": false
   },
   "outputs": [
    {
     "data": {
      "image/png": "[encoded data removed]",
      "text/plain": [
       "<Figure size 432x288 with 1 Axes>"
      ]
     },
     "metadata": {
      "needs_background": "light"
     },
     "output_type": "display_data"
    },
    {
     "data": {
      "image/png": "[encoded data removed]",
      "text/plain": [
       "<Figure size 432x288 with 1 Axes>"
      ]
     },
     "metadata": {
      "needs_background": "light"
     },
     "output_type": "display_data"
    },
    {
     "data": {
      "image/png": "[encoded data removed]",
      "text/plain": [
       "<Figure size 432x288 with 1 Axes>"
      ]
     },
     "metadata": {
      "needs_background": "light"
     },
     "output_type": "display_data"
    },
    {
     "data": {
      "image/png": "[encoded data removed]",
      "text/plain": [
       "<Figure size 432x288 with 1 Axes>"
      ]
     },
     "metadata": {
      "needs_background": "light"
     },
     "output_type": "display_data"
    },
    {
     "data": {
      "image/png": "[encoded data removed]",
      "text/plain": [
       "<Figure size 432x288 with 1 Axes>"
      ]
     },
     "metadata": {
      "needs_background": "light"
     },
     "output_type": "display_data"
    },
    {
     "data": {
      "image/png": "[encoded data removed]",
      "text/plain": [
       "<Figure size 432x288 with 1 Axes>"
      ]
     },
     "metadata": {
      "needs_background": "light"
     },
     "output_type": "display_data"
    },
    {
     "data": {
      "image/png": "[encoded data removed]",
      "text/plain": [
       "<Figure size 432x288 with 1 Axes>"
      ]
     },
     "metadata": {
      "needs_background": "light"
     },
     "output_type": "display_data"
    },
    {
     "data": {
      "image/png": "[encoded data removed]",
      "text/plain": [
       "<Figure size 432x288 with 1 Axes>"
      ]
     },
     "metadata": {
      "needs_background": "light"
     },
     "output_type": "display_data"
    },
    {
     "data": {
      "image/png": "[encoded data removed]",
      "text/plain": [
       "<Figure size 432x288 with 1 Axes>"
      ]
     },
     "metadata": {
      "needs_background": "light"
     },
     "output_type": "display_data"
    },
    {
     "data": {
      "image/png": "[encoded data removed]",
      "text/plain": [
       "<Figure size 432x288 with 1 Axes>"
      ]
     },
     "metadata": {
      "needs_background": "light"
     },
     "output_type": "display_data"
    },
    {
     "data": {
      "image/png": "[encoded data removed]",
      "text/plain": [
       "<Figure size 432x288 with 1 Axes>"
      ]
     },
     "metadata": {
      "needs_background": "light"
     },
     "output_type": "display_data"
    }
   ],
   "source": [
    "plot_hist(data.drop(['RowNumber','CustomerId','Surname'],axis=1))"
   ]
  },
  {
   "cell_type": "markdown",
   "metadata": {},
   "source": [
    "#### 1.1 Вывод:<a id='step1.1'></a>"
   ]
  },
  {
   "cell_type": "markdown",
   "metadata": {},
   "source": [
    "- При построении модели нужно использовать не все признаки. Признаки \"RowNumber\",\"CustomerId\",\"Surname\" можно исключить из таблицы без потери качества прогнозирования. Данные признаки не могут оказывать влияния на целевой признак.\n",
    "- Присутствуют пропущенные значения в столбце \"Tenure\". Сложно сказать можно ли трактовать пропущенное значение как отсутствие недвижимости. Необходимо принять решение каким образом будут заполнены пропущенные значения.\n",
    "- Недостаточное описание значения целевого признака. Предположим, что \"0\" означает действительный договор, а \"1\" договор с клиентом расторгнут. Такое предположение можно сделать исходя из распределения значений. Клиентов с расторженным договором меньше.\n",
    "- Присутствует дисбаланс в целевом признаке. Категории распределены в отношении примерно 80% на 20%.\n",
    "- Явной линейной зависимости между признаками не обнаружено.\n",
    "- Вариантов значений в столбцах \"Geography\" и \"Gender\" немного. Необходимо преобразовать значения в категории по принципу OHE(One-Hot Encoding).\n",
    "- Значения в столбцах \"Balance\" и \"EstimatedSalary\"  можно преобразовать к типу int64 без потери качества.\n",
    "- У значений в столбце \"Tenure\" указан тип float64. Судя по всему это связано с наличием пропущенных значений.\n",
    "- Большое количество нулевых значений в столбце \"Balance\". Это не помешает обучению модели. Необходимо сообщить заказчику.\n",
    "- Большое количество клиентов с рейтингом 850. Возможно новые клиенты по умолчанию имеют максимальный кредитный рейтинг. Это не помешает обучению модели. Необходимо сообщить заказчику.\n",
    "- Клиентов, которые пользуются более чем двумя продуктами значительно меньше чем остальных.\n",
    "- Необходимо скорректировать названия столбцов согласно таблице ниже:\n",
    "\n",
    "| Старое название столбца | Новое название столбца |\n",
    "| ------------- | ------------- |\n",
    "| CreditScore | credit_score |\n",
    "| Geography | geography |\n",
    "| Gender | gender |\n",
    "| Age | age |   \n",
    "| Tenure | tenure |\n",
    "| Balance | balance |\n",
    "| NumOfProducts | num_products |\n",
    "| HasCrCard | has_card |\n",
    "| IsActiveMember | active_member |\n",
    "| EstimatedSalary | estimated_salary |\n",
    "| Exited | exited |"
   ]
  },
  {
   "cell_type": "markdown",
   "metadata": {},
   "source": [
    "### 2. Предварительная обработка данных.<a id='step2'></a>"
   ]
  },
  {
   "cell_type": "markdown",
   "metadata": {},
   "source": [
    "#### 2.1 Очистка данных.<a id='step2.1'></a>"
   ]
  },
  {
   "cell_type": "markdown",
   "metadata": {},
   "source": [
    "В таблице присутствуют данные которые не оказывают влияние на целевой признак. Лишние данные приведут к ухудшению качества прогнозирования. Удалим из таблицы столбцы \"RowNumber\",\"CustomerId\",\"Surname\"."
   ]
  },
  {
   "cell_type": "code",
   "execution_count": 12,
   "metadata": {},
   "outputs": [],
   "source": [
    "data = data.drop(['RowNumber','CustomerId','Surname'],axis=1)"
   ]
  },
  {
   "cell_type": "markdown",
   "metadata": {},
   "source": [
    "#### 2.2 Корректировка названия столбцов.<a id='step2.2'></a>"
   ]
  },
  {
   "cell_type": "markdown",
   "metadata": {},
   "source": [
    "В названиях столбцов указаны заглавные буквы, что может увеличить количество ошибок при обращении к данными. Скорректируем названия и приведем все значения к нижнему регистру. Добавим нижние подчеркивания в качестве разделителя."
   ]
  },
  {
   "cell_type": "code",
   "execution_count": 13,
   "metadata": {},
   "outputs": [],
   "source": [
    "new_column_name = ['credit_score',\n",
    "                   'geography',\n",
    "                   'gender',\n",
    "                   'age',\n",
    "                   'tenure',\n",
    "                   'balance',\n",
    "                   'num_products',\n",
    "                   'has_card',\n",
    "                   'active_member',\n",
    "                   'estimated_salary',\n",
    "                   'exited']\n",
    "data.columns = new_column_name"
   ]
  },
  {
   "cell_type": "markdown",
   "metadata": {},
   "source": [
    "#### 2.3 Обработка пропущенных значений. <a id='step2.3'></a>"
   ]
  },
  {
   "cell_type": "markdown",
   "metadata": {},
   "source": [
    "В столбце \"tenure\" присутствуют пропущенные значения, что не позволит настроить модель. Мы точно не знаем чем обусловлены пропусти. Возможно пропущенные значения равнозначны нулевому значению. Оценим количество пропущенных и нулевых значений."
   ]
  },
  {
   "cell_type": "code",
   "execution_count": 14,
   "metadata": {},
   "outputs": [
    {
     "name": "stdout",
     "output_type": "stream",
     "text": [
      "Пропущенных значений в столбце \"tenure\" 909\n",
      "Количество нулевых значений в столбце \"tenure\" 382\n"
     ]
    }
   ],
   "source": [
    "print('Пропущенных значений в столбце \"tenure\"', data['tenure'].isnull().sum())\n",
    "print('Количество нулевых значений в столбце \"tenure\"', len(data.query('tenure == 0')))"
   ]
  },
  {
   "cell_type": "markdown",
   "metadata": {},
   "source": [
    "Пропущенных значений много и потеря такого количества информации может сказаться на качестве модели. Присутствуют нулевые значения. Предположим, что отсутствие значения равнозначно нулевому значению. Это предположение очень грубое. Клиентов с нулевым значением не много относительно других вариантов значений. Возможно пропущенные значения указаны по новым клиентам. Заполним пропущенные значения нулевыми. Если у нас не получится добиться требуемого качества предсказаний, то вернемся к заполнению пропущенных значений."
   ]
  },
  {
   "cell_type": "code",
   "execution_count": 15,
   "metadata": {},
   "outputs": [],
   "source": [
    "data['tenure'] = data['tenure'].fillna(0)"
   ]
  },
  {
   "cell_type": "markdown",
   "metadata": {},
   "source": [
    "#### 2.4 Прямое кодирование строчных признаков.<a id='step2.4'></a>"
   ]
  },
  {
   "cell_type": "markdown",
   "metadata": {},
   "source": [
    "В исходных данных присутствую категориальные признаки записанные в строчной форме, столбцы \"geography\", \"gender\". Для последующего обучения модели выполним прямое кодирование. Чтобы учесть \"Дамми-ловушку\" при кодировании, зададим параметр \"drop_first=True\"."
   ]
  },
  {
   "cell_type": "code",
   "execution_count": 16,
   "metadata": {},
   "outputs": [],
   "source": [
    "data_ohe = pd.get_dummies(data, drop_first=True)"
   ]
  },
  {
   "cell_type": "code",
   "execution_count": 17,
   "metadata": {},
   "outputs": [
    {
     "data": {
      "text/html": [
       "<div>\n",
       "<style scoped>\n",
       "    .dataframe tbody tr th:only-of-type {\n",
       "        vertical-align: middle;\n",
       "    }\n",
       "\n",
       "    .dataframe tbody tr th {\n",
       "        vertical-align: top;\n",
       "    }\n",
       "\n",
       "    .dataframe thead th {\n",
       "        text-align: right;\n",
       "    }\n",
       "</style>\n",
       "<table border=\"1\" class=\"dataframe\">\n",
       "  <thead>\n",
       "    <tr style=\"text-align: right;\">\n",
       "      <th></th>\n",
       "      <th>credit_score</th>\n",
       "      <th>age</th>\n",
       "      <th>tenure</th>\n",
       "      <th>balance</th>\n",
       "      <th>num_products</th>\n",
       "      <th>has_card</th>\n",
       "      <th>active_member</th>\n",
       "      <th>estimated_salary</th>\n",
       "      <th>exited</th>\n",
       "      <th>geography_Germany</th>\n",
       "      <th>geography_Spain</th>\n",
       "      <th>gender_Male</th>\n",
       "    </tr>\n",
       "  </thead>\n",
       "  <tbody>\n",
       "    <tr>\n",
       "      <th>0</th>\n",
       "      <td>619</td>\n",
       "      <td>42</td>\n",
       "      <td>2.0</td>\n",
       "      <td>0.00</td>\n",
       "      <td>1</td>\n",
       "      <td>1</td>\n",
       "      <td>1</td>\n",
       "      <td>101348.88</td>\n",
       "      <td>1</td>\n",
       "      <td>0</td>\n",
       "      <td>0</td>\n",
       "      <td>0</td>\n",
       "    </tr>\n",
       "    <tr>\n",
       "      <th>1</th>\n",
       "      <td>608</td>\n",
       "      <td>41</td>\n",
       "      <td>1.0</td>\n",
       "      <td>83807.86</td>\n",
       "      <td>1</td>\n",
       "      <td>0</td>\n",
       "      <td>1</td>\n",
       "      <td>112542.58</td>\n",
       "      <td>0</td>\n",
       "      <td>0</td>\n",
       "      <td>1</td>\n",
       "      <td>0</td>\n",
       "    </tr>\n",
       "    <tr>\n",
       "      <th>2</th>\n",
       "      <td>502</td>\n",
       "      <td>42</td>\n",
       "      <td>8.0</td>\n",
       "      <td>159660.80</td>\n",
       "      <td>3</td>\n",
       "      <td>1</td>\n",
       "      <td>0</td>\n",
       "      <td>113931.57</td>\n",
       "      <td>1</td>\n",
       "      <td>0</td>\n",
       "      <td>0</td>\n",
       "      <td>0</td>\n",
       "    </tr>\n",
       "    <tr>\n",
       "      <th>3</th>\n",
       "      <td>699</td>\n",
       "      <td>39</td>\n",
       "      <td>1.0</td>\n",
       "      <td>0.00</td>\n",
       "      <td>2</td>\n",
       "      <td>0</td>\n",
       "      <td>0</td>\n",
       "      <td>93826.63</td>\n",
       "      <td>0</td>\n",
       "      <td>0</td>\n",
       "      <td>0</td>\n",
       "      <td>0</td>\n",
       "    </tr>\n",
       "    <tr>\n",
       "      <th>4</th>\n",
       "      <td>850</td>\n",
       "      <td>43</td>\n",
       "      <td>2.0</td>\n",
       "      <td>125510.82</td>\n",
       "      <td>1</td>\n",
       "      <td>1</td>\n",
       "      <td>1</td>\n",
       "      <td>79084.10</td>\n",
       "      <td>0</td>\n",
       "      <td>0</td>\n",
       "      <td>1</td>\n",
       "      <td>0</td>\n",
       "    </tr>\n",
       "  </tbody>\n",
       "</table>\n",
       "</div>"
      ],
      "text/plain": [
       "   credit_score  age  tenure    balance  num_products  has_card  \\\n",
       "0           619   42     2.0       0.00             1         1   \n",
       "1           608   41     1.0   83807.86             1         0   \n",
       "2           502   42     8.0  159660.80             3         1   \n",
       "3           699   39     1.0       0.00             2         0   \n",
       "4           850   43     2.0  125510.82             1         1   \n",
       "\n",
       "   active_member  estimated_salary  exited  geography_Germany  \\\n",
       "0              1         101348.88       1                  0   \n",
       "1              1         112542.58       0                  0   \n",
       "2              0         113931.57       1                  0   \n",
       "3              0          93826.63       0                  0   \n",
       "4              1          79084.10       0                  0   \n",
       "\n",
       "   geography_Spain  gender_Male  \n",
       "0                0            0  \n",
       "1                1            0  \n",
       "2                0            0  \n",
       "3                0            0  \n",
       "4                1            0  "
      ]
     },
     "execution_count": 17,
     "metadata": {},
     "output_type": "execute_result"
    }
   ],
   "source": [
    "data_ohe.head()"
   ]
  },
  {
   "cell_type": "markdown",
   "metadata": {},
   "source": [
    "Новые столбцы создались с заглавными буквами в названии. Скорректируем названия и приведем все значения к нижнему регистру. Получим в виде списка названия столбцов, а потом приведем каждое название к нижнему регистру функцией lower(). После получения скорректированного списка передадим его в качестве названия столбцов нашему dataframe."
   ]
  },
  {
   "cell_type": "code",
   "execution_count": 18,
   "metadata": {},
   "outputs": [],
   "source": [
    "column_list = list(data_ohe)\n",
    "column_list = [item.lower() for item in column_list]\n",
    "data_ohe.columns = column_list"
   ]
  },
  {
   "cell_type": "markdown",
   "metadata": {},
   "source": [
    "#### 2.5 Корректировка типов.<a id='step2.5'></a>"
   ]
  },
  {
   "cell_type": "markdown",
   "metadata": {},
   "source": [
    "В столбцах \"balance\" и \"estimated_salary\" указаны дробные значения. Такая точность нам не потребуется. Скорректируем тип и избавимся от дробной части."
   ]
  },
  {
   "cell_type": "code",
   "execution_count": 19,
   "metadata": {},
   "outputs": [],
   "source": [
    "data_ohe['balance'] = data_ohe['balance'].astype('int64')\n",
    "data_ohe['estimated_salary'] = data_ohe['estimated_salary'].astype('int64')"
   ]
  },
  {
   "cell_type": "markdown",
   "metadata": {},
   "source": [
    "#### 2.6 Обработка дубликатов.<a id='step2.6'></a>"
   ]
  },
  {
   "cell_type": "markdown",
   "metadata": {},
   "source": [
    "Проверим наличие полностью дублирующих друг друга строк в наших таблицах. Для этого воспользуемся функцией duplicated() и посчитаем сумму строк функцией sum()."
   ]
  },
  {
   "cell_type": "code",
   "execution_count": 20,
   "metadata": {},
   "outputs": [
    {
     "data": {
      "text/plain": [
       "0"
      ]
     },
     "execution_count": 20,
     "metadata": {},
     "output_type": "execute_result"
    }
   ],
   "source": [
    "data.duplicated().sum() "
   ]
  },
  {
   "cell_type": "markdown",
   "metadata": {},
   "source": [
    "Полных дубликатов не обнаружено."
   ]
  },
  {
   "cell_type": "markdown",
   "metadata": {},
   "source": [
    "### 3. Получение обучающего, валидационного, тестового набора данных.<a id='step3'></a>"
   ]
  },
  {
   "cell_type": "markdown",
   "metadata": {},
   "source": [
    "Заказчик не предоставил тестовый набор данных. Для обучения и проверки моделей есть только один набор данных. Разделим исходный набор на три части - обучающий, валидационный и тестовый. Размеры тестового и валидационного наборов будут равны. Соотношения:\n",
    "\n",
    "- 60% - обучающий\n",
    "- 20% - валидационный\n",
    "- 20% - тестовый\n",
    "\n",
    "Функция \"train_test_split\" не предусматривает разделение исходной таблицы на три части. Воспользуемся комбинацией функций \"sample\" и \"split\". Функция \"sample\" перемешает значения псевдослучайным образом, а функция \"split\" разделим в нужном нам соотношении."
   ]
  },
  {
   "cell_type": "code",
   "execution_count": 21,
   "metadata": {},
   "outputs": [],
   "source": [
    "data_train, data_validate, data_test = np.split(data_ohe.sample(frac=1, random_state=12345),\n",
    "                       [int(.6*len(data_ohe)), int(.8*len(data_ohe))])"
   ]
  },
  {
   "cell_type": "markdown",
   "metadata": {},
   "source": [
    "Проверим корректность разделения."
   ]
  },
  {
   "cell_type": "code",
   "execution_count": 22,
   "metadata": {},
   "outputs": [
    {
     "name": "stdout",
     "output_type": "stream",
     "text": [
      "Размер исходной таблицы - (10000, 12)\n",
      "Размер обучающего набора - (6000, 12)\n",
      "Размер валидационного набора - (2000, 12)\n",
      "Размер тестового набора - (2000, 12)\n"
     ]
    }
   ],
   "source": [
    "print(\"Размер исходной таблицы -\", data_ohe.shape)\n",
    "print(\"Размер обучающего набора -\", data_train.shape)\n",
    "print(\"Размер валидационного набора -\", data_validate.shape)\n",
    "print(\"Размер тестового набора -\", data_test.shape)"
   ]
  },
  {
   "cell_type": "markdown",
   "metadata": {},
   "source": [
    "### 4. Масштабирование признаков.<a id='step2.1'></a>"
   ]
  },
  {
   "cell_type": "markdown",
   "metadata": {},
   "source": [
    "Численные признаки имеют различный масштаб, что может повлиять на качество модели. Создадим объект структуры StandardScaler() и настроим его используя обучающий набор данных. Настройка — это вычисление среднего и дисперсии. Настроена будет выполняться только по численным признакам поэтому сначала создадим список с численными признаками."
   ]
  },
  {
   "cell_type": "code",
   "execution_count": 23,
   "metadata": {},
   "outputs": [],
   "source": [
    "column_list_numeric = ['credit_score','age','tenure','balance','num_products','estimated_salary']"
   ]
  },
  {
   "cell_type": "code",
   "execution_count": 24,
   "metadata": {},
   "outputs": [],
   "source": [
    "scaler = StandardScaler()"
   ]
  },
  {
   "cell_type": "code",
   "execution_count": 25,
   "metadata": {
    "scrolled": true
   },
   "outputs": [
    {
     "data": {
      "text/plain": [
       "StandardScaler()"
      ]
     },
     "execution_count": 25,
     "metadata": {},
     "output_type": "execute_result"
    }
   ],
   "source": [
    "scaler.fit(data_train[column_list_numeric])"
   ]
  },
  {
   "cell_type": "markdown",
   "metadata": {},
   "source": [
    "Выполним масштабирование признаков функцией transform()."
   ]
  },
  {
   "cell_type": "code",
   "execution_count": 26,
   "metadata": {},
   "outputs": [],
   "source": [
    "data_train[column_list_numeric] = scaler.transform(data_train[column_list_numeric])\n",
    "data_validate[column_list_numeric] = scaler.transform(data_validate[column_list_numeric]) \n",
    "data_test[column_list_numeric] = scaler.transform(data_test[column_list_numeric])"
   ]
  },
  {
   "cell_type": "markdown",
   "metadata": {},
   "source": [
    "### 5. Построение моделей.<a id='step5'></a>"
   ]
  },
  {
   "cell_type": "markdown",
   "metadata": {},
   "source": [
    "В текущем проекте необходимо решить задачу классификации. Для этого будет использоваться три вида моделей - \"дерево решений\", \"случайный лес\" и \"логистическая регрессия\". Проверим для каждой модели какие гиперпараметры обеспечивают наибольшее качество предсказаний, а так же какая модель обеспечивает наилучшее качество предсказаний.\n",
    "\n",
    "При первичном анализе был обнаружен значительный дисбаланс классов целевого признака. Построим модели без балансировки классов, и оценим качества предсказаний.\n",
    "\n",
    "Определим данные с признаками и целевым признаком для каждого набора данных."
   ]
  },
  {
   "cell_type": "code",
   "execution_count": 27,
   "metadata": {},
   "outputs": [],
   "source": [
    "features_train = data_train.drop(['exited'], axis=1)\n",
    "target_train = data_train['exited']\n",
    "features_validate = data_validate.drop(['exited'], axis=1)\n",
    "target_validate = data_validate['exited']\n",
    "features_test = data_test.drop(['exited'], axis=1)\n",
    "target_test = data_test['exited']"
   ]
  },
  {
   "cell_type": "markdown",
   "metadata": {},
   "source": [
    "Так как присутствует явный дисбаланс классов в целевом признаке, метрика Accuracy не показательна. Для определения качество модели будут использоваться метрики \"F1\" и \"ROC AUC\"(Compute Area Under the Receiver Operating Characteristic Curve)."
   ]
  },
  {
   "cell_type": "markdown",
   "metadata": {},
   "source": [
    "#### 5.1 Дерево решений.<a id='step5.1'></a>"
   ]
  },
  {
   "cell_type": "markdown",
   "metadata": {},
   "source": [
    "Построим модель \"дерева решений\" настроив ее на обучающем наборе данных. Рассчитаем значения метрик \"F1\" и \"ROC AUC\" на валидационном наборе. Выведем значения гиперпараметров при которых достигнуты наилучшие значения метрик. Замерим время выполнения командой %%time."
   ]
  },
  {
   "cell_type": "code",
   "execution_count": 28,
   "metadata": {},
   "outputs": [
    {
     "name": "stdout",
     "output_type": "stream",
     "text": [
      "Максимальное значение метрики ROC AUC 0.8113467859230572 достигнуто при глубине дерева 5\n",
      "Максимальное значение метрики F1 0.5446293494704992 достигнуто при глубине дерева 7\n",
      "Wall time: 337 ms\n"
     ]
    }
   ],
   "source": [
    "%%time\n",
    "\n",
    "best_model_tree_roc = None\n",
    "best_result_tree_roc = 0\n",
    "best_depth_tree_roc = 0\n",
    "best_model_tree_f1 = None\n",
    "best_result_tree_f1 = 0\n",
    "best_depth_tree_f1 = 0\n",
    "for depth in range(1, 15):\n",
    "    model = DecisionTreeClassifier(random_state=12345, max_depth=depth)\n",
    "    model.fit(features_train,target_train) \n",
    "    predictions_valid = model.predict(features_validate) \n",
    "    probabilities_valid = model.predict_proba(features_validate)\n",
    "    probabilities_one_valid = probabilities_valid[:, 1]\n",
    "    result_roc = roc_auc_score(target_validate, probabilities_one_valid) \n",
    "    if result_roc > best_result_tree_roc:\n",
    "        best_model_tree_roc = model\n",
    "        best_result_tree_roc = result_roc\n",
    "        best_depth_tree_roc = depth        \n",
    "    result_f1 = f1_score(target_validate,predictions_valid) \n",
    "    if result_f1 > best_result_tree_f1:\n",
    "        best_model_tree_f1 = model\n",
    "        best_result_tree_f1 = result_f1\n",
    "        best_depth_tree_f1 = depth    \n",
    "print(\"Максимальное значение метрики ROC AUC\", best_result_tree_roc, \n",
    "      \"достигнуто при глубине дерева\", best_depth_tree_roc)\n",
    "print(\"Максимальное значение метрики F1\", best_result_tree_f1, \n",
    "      \"достигнуто при глубине дерева\", best_depth_tree_f1)"
   ]
  },
  {
   "cell_type": "markdown",
   "metadata": {},
   "source": [
    "#### 5.2 Случайный лес.<a id='step5.2'></a>"
   ]
  },
  {
   "cell_type": "markdown",
   "metadata": {},
   "source": [
    "Построим модель \"случайный лес\" настроив ее на обучающем наборе данных. Рассчитаем значения метрик \"F1\" и \"ROC AUC\" на валидационном наборе. Выведем значения гиперпараметров при которых достигнуты наилучшие значения метрик. Замерим время выполнения командой %%time."
   ]
  },
  {
   "cell_type": "code",
   "execution_count": 29,
   "metadata": {},
   "outputs": [
    {
     "name": "stdout",
     "output_type": "stream",
     "text": [
      "Максимальное значение метрики ROC AUC 0.8374707527249899 достигнуто при количестве деревьев 50 и максимальной глубине 12\n",
      "Максимальное значение метрики F1 0.5553772070626003 достигнуто при количестве деревьев 50 и максимальной глубине 11\n",
      "Wall time: 11.1 s\n"
     ]
    }
   ],
   "source": [
    "%%time\n",
    "\n",
    "best_model_forest_roc = None\n",
    "best_result_forest_roc = 0\n",
    "best_depth_forest_roc = 0\n",
    "best_est_forest_roc = 0\n",
    "best_model_forest_f1 = None\n",
    "best_result_forest_f1 = 0\n",
    "best_depth_forest_f1 = 0\n",
    "best_est_forest_f1 = 0\n",
    "for est in range(10, 51, 10):\n",
    "    for depth in range (1, 15):\n",
    "        model = RandomForestClassifier(random_state=12345, max_depth=depth, n_estimators=est) \n",
    "        model.fit(features_train,target_train) \n",
    "        predictions_valid = model.predict(features_validate)           \n",
    "        probabilities_valid = model.predict_proba(features_validate)\n",
    "        probabilities_one_valid = probabilities_valid[:, 1]        \n",
    "        result_roc = roc_auc_score(target_validate, probabilities_one_valid) \n",
    "        if result_roc > best_result_forest_roc:\n",
    "            best_model_forest_roc = model\n",
    "            best_result_forest_roc = result_roc\n",
    "            best_depth_forest_roc = depth\n",
    "            best_est_forest_roc = est                        \n",
    "        result_f1 = f1_score(target_validate,predictions_valid)\n",
    "        if result_f1 > best_result_forest_f1:\n",
    "            best_model_forest_f1 = model\n",
    "            best_result_forest_f1 = result_f1\n",
    "            best_depth_forest_f1 = depth\n",
    "            best_est_forest_f1 = est\n",
    "print(\"Максимальное значение метрики ROC AUC\", best_result_forest_roc, \n",
    "      \"достигнуто при количестве деревьев\", best_est_forest_roc,\n",
    "      \"и максимальной глубине\", best_depth_forest_roc)\n",
    "print(\"Максимальное значение метрики F1\", best_result_forest_f1, \n",
    "      \"достигнуто при количестве деревьев\", best_est_forest_f1,\n",
    "      \"и максимальной глубине\", best_depth_forest_f1)"
   ]
  },
  {
   "cell_type": "markdown",
   "metadata": {},
   "source": [
    "#### 5.3 Логистическая регрессия.<a id='step5.3'></a>"
   ]
  },
  {
   "cell_type": "markdown",
   "metadata": {},
   "source": [
    "Построим модель \"логистическая регрессия\" настроив ее на обучающем наборе данных. Рассчитаем значения метрик \"F1\" и \"ROC AUC\" на валидационном наборе."
   ]
  },
  {
   "cell_type": "code",
   "execution_count": 30,
   "metadata": {},
   "outputs": [
    {
     "name": "stdout",
     "output_type": "stream",
     "text": [
      "Максимальное значение метрики ROC AUC 0.8318472555760691\n",
      "Максимальное значение метрики F1 0.5329153605015674\n"
     ]
    }
   ],
   "source": [
    "best_model_logistic = LogisticRegression(random_state=12345)\n",
    "best_model_logistic.fit(features_train, target_train)\n",
    "predictions_valid = model.predict(features_validate)\n",
    "probabilities_valid = model.predict_proba(features_validate)\n",
    "probabilities_one_valid = probabilities_valid[:, 1]\n",
    "best_result_logistic_roc = roc_auc_score(target_validate, probabilities_one_valid)\n",
    "best_result_logistic_f1 = f1_score(target_validate,predictions_valid)\n",
    "print(\"Максимальное значение метрики ROC AUC\", best_result_logistic_roc)\n",
    "print(\"Максимальное значение метрики F1\", best_result_logistic_f1)"
   ]
  },
  {
   "cell_type": "markdown",
   "metadata": {},
   "source": [
    "#### 5.4 Вывод.<a id='step5.4'></a>"
   ]
  },
  {
   "cell_type": "markdown",
   "metadata": {},
   "source": [
    "Наилучший результат метрики F1 достигнут на модели \"случайный лес\", но он не удовлетворяет требованиям заказчика. Судя по всему это связано со значительным дисбалансом классов целевого признака. Необходимо выполнить балансировку. Проверка результатов балансировки будет проводиться только на оной модели - \"случайный лес\"."
   ]
  },
  {
   "cell_type": "markdown",
   "metadata": {},
   "source": [
    "### 6. Балансировка классов.<a id='step6'></a>"
   ]
  },
  {
   "cell_type": "markdown",
   "metadata": {},
   "source": [
    "Значительный дисбаланс классов отразился на качестве моделей. Как показал предварительный анализ категории распределены примерно в отношении 80% на 20%. Рассчитаем точное отношение."
   ]
  },
  {
   "cell_type": "code",
   "execution_count": 31,
   "metadata": {},
   "outputs": [
    {
     "data": {
      "text/plain": [
       "0.25580811252040686"
      ]
     },
     "execution_count": 31,
     "metadata": {},
     "output_type": "execute_result"
    }
   ],
   "source": [
    "len(data.query('exited == 1'))/len(data.query('exited == 0')) # <отношение значений 1 к 0>"
   ]
  },
  {
   "cell_type": "code",
   "execution_count": 32,
   "metadata": {},
   "outputs": [
    {
     "data": {
      "text/plain": [
       "2037"
      ]
     },
     "execution_count": 32,
     "metadata": {},
     "output_type": "execute_result"
    }
   ],
   "source": [
    "len(data.query('exited == 1')) # <количество значений 1 в целевом признаке>"
   ]
  },
  {
   "cell_type": "code",
   "execution_count": 33,
   "metadata": {},
   "outputs": [
    {
     "data": {
      "text/plain": [
       "7963"
      ]
     },
     "execution_count": 33,
     "metadata": {},
     "output_type": "execute_result"
    }
   ],
   "source": [
    "len(data.query('exited == 0')) # <количество значений 0 в целевом признаке>"
   ]
  },
  {
   "cell_type": "markdown",
   "metadata": {},
   "source": [
    "Рассмотрим несколько методов решения проблемы дисбаланса."
   ]
  },
  {
   "cell_type": "markdown",
   "metadata": {},
   "source": [
    "#### 6.1 Балансировка увеличением веса редкого класса.<a id='step6.1'></a>"
   ]
  },
  {
   "cell_type": "markdown",
   "metadata": {},
   "source": [
    "При построении моделей можно задать гиперпараметру \"class_weight\" значение \"balanced\". При этом алгоритм посчитает, во сколько раз класс «0» встречается чаще класса «1» и задаст больший вес у класса который встречается реже. Ранее мы уже определили, что наилучший результат получается при использовании модели \"случайный лес\". Проверим как добавление гиперпараметра повлияет на качество метрик."
   ]
  },
  {
   "cell_type": "code",
   "execution_count": 34,
   "metadata": {},
   "outputs": [
    {
     "name": "stdout",
     "output_type": "stream",
     "text": [
      "Максимальное значение метрики ROC AUC 0.8405493320747558 достигнуто при количестве деревьев 50 и максимальной глубине 9\n",
      "Максимальное значение метрики F1 0.596319018404908 достигнуто при количестве деревьев 40 и максимальной глубине 10\n",
      "Wall time: 11.2 s\n"
     ]
    }
   ],
   "source": [
    "%%time\n",
    "\n",
    "best_model_forest_balance_weight_roc = None\n",
    "best_result_forest_roc = 0\n",
    "best_depth_forest_roc = 0\n",
    "best_est_forest_roc = 0\n",
    "best_model_forest_balance_weight_f1 = None\n",
    "best_result_forest_f1 = 0\n",
    "best_depth_forest_f1 = 0\n",
    "best_est_forest_f1 = 0\n",
    "for est in range(10, 51, 10):\n",
    "    for depth in range (1, 15):\n",
    "        model = RandomForestClassifier(random_state=12345, max_depth=depth, n_estimators=est, class_weight='balanced') \n",
    "        model.fit(features_train,target_train) \n",
    "        predictions_valid = model.predict(features_validate)           \n",
    "        probabilities_valid = model.predict_proba(features_validate)\n",
    "        probabilities_one_valid = probabilities_valid[:, 1]        \n",
    "        result_roc = roc_auc_score(target_validate, probabilities_one_valid) \n",
    "        if result_roc > best_result_forest_roc:\n",
    "            best_model_forest_balance_weight_roc = model\n",
    "            best_result_forest_roc = result_roc\n",
    "            best_depth_forest_roc = depth\n",
    "            best_est_forest_roc = est                        \n",
    "        result_f1 = f1_score(target_validate,predictions_valid)\n",
    "        if result_f1 > best_result_forest_f1:\n",
    "            best_model_forest_balance_weight_f1 = model\n",
    "            best_result_forest_f1 = result_f1\n",
    "            best_depth_forest_f1 = depth\n",
    "            best_est_forest_f1 = est\n",
    "print(\"Максимальное значение метрики ROC AUC\", best_result_forest_roc, \n",
    "      \"достигнуто при количестве деревьев\", best_est_forest_roc,\n",
    "      \"и максимальной глубине\", best_depth_forest_roc)\n",
    "print(\"Максимальное значение метрики F1\", best_result_forest_f1, \n",
    "      \"достигнуто при количестве деревьев\", best_est_forest_f1,\n",
    "      \"и максимальной глубине\", best_depth_forest_f1)"
   ]
  },
  {
   "cell_type": "markdown",
   "metadata": {},
   "source": [
    "Значение метрики F1 значительно выросло и уже отвечает требованиям заказчика."
   ]
  },
  {
   "cell_type": "markdown",
   "metadata": {},
   "source": [
    "#### 6.2 Балансировка увеличением набора данных редкого класса.<a id='step6.2'></a>"
   ]
  },
  {
   "cell_type": "markdown",
   "metadata": {},
   "source": [
    "Напишем функцию, которая будет увеличивать количество записей с редким классом в обучающем наборе. В нашем случае это значения \"1\" в столбце \"exited\"."
   ]
  },
  {
   "cell_type": "code",
   "execution_count": 35,
   "metadata": {},
   "outputs": [],
   "source": [
    "def upsample(features, target, repeat):\n",
    "    features_zeros = features[target == 0]\n",
    "    features_ones = features[target == 1]\n",
    "    target_zeros = target[target == 0]\n",
    "    target_ones = target[target == 1]\n",
    "\n",
    "    features_upsampled = pd.concat([features_zeros] + [features_ones] * repeat)\n",
    "    target_upsampled = pd.concat([target_zeros] + [target_ones] * repeat)\n",
    "    \n",
    "    features_upsampled, target_upsampled = shuffle(\n",
    "        features_upsampled, target_upsampled, random_state=12345)\n",
    "    \n",
    "    return features_upsampled, target_upsampled"
   ]
  },
  {
   "cell_type": "markdown",
   "metadata": {},
   "source": [
    "Увеличим количество значений редкого класса в четыре раза чтобы количество значений обоих классов было примерно одинаково."
   ]
  },
  {
   "cell_type": "code",
   "execution_count": 36,
   "metadata": {},
   "outputs": [],
   "source": [
    "features_upsampled_train, target_upsampled_train = upsample(features_train, target_train, 4)"
   ]
  },
  {
   "cell_type": "markdown",
   "metadata": {},
   "source": [
    "Оценим отношение значений в целевом признаке."
   ]
  },
  {
   "cell_type": "code",
   "execution_count": 37,
   "metadata": {},
   "outputs": [
    {
     "data": {
      "text/plain": [
       "0    4807\n",
       "1    4772\n",
       "Name: exited, dtype: int64"
      ]
     },
     "execution_count": 37,
     "metadata": {},
     "output_type": "execute_result"
    }
   ],
   "source": [
    "target_upsampled_train.value_counts()"
   ]
  },
  {
   "cell_type": "markdown",
   "metadata": {},
   "source": [
    "Построим модель, но теперь в качестве обучающего набора применим увеличенные наборы данных \"features_upsampled_train\" и \"target_upsampled_train\"."
   ]
  },
  {
   "cell_type": "code",
   "execution_count": 38,
   "metadata": {},
   "outputs": [
    {
     "name": "stdout",
     "output_type": "stream",
     "text": [
      "Максимальное значение метрики ROC AUC 0.8351309707241911 достигнуто при количестве деревьев 50 и максимальной глубине 8\n",
      "Максимальное значение метрики F1 0.5987577639751553 достигнуто при количестве деревьев 20 и максимальной глубине 13\n",
      "Wall time: 16.8 s\n"
     ]
    }
   ],
   "source": [
    "%%time\n",
    "\n",
    "best_model_forest_upsampled_roc = None\n",
    "best_result_forest_roc = 0\n",
    "best_depth_forest_roc = 0\n",
    "best_est_forest_roc = 0\n",
    "best_model_forest_upsampled_f1 = None\n",
    "best_result_forest_f1 = 0\n",
    "best_depth_forest_f1 = 0\n",
    "best_est_forest_f1 = 0\n",
    "for est in range(10, 51, 10):\n",
    "    for depth in range (1, 15):\n",
    "        model = RandomForestClassifier(random_state=12345, max_depth=depth, n_estimators=est) \n",
    "        model.fit(features_upsampled_train,target_upsampled_train)\n",
    "        predictions_valid = model.predict(features_validate)           \n",
    "        probabilities_valid = model.predict_proba(features_validate)\n",
    "        probabilities_one_valid = probabilities_valid[:, 1]        \n",
    "        result_roc = roc_auc_score(target_validate, probabilities_one_valid) \n",
    "        if result_roc > best_result_forest_roc:\n",
    "            best_model_forest_upsampled_roc = model\n",
    "            best_result_forest_roc = result_roc\n",
    "            best_depth_forest_roc = depth\n",
    "            best_est_forest_roc = est                        \n",
    "        result_f1 = f1_score(target_validate,predictions_valid)\n",
    "        if result_f1 > best_result_forest_f1:\n",
    "            best_model_forest_upsampled_f1 = model\n",
    "            best_result_forest_f1 = result_f1\n",
    "            best_depth_forest_f1 = depth\n",
    "            best_est_forest_f1 = est\n",
    "print(\"Максимальное значение метрики ROC AUC\", best_result_forest_roc, \n",
    "      \"достигнуто при количестве деревьев\", best_est_forest_roc,\n",
    "      \"и максимальной глубине\", best_depth_forest_roc)\n",
    "print(\"Максимальное значение метрики F1\", best_result_forest_f1, \n",
    "      \"достигнуто при количестве деревьев\", best_est_forest_f1,\n",
    "      \"и максимальной глубине\", best_depth_forest_f1)"
   ]
  },
  {
   "cell_type": "markdown",
   "metadata": {},
   "source": [
    "Значение метрики \"F1\" выросло незначительно по сравнению с автоматической балансировкой весов, но при этом время расчета оптимальных гиперпараметров увеличилось. Увеличение количества данных приводит к увеличению времени расчета."
   ]
  },
  {
   "cell_type": "markdown",
   "metadata": {},
   "source": [
    "#### 6.3 Балансировка уменьшением набора данных частого класса.<a id='step6.3'></a>"
   ]
  },
  {
   "cell_type": "markdown",
   "metadata": {},
   "source": [
    "Напишем функцию, которая будет уменьшать количество записей с частым классом в обучающем наборе данных. В нашем случае это значения \"0\" в столбце \"exited\"."
   ]
  },
  {
   "cell_type": "code",
   "execution_count": 39,
   "metadata": {},
   "outputs": [],
   "source": [
    "def downsample(features, target, fraction):\n",
    "    features_zeros = features[target == 0]\n",
    "    features_ones = features[target == 1]\n",
    "    target_zeros = target[target == 0]\n",
    "    target_ones = target[target == 1]\n",
    "\n",
    "    features_downsampled = pd.concat(\n",
    "        [features_zeros.sample(frac=fraction, random_state=12345)] + [features_ones])\n",
    "    target_downsampled = pd.concat(\n",
    "        [target_zeros.sample(frac=fraction, random_state=12345)] + [target_ones])\n",
    "    \n",
    "    features_downsampled, target_downsampled = shuffle(\n",
    "        features_downsampled, target_downsampled, random_state=12345)\n",
    "    \n",
    "    return features_downsampled, target_downsampled"
   ]
  },
  {
   "cell_type": "markdown",
   "metadata": {},
   "source": [
    "Уменьшим количество значений частого класса в четыре раза."
   ]
  },
  {
   "cell_type": "code",
   "execution_count": 40,
   "metadata": {},
   "outputs": [],
   "source": [
    "features_downsample_train, target_downsample_train = downsample(features_train, target_train, 0.25)"
   ]
  },
  {
   "cell_type": "markdown",
   "metadata": {},
   "source": [
    "Оценим отношение значений в целевом признаке."
   ]
  },
  {
   "cell_type": "code",
   "execution_count": 41,
   "metadata": {},
   "outputs": [
    {
     "data": {
      "text/plain": [
       "0    1202\n",
       "1    1193\n",
       "Name: exited, dtype: int64"
      ]
     },
     "execution_count": 41,
     "metadata": {},
     "output_type": "execute_result"
    }
   ],
   "source": [
    "target_downsample_train.value_counts()"
   ]
  },
  {
   "cell_type": "markdown",
   "metadata": {},
   "source": [
    "Построим модель, но теперь в качестве обучающего набора применим уменьшенные наборы данных \"features_downsample_train\" и \"target_downsample_train\"."
   ]
  },
  {
   "cell_type": "code",
   "execution_count": 42,
   "metadata": {},
   "outputs": [
    {
     "name": "stdout",
     "output_type": "stream",
     "text": [
      "Максимальное значение метрики ROC AUC 0.8363679550120229 достигнуто при количестве деревьев 40 и максимальной глубине 9\n",
      "Максимальное значение метрики F1 0.5687022900763359 достигнуто при количестве деревьев 50 и максимальной глубине 13\n",
      "Wall time: 8.33 s\n"
     ]
    }
   ],
   "source": [
    "%%time\n",
    "\n",
    "best_model_forest_downsample_roc = None\n",
    "best_result_forest_roc = 0\n",
    "best_depth_forest_roc = 0\n",
    "best_est_forest_roc = 0\n",
    "best_model_forest_downsample_f1 = None\n",
    "best_result_forest_f1 = 0\n",
    "best_depth_forest_f1 = 0\n",
    "best_est_forest_f1 = 0\n",
    "for est in range(10, 51, 10):\n",
    "    for depth in range (1, 15):\n",
    "        model = RandomForestClassifier(random_state=12345, max_depth=depth, n_estimators=est) \n",
    "        model.fit(features_downsample_train,target_downsample_train)\n",
    "        predictions_valid = model.predict(features_validate)           \n",
    "        probabilities_valid = model.predict_proba(features_validate)\n",
    "        probabilities_one_valid = probabilities_valid[:, 1]        \n",
    "        result_roc = roc_auc_score(target_validate, probabilities_one_valid) \n",
    "        if result_roc > best_result_forest_roc:\n",
    "            best_model_forest_downsample_roc = model\n",
    "            best_result_forest_roc = result_roc\n",
    "            best_depth_forest_roc = depth\n",
    "            best_est_forest_roc = est                        \n",
    "        result_f1 = f1_score(target_validate,predictions_valid)\n",
    "        if result_f1 > best_result_forest_f1:\n",
    "            best_model_forest_downsample_f1 = model\n",
    "            best_result_forest_f1 = result_f1\n",
    "            best_depth_forest_f1 = depth\n",
    "            best_est_forest_f1 = est\n",
    "print(\"Максимальное значение метрики ROC AUC\", best_result_forest_roc, \n",
    "      \"достигнуто при количестве деревьев\", best_est_forest_roc,\n",
    "      \"и максимальной глубине\", best_depth_forest_roc)\n",
    "print(\"Максимальное значение метрики F1\", best_result_forest_f1, \n",
    "      \"достигнуто при количестве деревьев\", best_est_forest_f1,\n",
    "      \"и максимальной глубине\", best_depth_forest_f1)"
   ]
  },
  {
   "cell_type": "markdown",
   "metadata": {},
   "source": [
    "Подбор оптимальных гиперпараметров занял меньше времени, но при этом значение метрики \"F1\" снизилось. Судя по всему причина в сокращении общего объема информации для обучения."
   ]
  },
  {
   "cell_type": "markdown",
   "metadata": {},
   "source": [
    "#### 6.4 Вывод.<a id='step6.4'></a>"
   ]
  },
  {
   "cell_type": "markdown",
   "metadata": {},
   "source": [
    "При подборе гиперпараметров оптимально использование метода балансировки классов за счет увеличения веса редкого класса. Данный метод не значительно увеличивает время расчета, при этом повышает качество модели. Увеличение выборки позволяет получить незначительно лучший результат, но при этом значительно увеличивает время расчета гиперпараметров."
   ]
  },
  {
   "cell_type": "markdown",
   "metadata": {},
   "source": [
    "### 7. Проверка на тестовом наборе данных.<a id='step7'></a>"
   ]
  },
  {
   "cell_type": "markdown",
   "metadata": {},
   "source": [
    "В ходе экспериментов на валидационном наборе данных была определена самая оптимальная модель и способ борьбы с дисбалансом классов целевого признака. Проверка на тестовом наборе данных будет проводиться на модели \"случайный лес\". Дисбаланс классов будет скомпенсирован автоматически за счет корректировки веса редкого класса. Глубину и количество деревьев выберем на основе метрики F1. Количество деревьев 40 и максимальная глубина 10. \n",
    "\n",
    "Перед проверкой объединим обучающий и валидационный набор данных, чтобы улучшить качество обучения. Обучение модели перед проверкой на тестовом наборе будет выполняться на объединенном наборе. Объединим обучающий и валидационный наборы данных с признаками и целевыми признаками."
   ]
  },
  {
   "cell_type": "code",
   "execution_count": 43,
   "metadata": {},
   "outputs": [],
   "source": [
    "features_train_validate = features_train.append(features_validate, ignore_index=True) #<ignore_index для добавления в конец DF>\n",
    "target_train_validate = target_train.append(target_validate, ignore_index=True)"
   ]
  },
  {
   "cell_type": "markdown",
   "metadata": {},
   "source": [
    "Обучим модель на объединенном наборе данных."
   ]
  },
  {
   "cell_type": "code",
   "execution_count": 44,
   "metadata": {},
   "outputs": [
    {
     "name": "stdout",
     "output_type": "stream",
     "text": [
      "Wall time: 394 ms\n"
     ]
    },
    {
     "data": {
      "text/plain": [
       "RandomForestClassifier(class_weight='balanced', max_depth=10, n_estimators=40,\n",
       "                       random_state=12345)"
      ]
     },
     "execution_count": 44,
     "metadata": {},
     "output_type": "execute_result"
    }
   ],
   "source": [
    "%%time\n",
    "\n",
    "best_model_forest_balance_weight_f1.fit(features_train_validate,target_train_validate) "
   ]
  },
  {
   "cell_type": "markdown",
   "metadata": {},
   "source": [
    "Рассчитаем качество предсказаний на тестовом наборе данных."
   ]
  },
  {
   "cell_type": "code",
   "execution_count": 45,
   "metadata": {
    "scrolled": true
   },
   "outputs": [
    {
     "name": "stdout",
     "output_type": "stream",
     "text": [
      "Значение метрики ROC AUC на тестовом наборе данных 0.8701654829722223\n",
      "Значение метрики F1 на тестовом наборе данных 0.6524663677130045\n"
     ]
    }
   ],
   "source": [
    "predictions_test = best_model_forest_balance_weight_f1.predict(features_test)   \n",
    "probabilities_test = best_model_forest_balance_weight_f1.predict_proba(features_test)\n",
    "probabilities_one_test = probabilities_test[:, 1]\n",
    "\n",
    "result_roc = roc_auc_score(target_test, probabilities_one_test)\n",
    "result_f1 = f1_score(target_test,predictions_test)\n",
    "\n",
    "print(\"Значение метрики ROC AUC на тестовом наборе данных\", result_roc)\n",
    "print(\"Значение метрики F1 на тестовом наборе данных\", result_f1)"
   ]
  },
  {
   "cell_type": "markdown",
   "metadata": {},
   "source": [
    "### 8. Общий вывод.<a id='step8'></a>"
   ]
  },
  {
   "cell_type": "markdown",
   "metadata": {},
   "source": [
    "Для набора данных предоставленного заказчиком справедливы следующие выводы:\n",
    "\n",
    "- Наилучшее качество на тестовом наборе данных показала модель \"случайный лес\". \n",
    "- Оптимальные гиперпараметры для модели \"случайный лес\":\n",
    "    - Количество деревьев 40.\n",
    "    - Максимальная глубина 10.\n",
    "- Судя по значению метрики \"ROC AUC\" качество предсказаний модели значительно отличается от случайной.\n",
    "- Метод увеличения веса редкого класса наиболее оптимален. Данный метод практически не оказывает влияние на длительность подбора гиперпараметров, при этом значительно увеличивает качество модели.\n",
    "\n",
    "При проверке на тестовом наборе данных получены следующие значения качества предсказаний:\n",
    "- Метрика ROC AUC: 0.87016\n",
    "- Метрика F1: 0.65246\n",
    "\n",
    "Примечание:\n",
    "\n",
    "- Присутствуют пропущенные значения в файле заказчика - столбец \"Tenure\".\n",
    "- Недостаточное описание значения целевого признака - столбец \"Exited\".\n",
    "- Большое количество нулевых значений в столбце \"Balance\".\n",
    "- Большое количество клиентов с рейтингом 850 - столбец \"CreditScore\"."
   ]
  },
  {
   "cell_type": "markdown",
   "metadata": {},
   "source": [
    "# Чек-лист готовности проекта"
   ]
  },
  {
   "cell_type": "markdown",
   "metadata": {},
   "source": [
    "Поставьте 'x' в выполненных пунктах. Далее нажмите Shift+Enter."
   ]
  },
  {
   "cell_type": "markdown",
   "metadata": {},
   "source": [
    "- [x]  Jupyter Notebook открыт\n",
    "- [x]  Весь код выполняется без ошибок\n",
    "- [x]  Ячейки с кодом расположены в порядке исполнения\n",
    "- [x]  Выполнен шаг 1: данные подготовлены\n",
    "- [x]  Выполнен шаг 2: задача исследована\n",
    "    - [x]  Исследован баланс классов\n",
    "    - [x]  Изучены модели без учёта дисбаланса\n",
    "    - [x]  Написаны выводы по результатам исследования\n",
    "- [x]  Выполнен шаг 3: учтён дисбаланс\n",
    "    - [x]  Применено несколько способов борьбы с дисбалансом\n",
    "    - [x]  Написаны выводы по результатам исследования\n",
    "- [x]  Выполнен шаг 4: проведено тестирование\n",
    "- [x]  Удалось достичь *F1*-меры не менее 0.59\n",
    "- [x]  Исследована метрика *AUC-ROC*"
   ]
  }
 ],
 "metadata": {
  "kernelspec": {
   "display_name": "Python 3",
   "language": "python",
   "name": "python3"
  },
  "language_info": {
   "codemirror_mode": {
    "name": "ipython",
    "version": 3
   },
   "file_extension": ".py",
   "mimetype": "text/x-python",
   "name": "python",
   "nbconvert_exporter": "python",
   "pygments_lexer": "ipython3",
   "version": "3.9.1"
  },
  "toc": {
   "base_numbering": 1,
   "nav_menu": {},
   "number_sections": false,
   "sideBar": true,
   "skip_h1_title": true,
   "title_cell": "Table of Contents",
   "title_sidebar": "Contents",
   "toc_cell": false,
   "toc_position": {},
   "toc_section_display": true,
   "toc_window_display": false
  }
 },
 "nbformat": 4,
 "nbformat_minor": 4
}
