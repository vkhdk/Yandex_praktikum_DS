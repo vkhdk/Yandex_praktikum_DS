{
 "cells": [
  {
   "cell_type": "markdown",
   "metadata": {},
   "source": [
    "<div class=\"alert alert-info\" role=\"alert\">\n",
    "<h2> Комментарий от автора</h2>\n",
    "На локальной машине(средний ноутбук) код проекта выполняется 13 минут.\n",
    "</div>"
   ]
  },
  {
   "cell_type": "markdown",
   "metadata": {},
   "source": [
    "# Построение модели прогнозирования коэффициента восстановления золота из золотосодержащей руды."
   ]
  },
  {
   "cell_type": "markdown",
   "metadata": {},
   "source": [
    "## Постановка задачи:"
   ]
  },
  {
   "cell_type": "markdown",
   "metadata": {},
   "source": [
    "Заказчик - Группа компаний «Цифра». Компания разрабатывает решения для эффективной работы промышленных предприятий.\n",
    "\n",
    "Задача - Подготовить прототип модели машинного обучения. Модель должна предсказать коэффициент восстановления золота из золотосодержащей руды."
   ]
  },
  {
   "cell_type": "markdown",
   "metadata": {},
   "source": [
    "## Описание исходных данных:"
   ]
  },
  {
   "cell_type": "markdown",
   "metadata": {},
   "source": [
    "Заказчиком предоставлены данные с параметрами добычи и очистки. Предоставленные данные уже разделенные на обучающий и тестовый наборы данных.\n",
    "\n",
    "Путь к файлам:\n",
    "- обучающий набор данных - /datasets/gold_recovery_train.csv\n",
    "- тестовый набор данных - /datasets/gold_recovery_test.csv\n",
    "- исходные данные - /datasets/gold_recovery_full.csv\n",
    "\n",
    "Данные индексируются датой и временем получения информации (признак \"date\").\n",
    "Некоторые параметры недоступны, потому что замеряются и/или рассчитываются значительно позже. Из-за этого в тестовой выборке отсутствуют некоторые признаки, которые могут быть в обучающей. Также в тестовом наборе нет целевых признаков."
   ]
  },
  {
   "cell_type": "markdown",
   "metadata": {},
   "source": [
    "Признакам присвоены имена согласно технологическому процессу:\n",
    "[этап].[тип_параметра].[название_параметра]\n",
    "<br>Пример: rougher.input.feed_ag\n",
    "\n",
    "Возможные значения для блока [этап]:\n",
    "- rougher — флотация\n",
    "- primary_cleaner — первичная очистка\n",
    "- secondary_cleaner — вторичная очистка\n",
    "- final — финальные характеристики\n",
    "\n",
    "Возможные значения для блока [тип_параметра]:\n",
    "- input — параметры сырья\n",
    "- output — параметры продукта\n",
    "- state — параметры, характеризующие текущее состояние этапа\n",
    "- calculation — расчётные характеристики\n",
    "\n",
    "**признаки с типами параметров \"state\" и \"calculation\" характеризуют технологический процесс и не требуют детальной интерпретации*\n",
    "\n",
    "Возможные значения для блока [название_параметра]:\n",
    "- concentrate - доля вещества в концентрате\n",
    "- recovery - эффективность обогащения\n",
    "- tail - доля вещества в отвальных хвостах\n",
    "- sulfate - количество сульфата (на данном производстве сульфид натрия)\n",
    "- depressant - количество депрессанта (силикат натрия)\n",
    "- feed size — размер гранул сырья\n",
    "- xanthate - количество ксантогената (промотер, или активатор флотации)\n",
    "- feed_rate — скорость подачи\n",
    "- feed - количество поступаемого вещества\n",
    "\n",
    "Целевые признаки:\n",
    "- rougher.output.recovery - эффективность обогащения чернового концентрата\n",
    "- final.output.recovery - эффективность обогащения финального концентрата"
   ]
  },
  {
   "cell_type": "markdown",
   "metadata": {},
   "source": [
    "## Оглавление:"
   ]
  },
  {
   "cell_type": "markdown",
   "metadata": {},
   "source": [
    "<br> [1. Анализ исходных данных.](#step1)\n",
    "<br>  - [1.1 Проверка корректности расчета эффективности обогащения.](#step1.1)\n",
    "<br>  --- [1.1.1 Вывод.](#step1.1.1)\n",
    "<br>  - [1.2 Обработка дубликатов.](#step1.2)\n",
    "<br>  - [1.3 Анализ структуры обучающего и тестового набора данных.](#step1.3)\n",
    "<br>  - [1.4 Анализ концентрации металлов (Au, Ag, Pb) на различных этапах очистки.](#step1.4)\n",
    "<br>  --- [1.4.1 Вывод.](#step1.4.1)\n",
    "<br>  - [1.5 Анализ концентрации всех веществ на разных стадиях очистки.](#step1.5)\n",
    "<br>  --- [1.5.1 Вывод.](#step1.5.1)\n",
    "<br>  - [1.6 Сравнение распределения размеров гранул сырья на обучающем и тестовом наборе данных.](#step1.6)\n",
    "<br> [2. Предобработка данных.](#step2)\n",
    "<br>  - [2.1 Обработка пропущенных значений.](#step2.1)\n",
    "<br>  - [2.2 Получение наборов данных согласно этапам технологического процесса.](#step2.2)\n",
    "<br>  - [2.3 Проверка признаков на мультиколлинеарность.](#step2.3)\n",
    "<br>  - [2.4. Отделение целевого признака от обучающих.](#step2.4)\n",
    "<br>  - [2.5 Масштабирование признаков.](#step2.5)\n",
    "<br> [3. Построение моделей.](#step3)\n",
    "<br>  - [3.1 Функция расчета sMAPE.](#step3.1)\n",
    "<br>  - [3.2 Поиск оптимальной модели и гиперпараметров.](#step3.2)\n",
    "<br>  --- [3.2.1 Вывод.](#step3.2.1)\n",
    "<br>  - [3.3 Расчет качества моделей на обучающем наборе данных.](#step3.3)\n",
    "<br>  --- [3.3.1 Линейная регресия.](#step3.3.1)\n",
    "<br>  --- [3.3.2 Дерево решений.](#step3.3.2)\n",
    "<br>  --- [3.3.3 Случайный лес.](#step3.3.3)\n",
    "<br>  --- [3.3.4 Вывод.](#step3.3.4)\n",
    "<br>  - [3.4 Проверка моделей на тестовом наборе данных.](#step3.4)\n",
    "<br>  --- [3.4.1 Вывод.](#step3.4.1)\n",
    "<br> [4. Общий вывод.](#step4)\n"
   ]
  },
  {
   "cell_type": "markdown",
   "metadata": {},
   "source": [
    "### 1. Анализ исходных данных.<a id='step1'></a>"
   ]
  },
  {
   "cell_type": "markdown",
   "metadata": {},
   "source": [
    "Импорт библиотек необходимых для проведения анализа."
   ]
  },
  {
   "cell_type": "code",
   "execution_count": 1,
   "metadata": {},
   "outputs": [],
   "source": [
    "import pandas as pd # <библиотека \"pandas\" для работы с таблицами>\n",
    "import numpy as np # <библиотека \"numpy\" для работы с числовыми значениями>\n",
    "import matplotlib.pyplot as plt # <библиотека \"matplotlib\" для работы с графиками>\n",
    "from sklearn.preprocessing import StandardScaler # <библиотека \"sklearn\" методы стандартизации>\n",
    "from sklearn.model_selection import train_test_split # <библиотека \"sklearn\" метод для разделения наборов данных>\n",
    "from sklearn.metrics import mean_squared_error # <библиотека \"sklearn\" метод для расчета среднеквадратичной ошибки>\n",
    "import re # <библиотека для работы с регулярными выражениями>\n",
    "from scipy import stats as st # <библиотека \"scipy\" для работы со статистическими методами>\n",
    "from sklearn.model_selection import cross_val_score # <библиотека \"sklearn\" метод для использования кросс-валидации>\n",
    "from sklearn.metrics import fbeta_score, make_scorer # <метод для использования собственных функций в качестве метрики качества>\n",
    "from sklearn.dummy import DummyRegressor # < модель простых правил >\n",
    "from sklearn.linear_model import LinearRegression # <библиотека \"sklearn\" линейная регрессия>\n",
    "from sklearn.tree import DecisionTreeRegressor # < модель дерево решений >\n",
    "from sklearn.ensemble import RandomForestRegressor # < модель случайный лес >\n",
    "from sklearn.model_selection import GridSearchCV # < метод для поиска оптимальных гиперпараметров >\n",
    "from sklearn.metrics import r2_score # <библиотека \"sklearn\" метрика качества r2>\n",
    "from sklearn.metrics import mean_absolute_error #<библиотека \"sklearn\" расчет MAE>\n",
    "import seaborn as sns #<импорт библиотеки \"seaborn\" для продвинутой работы с графиками>"
   ]
  },
  {
   "cell_type": "markdown",
   "metadata": {},
   "source": [
    "Загрузка файлов с данными в переменные."
   ]
  },
  {
   "cell_type": "code",
   "execution_count": 2,
   "metadata": {},
   "outputs": [],
   "source": [
    "try: # <для работы в веб форме практикума>\n",
    "    data_full = pd.read_csv('/datasets/gold_recovery_full.csv')\n",
    "    data_test = pd.read_csv('/datasets/gold_recovery_test.csv')\n",
    "    data_train = pd.read_csv('/datasets/gold_recovery_train.csv')\n",
    "    \n",
    "except: # <для работы с данными на локальной машине>  \n",
    "    data_full = pd.read_csv('c:/Job/yandex ds/DS_2/project_4/gold_recovery_full.csv')\n",
    "    data_test = pd.read_csv('c:/Job/yandex ds/DS_2/project_4/gold_recovery_test.csv')\n",
    "    data_train = pd.read_csv('c:/Job/yandex ds/DS_2/project_4/gold_recovery_train.csv')"
   ]
  },
  {
   "cell_type": "markdown",
   "metadata": {},
   "source": [
    "Для удобства работы в будущем присвоим каждой таблице имя, а так же создадим список с данными заказчика."
   ]
  },
  {
   "cell_type": "code",
   "execution_count": 3,
   "metadata": {},
   "outputs": [],
   "source": [
    "data_full.name = 'data_full'\n",
    "data_test.name = 'data_test'\n",
    "data_train.name = 'data_train'\n",
    "\n",
    "source_data_list = [data_full, data_test, data_train]"
   ]
  },
  {
   "cell_type": "markdown",
   "metadata": {},
   "source": [
    "#### 1.1 Проверка корректности расчета эффективности обогащения.<a id='step1.1'></a>"
   ]
  },
  {
   "cell_type": "markdown",
   "metadata": {},
   "source": [
    "Перед началом дальнейшего исследования проверим корректность расчета целевого признака.\n",
    "Эффективность обогащения рассчитывается по формуле:\n",
    "\n",
    "$recovery = \\frac{C*(F-T)}{F*(C-T)}*100\\%$\n",
    "\n",
    "где:\n",
    "<br>C — доля золота в концентрате после флотации/очистки;\n",
    "<br>F — доля золота в сырье/концентрате до флотации/очистки;\n",
    "<br>T — доля золота в отвальных хвостах после флотации/очистки."
   ]
  },
  {
   "cell_type": "markdown",
   "metadata": {},
   "source": [
    "Рассчитаем эффективность флотации - признак \"rougher.output.recovery\".\n",
    "<br>Применимо к имеющимся данным для расчета rougher.output.recovery потребуются следующие признаки:\n",
    "<br> C - \"rougher.output.concentrate_au\" \n",
    "<br> F - \"rougher.input.feed_au\"\n",
    "<br> T - \"rougher.output.tail_au\"\n",
    "\n",
    "Создадим функцию для расчета эффективности. Функция будет получать названия столбцов в которых содержаться параметры для расчета и возвращать серию с рассчитанной по формуле эффективностью."
   ]
  },
  {
   "cell_type": "code",
   "execution_count": 4,
   "metadata": {},
   "outputs": [],
   "source": [
    "def calculate_recovery(data,C,F,T):\n",
    "    C = data[C]\n",
    "    F = data[F]\n",
    "    T = data[T]\n",
    "    result = (C*(F-T))/(F*(C-T))*100\n",
    "    return result"
   ]
  },
  {
   "cell_type": "markdown",
   "metadata": {},
   "source": [
    "Рассчитаем среднюю абсолютную ошибку (MAE) между значением в столбце \"rougher.output.recovery_calc\" и рассчитанными по формуле. Функция \"mean_absolute_error\" может работать только с массивами без пропущенных значений. Проведем эксперимент на обучающем наборе данных. Скопируем таблицу и удалим из нее все строки содержащие пропущенные значения. "
   ]
  },
  {
   "cell_type": "code",
   "execution_count": 5,
   "metadata": {},
   "outputs": [],
   "source": [
    "data_train_recovery_mae = data_train.copy()\n",
    "data_train_recovery_mae = data_train_recovery_mae.dropna()"
   ]
  },
  {
   "cell_type": "markdown",
   "metadata": {},
   "source": [
    "Используя функцию рассчитаем эффективность."
   ]
  },
  {
   "cell_type": "code",
   "execution_count": 6,
   "metadata": {},
   "outputs": [],
   "source": [
    "calculate_recovery = calculate_recovery(data_train_recovery_mae,\n",
    "                                        'rougher.output.concentrate_au',\n",
    "                                        'rougher.input.feed_au',\n",
    "                                        'rougher.output.tail_au')"
   ]
  },
  {
   "cell_type": "markdown",
   "metadata": {},
   "source": [
    "Рассчитаем среднюю абсолютную ошибку."
   ]
  },
  {
   "cell_type": "code",
   "execution_count": 7,
   "metadata": {},
   "outputs": [
    {
     "data": {
      "text/plain": [
       "9.555596961987514e-15"
      ]
     },
     "execution_count": 7,
     "metadata": {},
     "output_type": "execute_result"
    }
   ],
   "source": [
    "mean_absolute_error(data_train_recovery_mae['rougher.output.recovery'],calculate_recovery)"
   ]
  },
  {
   "cell_type": "markdown",
   "metadata": {},
   "source": [
    "##### 1.1.1 Вывод.<a id='step1.1.1'></a>"
   ]
  },
  {
   "cell_type": "markdown",
   "metadata": {},
   "source": [
    "Значение средней абсолютной ошибки между предоставленными заказчиком данными и расчетными настолько мало, что можно считать значения одинаковыми.\n",
    "Предоставленные данные по эффективности корректны."
   ]
  },
  {
   "cell_type": "markdown",
   "metadata": {},
   "source": [
    "#### 1.2 Обработка дубликатов. <a id='step1.2'></a>"
   ]
  },
  {
   "cell_type": "markdown",
   "metadata": {},
   "source": [
    "Проверим наличие полностью дублирующих друг друга строк в наших таблицах. Для этого воспользуемся функцией \"duplicated()\" и посчитаем сумму строк функцией \"sum()\"."
   ]
  },
  {
   "cell_type": "code",
   "execution_count": 8,
   "metadata": {},
   "outputs": [
    {
     "name": "stdout",
     "output_type": "stream",
     "text": [
      "Количество полностью дублирующихся строк в таблице \"data_full\": 0\n",
      "Количество полностью дублирующихся строк в таблице \"data_test\": 0\n",
      "Количество полностью дублирующихся строк в таблице \"data_train\": 0\n"
     ]
    }
   ],
   "source": [
    "for data in source_data_list:\n",
    "    print(f'Количество полностью дублирующихся строк в таблице \"{data.name}\": {data.duplicated().sum()}')"
   ]
  },
  {
   "cell_type": "markdown",
   "metadata": {},
   "source": [
    "#### 1.3 Анализ структуры обучающего и тестового набора данных. <a id='step1.3'></a>"
   ]
  },
  {
   "cell_type": "markdown",
   "metadata": {},
   "source": [
    "Рассмотрим структуру таблиц."
   ]
  },
  {
   "cell_type": "code",
   "execution_count": 9,
   "metadata": {},
   "outputs": [
    {
     "name": "stdout",
     "output_type": "stream",
     "text": [
      "Размер таблицы data_full:(22716, 87)\n",
      "Размер таблицы data_test:(5856, 53)\n",
      "Размер таблицы data_train:(16860, 87)\n"
     ]
    }
   ],
   "source": [
    "for data in source_data_list:\n",
    "    print(f'Размер таблицы {data.name}:{data.shape}')"
   ]
  },
  {
   "cell_type": "markdown",
   "metadata": {},
   "source": [
    "В тестовом наборе данных количество признаков отличается. Получим список столбцов которых нет в тестовом наборе данных."
   ]
  },
  {
   "cell_type": "code",
   "execution_count": 10,
   "metadata": {},
   "outputs": [],
   "source": [
    "data_test_missing_columns = list(set(list(data_full)) - set(list(data_test)))"
   ]
  },
  {
   "cell_type": "markdown",
   "metadata": {},
   "source": [
    "По технологическому процессу не все признаки могут быть использованы моделью. Некоторые признаки можно получить только после анализа финальных сплавов. Тестовый набор данных содержит только те признаки, которые должна использовать модель при работе. В тестовом наборе данных отсутствуют целевые признаки."
   ]
  },
  {
   "cell_type": "markdown",
   "metadata": {},
   "source": [
    "Для проверки качества модели необходимо дополнить тестовый набор данных целевыми признаками \"rougher.output.recovery\" и \"final.output.recovery\". Скопируем список \"data_test_missing_columns\" и удалим из копии указания на целевые признаки."
   ]
  },
  {
   "cell_type": "code",
   "execution_count": 11,
   "metadata": {},
   "outputs": [],
   "source": [
    "data_test_missing_columns_no_target = data_test_missing_columns.copy()\n",
    "data_test_missing_columns_no_target.remove('rougher.output.recovery')\n",
    "data_test_missing_columns_no_target.remove('final.output.recovery')"
   ]
  },
  {
   "cell_type": "markdown",
   "metadata": {},
   "source": [
    "Создадим копию таблицы \"data_train\", но без столбцов из списка \"data_test_missing_columns_no_target\"."
   ]
  },
  {
   "cell_type": "code",
   "execution_count": 12,
   "metadata": {},
   "outputs": [],
   "source": [
    "data_train_updated = data_train.copy()\n",
    "data_train_updated = data_train_updated.drop(data_test_missing_columns_no_target, \n",
    "                                             axis=1)"
   ]
  },
  {
   "cell_type": "markdown",
   "metadata": {},
   "source": [
    "Создадим копию таблицы \"data_test\" и дополним ее целевыми признаками из исходного набора данных \"data_full\". Обогащение будет выполняться методом \"merge\". В качестве индекса будем использовать столбец \"date\"."
   ]
  },
  {
   "cell_type": "code",
   "execution_count": 13,
   "metadata": {},
   "outputs": [],
   "source": [
    "data_test_updated = data_test.copy()\n",
    "data_test_updated = data_test_updated.merge(data_full[['date',\n",
    "                                                       'final.output.recovery',\n",
    "                                                       'rougher.output.recovery']], \n",
    "                                            on='date', \n",
    "                                            how='left')"
   ]
  },
  {
   "cell_type": "markdown",
   "metadata": {},
   "source": [
    "Для дальнейшего удобства переименуем таблицы и создадим новый список с обновлёнными таблицами."
   ]
  },
  {
   "cell_type": "code",
   "execution_count": 14,
   "metadata": {},
   "outputs": [],
   "source": [
    "data_test_updated.name = 'data_test_updated'\n",
    "data_train_updated.name = 'data_train_updated'\n",
    "\n",
    "source_data_updated_list = [data_test_updated, data_train_updated]"
   ]
  },
  {
   "cell_type": "markdown",
   "metadata": {},
   "source": [
    "#### 1.4 Анализ концентрации металлов (Au, Ag, Pb) на различных этапах очистки.<a id='step1.4'></a>"
   ]
  },
  {
   "cell_type": "markdown",
   "metadata": {},
   "source": [
    "От заказчика поступило требование исследовать концентрацию металлов на различных стадиях очистки. Используя исходный набор данных рассчитаем среднее значение по всем признакам. После расчета среднего значения сбросим индексы и присвоим столбцам удобные имена."
   ]
  },
  {
   "cell_type": "code",
   "execution_count": 15,
   "metadata": {},
   "outputs": [],
   "source": [
    "data_full_mean = data_full.mean()\n",
    "data_full_mean = data_full_mean.reset_index()\n",
    "data_full_mean.columns = ['stage','value']"
   ]
  },
  {
   "cell_type": "markdown",
   "metadata": {},
   "source": [
    "Создадим списки для упорядочивания этапов очистки согласно технологическому процессу. \n",
    "<br>Список \"state_concentrate\" будет содержать стадии при которых выделяются элементы. \n",
    "<br>Список \"state_tail\" содержит стадии при которых отделяются отвалы. \n",
    "<br>Список \"metals\" содержит металлы для исследования."
   ]
  },
  {
   "cell_type": "code",
   "execution_count": 16,
   "metadata": {},
   "outputs": [],
   "source": [
    "state_concentrate = ['rougher.input',\n",
    "                     'rougher.output.concentrate',\n",
    "                     'primary_cleaner.input',\n",
    "                     'primary_cleaner.output.concentrate',\n",
    "                     'final.output.concentrate']\n",
    "\n",
    "state_tail = ['rougher.input', \n",
    "              'rougher.output.tail',\n",
    "              'primary_cleaner.output.tail',\n",
    "              'secondary_cleaner.output.tail',\n",
    "              'final.output.tail']\n",
    "\n",
    "metals = ['ag','au','pb']"
   ]
  },
  {
   "cell_type": "markdown",
   "metadata": {},
   "source": [
    "Напишем функцию для сортировки значений согласно этапу технологического процесса. \n",
    "Функция принимает в качестве параметров:\n",
    "- DataFrame со столбцами \"stage\" и \"value\".\n",
    "- Упорядоченный согласно технологическому процессу список этапов.\n",
    "- Список элементов.\n",
    "- Словарь в который будут сохранены отсортированные данные.\n",
    "\n",
    "Функция в несколько циклов обрабатывает строки в исходном DataFrame согласно спискам \"elements_list\" и \"stage_list\". Если найдена строка, которая начинается с элемента списка \"stage_list\" и заканчивается элементом списка \"elements_list\", то она сохраняется в словарь \"result_dict\"."
   ]
  },
  {
   "cell_type": "code",
   "execution_count": 17,
   "metadata": {},
   "outputs": [],
   "source": [
    "def sort_elements_by_stage (data, stage_list, elements_list, result_dict):\n",
    "    for element in elements_list:\n",
    "        local_dict = {}\n",
    "        local_dict['stage'] = []\n",
    "        local_dict[element] = []\n",
    "        \n",
    "        for state in stage_list:\n",
    "            for index, row in data.iterrows():\n",
    "                if row['stage'].startswith(state) and row['stage'].endswith(element):\n",
    "                    local_dict[element].append(row['value'])\n",
    "                    local_dict['stage'].append(row['stage'])\n",
    "                    result_dict[element]=pd.DataFrame(local_dict)    "
   ]
  },
  {
   "cell_type": "markdown",
   "metadata": {},
   "source": [
    "<div class=\"alert alert-info\" role=\"alert\">\n",
    "<h2> Комментарий от автора</h2>\n",
    "Альтернативная доработанная функция по рекомендации преподавателя. Указан в двух необрабатываемых блоках ниже.\n",
    "</div>"
   ]
  },
  {
   "cell_type": "raw",
   "metadata": {},
   "source": [
    "def sort_elements_by_stage_fix (data, state_list_selected, elements_list):\n",
    "    result_dict = {}\n",
    "    for element in elements_list:\n",
    "        local_dict = {}\n",
    "        local_dict['stage'] = []\n",
    "        local_dict[element] = []\n",
    "        for state in state_list_selected:\n",
    "            for stage in data:\n",
    "                if stage.startswith(state) and stage.endswith(element):\n",
    "                    local_dict[element].append(data[stage].mean())\n",
    "                    local_dict['stage'].append(stage)\n",
    "                    result_dict[element]=pd.DataFrame(local_dict)\n",
    "    return result_dict"
   ]
  },
  {
   "cell_type": "raw",
   "metadata": {},
   "source": [
    "metals_concentrate_dict_fix = sort_elements_by_stage_fix(data_full,state_concentrate,metals)\n",
    "metals_concentrate_dict_fix"
   ]
  },
  {
   "cell_type": "markdown",
   "metadata": {},
   "source": [
    "Создадим два пустых словаря в которых будут содержаться данные по содержанию металлов после очистки и в отвалах."
   ]
  },
  {
   "cell_type": "code",
   "execution_count": 18,
   "metadata": {},
   "outputs": [],
   "source": [
    "metals_concentrate_dict = {}\n",
    "metals_tail_dict= {}"
   ]
  },
  {
   "cell_type": "markdown",
   "metadata": {},
   "source": [
    "Дважды выполним функцию для каждого из ранее созданных словарей."
   ]
  },
  {
   "cell_type": "code",
   "execution_count": 19,
   "metadata": {},
   "outputs": [],
   "source": [
    "sort_elements_by_stage(data_full_mean,state_concentrate,metals,metals_concentrate_dict)\n",
    "sort_elements_by_stage(data_full_mean,state_tail,metals,metals_tail_dict)"
   ]
  },
  {
   "cell_type": "code",
   "execution_count": 20,
   "metadata": {},
   "outputs": [
    {
     "data": {
      "text/plain": [
       "{'ag':                                    stage         ag\n",
       " 0                  rougher.input.feed_ag   8.065715\n",
       " 1          rougher.output.concentrate_ag  10.874484\n",
       " 2  primary_cleaner.output.concentrate_ag   7.691652\n",
       " 3            final.output.concentrate_ag   4.781559,\n",
       " 'au':                                    stage         au\n",
       " 0                  rougher.input.feed_au   7.565838\n",
       " 1          rougher.output.concentrate_au  17.879538\n",
       " 2  primary_cleaner.output.concentrate_au  29.212289\n",
       " 3            final.output.concentrate_au  40.001172,\n",
       " 'pb':                                    stage        pb\n",
       " 0                  rougher.input.feed_pb  3.305676\n",
       " 1          rougher.output.concentrate_pb  6.900646\n",
       " 2  primary_cleaner.output.concentrate_pb  8.921110\n",
       " 3            final.output.concentrate_pb  9.095308}"
      ]
     },
     "execution_count": 20,
     "metadata": {},
     "output_type": "execute_result"
    }
   ],
   "source": [
    "metals_concentrate_dict"
   ]
  },
  {
   "cell_type": "markdown",
   "metadata": {},
   "source": [
    "Напишем функцию для построения графиков по данным из словарей."
   ]
  },
  {
   "cell_type": "code",
   "execution_count": 21,
   "metadata": {},
   "outputs": [],
   "source": [
    "def plot_from_dict(data_dict):\n",
    "    for data in data_dict:\n",
    "        data_dict[data].plot(x='stage', kind='bar', \n",
    "                    alpha=0.3,\n",
    "                    figsize=(10,3), \n",
    "                    sharex=False)\n",
    "        plt.xlabel('Этап технологического процесса', fontsize=10)\n",
    "        plt.ylabel('Количество элемента в пробе',fontsize=10)\n",
    "        plt.title(f'Количество элемента \"{data}\" на этапах технологического процесса', fontsize=20)\n",
    "        plt.xticks(rotation=30,fontsize=8)\n",
    "        plt.grid()\n",
    "        plt.show()"
   ]
  },
  {
   "cell_type": "markdown",
   "metadata": {},
   "source": [
    "Построим графики концентрации металлов после очистки."
   ]
  },
  {
   "cell_type": "code",
   "execution_count": 22,
   "metadata": {},
   "outputs": [
    {
     "data": {
      "image/png": "[encoded data removed]",
      "text/plain": [
       "<Figure size 720x216 with 1 Axes>"
      ]
     },
     "metadata": {
      "needs_background": "light"
     },
     "output_type": "display_data"
    },
    {
     "data": {
      "image/png": "[encoded data removed]",
      "text/plain": [
       "<Figure size 720x216 with 1 Axes>"
      ]
     },
     "metadata": {
      "needs_background": "light"
     },
     "output_type": "display_data"
    },
    {
     "data": {
      "image/png": "[encoded data removed]",
      "text/plain": [
       "<Figure size 720x216 with 1 Axes>"
      ]
     },
     "metadata": {
      "needs_background": "light"
     },
     "output_type": "display_data"
    }
   ],
   "source": [
    "plot_from_dict(metals_concentrate_dict)"
   ]
  },
  {
   "cell_type": "markdown",
   "metadata": {},
   "source": [
    "Построим графики концентрации металлов в отвалах."
   ]
  },
  {
   "cell_type": "code",
   "execution_count": 23,
   "metadata": {},
   "outputs": [
    {
     "data": {
      "image/png": "[encoded data removed]",
      "text/plain": [
       "<Figure size 720x216 with 1 Axes>"
      ]
     },
     "metadata": {
      "needs_background": "light"
     },
     "output_type": "display_data"
    },
    {
     "data": {
      "image/png": "[encoded data removed]",
      "text/plain": [
       "<Figure size 720x216 with 1 Axes>"
      ]
     },
     "metadata": {
      "needs_background": "light"
     },
     "output_type": "display_data"
    },
    {
     "data": {
      "image/png": "[encoded data removed]",
      "text/plain": [
       "<Figure size 720x216 with 1 Axes>"
      ]
     },
     "metadata": {
      "needs_background": "light"
     },
     "output_type": "display_data"
    }
   ],
   "source": [
    "plot_from_dict(metals_tail_dict)"
   ]
  },
  {
   "cell_type": "markdown",
   "metadata": {},
   "source": [
    "##### 1.4.1 Вывод.<a id='step1.4.1'></a>"
   ]
  },
  {
   "cell_type": "markdown",
   "metadata": {},
   "source": [
    "Золото:\n",
    "На каждом этапе очистки количество золота в пробах значительно увеличивается. После финальной стадии очистки количество золота в пробах в среднем увеличилось более чем в четыре раза.\n",
    "В среднем количество золота в отвалах значительно снижается относительно изначального количества в руде. При этом после каждого этапа очистки количество золота в отвалах примерно одинаковое. Незначительное увеличение количества золота в отвалах после первичной очистки можно связать с увеличением количества золота в концентрате который попадает на первичную очистку.\n",
    "\n",
    "Серебро:\n",
    "Относительно содержания в исходном сырье среднее количество серебра в концентрате после флотации увеличивается. На последующих этапах содержание серебра в концентрате падает.\n",
    "После первой стадии очистки количество серебра в отвалах резко увеличивается и становиться больше чем в исходном сырье.\n",
    "На всех этапах кроме флотации количество серебра в отвалах больше чем в исходном сырье.\n",
    "\n",
    "Свинец:\n",
    "Количество свинца в концентрате на всех стадиях очистки увеличивается относительно содержания в исходном сырье.\n",
    "Количество свинца в отвалах меняется не линейно. Больше всего свинца в отвалах после второго этапа очистки."
   ]
  },
  {
   "cell_type": "markdown",
   "metadata": {},
   "source": [
    "#### 1.5 Анализ концентрации всех веществ на разных стадиях очистки.<a id='step1.5'></a>"
   ]
  },
  {
   "cell_type": "markdown",
   "metadata": {},
   "source": [
    "От заказчика поступило требование исследовать распределение веществ в сырье, в черновом и финальном концентратах.\n",
    "Подготовим список с реагентами, которые используются при очистке."
   ]
  },
  {
   "cell_type": "code",
   "execution_count": 24,
   "metadata": {},
   "outputs": [],
   "source": [
    "reagents = ['sol', 'sulfate', 'depressant', 'xanthate' ]"
   ]
  },
  {
   "cell_type": "markdown",
   "metadata": {},
   "source": [
    "Объединим список металлов и реагентов."
   ]
  },
  {
   "cell_type": "code",
   "execution_count": 25,
   "metadata": {},
   "outputs": [],
   "source": [
    "all_elements = metals.copy()\n",
    "all_elements.extend(reagents)"
   ]
  },
  {
   "cell_type": "markdown",
   "metadata": {},
   "source": [
    "Напишем функцию по аналогии с \"sort_elements_by_stage\". \n",
    "<br>Функция \"values_by_stage\" принимает в качестве параметров: \n",
    "- DataFrame с исходными данными.\n",
    "- Упорядоченный согласно технологическому процессу список этапов.\n",
    "- Список элементов.\n",
    "- Словарь в который будут сохранены отсортированные данные.\n",
    "\n",
    "Функция отбирает столбцы из списка \"stage_list\" и сохраняет в словарь \"result_dict\" столбцы по каждому элементу из списка elements_list\"."
   ]
  },
  {
   "cell_type": "code",
   "execution_count": 26,
   "metadata": {},
   "outputs": [],
   "source": [
    "def values_by_stage (data, stage_list, elements_list, result_dict):\n",
    "    \n",
    "    for state in stage_list:\n",
    "        local_dict = {}\n",
    "        local_dict[state] = {}\n",
    "        for element in elements_list:    \n",
    "            for stage in data:\n",
    "                if stage.startswith(state) and stage.endswith(element):\n",
    "                    local_dict[state][element] = data[stage]\n",
    "                    result_dict[state] = pd.DataFrame(local_dict[state])"
   ]
  },
  {
   "cell_type": "markdown",
   "metadata": {},
   "source": [
    "Создадим пустой словарь \"values_concentrate_dict\" в котором будут содержаться DataFrame с упорядоченными признаками."
   ]
  },
  {
   "cell_type": "code",
   "execution_count": 27,
   "metadata": {},
   "outputs": [],
   "source": [
    "values_concentrate_dict = {}"
   ]
  },
  {
   "cell_type": "markdown",
   "metadata": {},
   "source": [
    "Исследуем исходный набор данных \"data_full\". Передадим функции таблицу с данными, список этапов очистки \"state_concentrate\" и список элементов \"all_elements\". "
   ]
  },
  {
   "cell_type": "code",
   "execution_count": 28,
   "metadata": {},
   "outputs": [],
   "source": [
    "values_by_stage(data_full, state_concentrate, all_elements, values_concentrate_dict)"
   ]
  },
  {
   "cell_type": "markdown",
   "metadata": {},
   "source": [
    "Отобразим гистограммы распределения величин на различных этапах."
   ]
  },
  {
   "cell_type": "code",
   "execution_count": 29,
   "metadata": {
    "scrolled": false
   },
   "outputs": [
    {
     "data": {
      "image/png": "[encoded data removed]",
      "text/plain": [
       "<Figure size 1080x432 with 1 Axes>"
      ]
     },
     "metadata": {
      "needs_background": "light"
     },
     "output_type": "display_data"
    },
    {
     "data": {
      "image/png": "[encoded data removed]",
      "text/plain": [
       "<Figure size 1080x432 with 1 Axes>"
      ]
     },
     "metadata": {
      "needs_background": "light"
     },
     "output_type": "display_data"
    },
    {
     "data": {
      "image/png": "[encoded data removed]",
      "text/plain": [
       "<Figure size 1080x432 with 1 Axes>"
      ]
     },
     "metadata": {
      "needs_background": "light"
     },
     "output_type": "display_data"
    },
    {
     "data": {
      "image/png": "[encoded data removed]",
      "text/plain": [
       "<Figure size 1080x432 with 1 Axes>"
      ]
     },
     "metadata": {
      "needs_background": "light"
     },
     "output_type": "display_data"
    },
    {
     "data": {
      "image/png": "[encoded data removed]",
      "text/plain": [
       "<Figure size 1080x432 with 1 Axes>"
      ]
     },
     "metadata": {
      "needs_background": "light"
     },
     "output_type": "display_data"
    }
   ],
   "source": [
    "for data in values_concentrate_dict:\n",
    "    values_concentrate_dict[data].plot(kind = 'hist', figsize=(15,6),bins = 300, alpha=0.3)\n",
    "    plt.xlabel('Количество вещества', fontsize=15)\n",
    "    plt.ylabel('Частота',fontsize=15)\n",
    "    plt.title(f'Распределение значений на этапе очистки \"{data}\"', fontsize=15)\n",
    "    plt.grid()\n",
    "    plt.show()"
   ]
  },
  {
   "cell_type": "markdown",
   "metadata": {},
   "source": [
    "Судя по гистограммам в исходном наборе данных присутствует большое количество значений близких к нулевому. Можно предположить, что это обусловлено отсутствием вещества в начале процесса очистки. Ограничим диапазон отображения данных на графике, и более детально рассмотрим значения близкие к нулевым."
   ]
  },
  {
   "cell_type": "code",
   "execution_count": 30,
   "metadata": {
    "scrolled": false
   },
   "outputs": [
    {
     "data": {
      "image/png": "[encoded data removed]",
      "text/plain": [
       "<Figure size 1080x432 with 1 Axes>"
      ]
     },
     "metadata": {
      "needs_background": "light"
     },
     "output_type": "display_data"
    },
    {
     "data": {
      "image/png": "[encoded data removed]",
      "text/plain": [
       "<Figure size 1080x432 with 1 Axes>"
      ]
     },
     "metadata": {
      "needs_background": "light"
     },
     "output_type": "display_data"
    },
    {
     "data": {
      "image/png": "[encoded data removed]",
      "text/plain": [
       "<Figure size 1080x432 with 1 Axes>"
      ]
     },
     "metadata": {
      "needs_background": "light"
     },
     "output_type": "display_data"
    },
    {
     "data": {
      "image/png": "[encoded data removed]",
      "text/plain": [
       "<Figure size 1080x432 with 1 Axes>"
      ]
     },
     "metadata": {
      "needs_background": "light"
     },
     "output_type": "display_data"
    },
    {
     "data": {
      "image/png": "[encoded data removed]",
      "text/plain": [
       "<Figure size 1080x432 with 1 Axes>"
      ]
     },
     "metadata": {
      "needs_background": "light"
     },
     "output_type": "display_data"
    }
   ],
   "source": [
    "for data in values_concentrate_dict:\n",
    "    values_concentrate_dict[data].plot(kind = 'hist', figsize=(15,6),bins = 300, alpha=0.3)\n",
    "    plt.xlim([0,10])\n",
    "    plt.xlabel('Количество вещества', fontsize=15)\n",
    "    plt.ylabel('Частота',fontsize=15)\n",
    "    plt.title(f'Распределение значений на этапе очистки \"{data}\"', fontsize=15)\n",
    "    plt.grid()\n",
    "    plt.show()"
   ]
  },
  {
   "cell_type": "markdown",
   "metadata": {},
   "source": [
    "Предположение подтвердилось. Присутствует большое количество нулевых значений на этапах очистки \"rougher.input\", \"rougher.output.concentrate\", \"primary_cleaner.output.concentrate\", \"final.output.concentrate\". Необходимо учесть, что данные признаки участвуют при расчете эффективности очистки. Оценим количество нулевых значений в целевых признаках."
   ]
  },
  {
   "cell_type": "code",
   "execution_count": 31,
   "metadata": {},
   "outputs": [
    {
     "name": "stdout",
     "output_type": "stream",
     "text": [
      "В исходном наборе данных целевой признак \"rougher.output.recovery\" равен нулю в 419 строках\n",
      "В исходном наборе данных целевой признак \"final.output.recovery\" равен нулю в 151 строках\n"
     ]
    }
   ],
   "source": [
    "print('В исходном наборе данных целевой признак \"rougher.output.recovery\" равен нулю в',\n",
    "      len(data_full[data_full['rougher.output.recovery'] == 0]),\n",
    "      'строках')\n",
    "print('В исходном наборе данных целевой признак \"final.output.recovery\" равен нулю в',\n",
    "      len(data_full[data_full['final.output.recovery'] == 0]),\n",
    "      'строках')"
   ]
  },
  {
   "cell_type": "markdown",
   "metadata": {},
   "source": [
    "Нулевые значения в данном случае можно считать аномалией. Необходимо удалить из наборов данных для обучения и тестирования строки в которых присутствуют нулевые значения в столбцах с целевым признаком или на этапах \"rougher.input\", \"rougher.output.concentrate\", \"primary_cleaner.output.concentrate\", \"final.output.concentrate\". Данные строки соответствую началу работы технологического процесса и не могут считаться нормальным состоянием системы."
   ]
  },
  {
   "cell_type": "markdown",
   "metadata": {},
   "source": [
    "Создадим список с указанием на столбцы из которых необходимо удалить нулевые значения. В данном случае это название этапа без окончания в котором содержится название вещества."
   ]
  },
  {
   "cell_type": "code",
   "execution_count": 32,
   "metadata": {},
   "outputs": [],
   "source": [
    "columns_drop_null = [\"rougher.input\", \n",
    "                     \"rougher.output.concentrate\", \n",
    "                     \"primary_cleaner.output.concentrate\", \n",
    "                     \"final.output.concentrate\", \n",
    "                     \"rougher.output.recovery\",\n",
    "                     \"final.output.recovery\"]"
   ]
  },
  {
   "cell_type": "markdown",
   "metadata": {},
   "source": [
    "Напишем функцию, которая перебирает указания на столбцы и получает из них список полных названий столбцов."
   ]
  },
  {
   "cell_type": "code",
   "execution_count": 33,
   "metadata": {},
   "outputs": [],
   "source": [
    "def columns_with_null (data,columns_list):\n",
    "    columns_with_null = []\n",
    "    for selected_column in columns_list:\n",
    "        for column in data:\n",
    "            if column.startswith(selected_column):\n",
    "                columns_with_null.append(column)\n",
    "    return columns_with_null"
   ]
  },
  {
   "cell_type": "markdown",
   "metadata": {},
   "source": [
    "Напишем функцию, которая определяет индексы строк с нулевыми значения хотя бы в одном из столбцов. Функция последовательно сохраняет в единый список все индексы, а потом убирает дубликаты."
   ]
  },
  {
   "cell_type": "code",
   "execution_count": 34,
   "metadata": {},
   "outputs": [],
   "source": [
    "def null_rows_indexs (data,columns_list):\n",
    "    null_rows_indexs_list = []\n",
    "    selected_columns = columns_with_null(data,columns_list)\n",
    "    for column in selected_columns:\n",
    "        drop_index = list(data.loc[data[column] == 0].index)\n",
    "        null_rows_indexs_list.extend(drop_index)\n",
    "        null_rows_indexs_list = list(set(null_rows_indexs_list))\n",
    "    return null_rows_indexs_list"
   ]
  },
  {
   "cell_type": "markdown",
   "metadata": {},
   "source": [
    "Применим функции к обучающему и тестовому набору данных и получим списки индексов."
   ]
  },
  {
   "cell_type": "code",
   "execution_count": 35,
   "metadata": {},
   "outputs": [],
   "source": [
    "drop_null_list_train_updated = null_rows_indexs(data_train_updated,columns_drop_null)\n",
    "drop_null_list_test_updated = null_rows_indexs(data_test_updated,columns_drop_null)"
   ]
  },
  {
   "cell_type": "markdown",
   "metadata": {},
   "source": [
    "Последовательно удалим строки используя список индексов."
   ]
  },
  {
   "cell_type": "code",
   "execution_count": 36,
   "metadata": {},
   "outputs": [],
   "source": [
    "data_train_updated = data_train_updated.drop(data_train_updated.index[drop_null_list_train_updated])\n",
    "data_test_updated = data_test_updated.drop(data_test_updated.index[drop_null_list_test_updated])"
   ]
  },
  {
   "cell_type": "markdown",
   "metadata": {},
   "source": [
    "##### 1.5.1 Вывод.<a id='step1.5.1'></a>"
   ]
  },
  {
   "cell_type": "markdown",
   "metadata": {},
   "source": [
    "Исследование концентрации веществ на стадиях очистки показало наличие большое количество аномальных значений. В исходном наборе данных присутствует большое количество нулевых значений. Было принято решение удалить из обучающего и тестового наборов данных строки по списку столбцов относящихся к технологическому процессу очистки. Предположительно нулевые значения появляются в момент запуска процесса очистки когда в емкости для замера еще не поступили материалы."
   ]
  },
  {
   "cell_type": "markdown",
   "metadata": {},
   "source": [
    "#### 1.6 Сравнение распределения размеров гранул сырья на обучающем и тестовом наборе данных.<a id='step1.6'></a>"
   ]
  },
  {
   "cell_type": "markdown",
   "metadata": {},
   "source": [
    "От заказчика поступила задача сравнить распределения размера гранул сырья на обучающем и тестовом наборе данных. Проанализируем графики распределения значений признаков \"rougher.input.feed_size\" и \"primary_cleaner.input.feed_size\". Сохраним в список \"boxplot_columns_list\" столбцы для сравнения. Таблицы для анализа сохранены в список \"source_data_updated_list\""
   ]
  },
  {
   "cell_type": "code",
   "execution_count": 37,
   "metadata": {},
   "outputs": [],
   "source": [
    "boxplot_columns_list = ['rougher.input.feed_size','primary_cleaner.input.feed_size']"
   ]
  },
  {
   "cell_type": "code",
   "execution_count": 38,
   "metadata": {},
   "outputs": [],
   "source": [
    "data_test_updated.name = 'data_test_updated'\n",
    "data_train_updated.name = 'data_train_updated'\n",
    "\n",
    "source_data_updated_list = [data_test_updated, data_train_updated]"
   ]
  },
  {
   "cell_type": "markdown",
   "metadata": {},
   "source": [
    "Построим графики распределения."
   ]
  },
  {
   "cell_type": "code",
   "execution_count": 39,
   "metadata": {},
   "outputs": [
    {
     "data": {
      "image/png": "[encoded data removed]",
      "text/plain": [
       "<Figure size 720x360 with 2 Axes>"
      ]
     },
     "metadata": {
      "needs_background": "light"
     },
     "output_type": "display_data"
    },
    {
     "data": {
      "image/png": "[encoded data removed]",
      "text/plain": [
       "<Figure size 720x360 with 2 Axes>"
      ]
     },
     "metadata": {
      "needs_background": "light"
     },
     "output_type": "display_data"
    },
    {
     "data": {
      "image/png": "[encoded data removed]",
      "text/plain": [
       "<Figure size 720x360 with 2 Axes>"
      ]
     },
     "metadata": {
      "needs_background": "light"
     },
     "output_type": "display_data"
    },
    {
     "data": {
      "image/png": "[encoded data removed]",
      "text/plain": [
       "<Figure size 720x360 with 2 Axes>"
      ]
     },
     "metadata": {
      "needs_background": "light"
     },
     "output_type": "display_data"
    }
   ],
   "source": [
    "for column in boxplot_columns_list:\n",
    "    for data in source_data_updated_list:\n",
    "        fig, axes = plt.subplots(2,1,figsize=(10,5))\n",
    "        axes[0].hist(data[column], bins = 200)\n",
    "        axes[0].grid()\n",
    "        axes[0].set_title(f'Распределение признака {column} в таблице {data.name}',fontsize=15)\n",
    "        sns.boxplot(x=column, data=data, orient=\"h\",showmeans=True).set(xlabel=None)\n",
    "        fig.tight_layout()\n",
    "        plt.grid()\n",
    "        plt.show()"
   ]
  },
  {
   "cell_type": "markdown",
   "metadata": {},
   "source": [
    "Признак \"rougher.input.feed_size\" распределен одинаково в обучающем и тестовом наборе. В обоих случах среднее значение равняется примерно 50. Диапазон значений судя по графику так же совпадает.\n",
    "\n",
    "Распределение признака \"primary_cleaner.input.feed_size\" так же принимают схожие значения, но в тестовом наборе присутствует большое количество выбросов в большую сторону, тогда как в обучающем присутствуют выбросы в меньшую сторону. Необходимо исключить из наборов данных единичные выбросы. Оставим только значения в пределах от 5 до 10. Напишем функцию, которая позволит оставить только значения в интервале."
   ]
  },
  {
   "cell_type": "code",
   "execution_count": 40,
   "metadata": {},
   "outputs": [],
   "source": [
    "def leave_only_in_interval(data,column,interval):\n",
    "    data_in_interval = data.loc[(data[column] >=interval[0]) &  (data[column] <=interval[1])]\n",
    "    return data_in_interval"
   ]
  },
  {
   "cell_type": "code",
   "execution_count": 41,
   "metadata": {},
   "outputs": [],
   "source": [
    "data_train_updated = leave_only_in_interval(data_train_updated,'primary_cleaner.input.feed_size',[5,10])\n",
    "data_test_updated = leave_only_in_interval(data_test_updated,'primary_cleaner.input.feed_size',[5,10])"
   ]
  },
  {
   "cell_type": "markdown",
   "metadata": {},
   "source": [
    "Оценим распределения после внесения корректировок. Перезапишем обновленные данные в список \"source_data_updated_list\" и сформируем графики."
   ]
  },
  {
   "cell_type": "code",
   "execution_count": 42,
   "metadata": {},
   "outputs": [],
   "source": [
    "data_test_updated.name = 'data_test_updated'\n",
    "data_train_updated.name = 'data_train_updated'\n",
    "\n",
    "source_data_updated_list = [data_test_updated, data_train_updated]"
   ]
  },
  {
   "cell_type": "code",
   "execution_count": 43,
   "metadata": {},
   "outputs": [
    {
     "data": {
      "image/png": "[encoded data removed]",
      "text/plain": [
       "<Figure size 720x360 with 2 Axes>"
      ]
     },
     "metadata": {
      "needs_background": "light"
     },
     "output_type": "display_data"
    },
    {
     "data": {
      "image/png": "[encoded data removed]",
      "text/plain": [
       "<Figure size 720x360 with 2 Axes>"
      ]
     },
     "metadata": {
      "needs_background": "light"
     },
     "output_type": "display_data"
    },
    {
     "data": {
      "image/png": "[encoded data removed]",
      "text/plain": [
       "<Figure size 720x360 with 2 Axes>"
      ]
     },
     "metadata": {
      "needs_background": "light"
     },
     "output_type": "display_data"
    },
    {
     "data": {
      "image/png": "[encoded data removed]",
      "text/plain": [
       "<Figure size 720x360 with 2 Axes>"
      ]
     },
     "metadata": {
      "needs_background": "light"
     },
     "output_type": "display_data"
    }
   ],
   "source": [
    "for column in boxplot_columns_list:\n",
    "    for data in source_data_updated_list:\n",
    "        fig, axes = plt.subplots(2,1,figsize=(10,5))\n",
    "        axes[0].hist(data[column], bins = 200)\n",
    "        axes[0].grid()\n",
    "        axes[0].set_title(f'Распределение признака {column} в таблице {data.name}',fontsize=15)\n",
    "        sns.boxplot(x=column, data=data, orient=\"h\",showmeans=True).set(xlabel=None)\n",
    "        fig.tight_layout()\n",
    "        plt.grid()\n",
    "        plt.show()"
   ]
  },
  {
   "cell_type": "markdown",
   "metadata": {},
   "source": [
    "Распределения в обучающем и тестовом наборах данных имеют схожий характер после удаления выбросов."
   ]
  },
  {
   "cell_type": "markdown",
   "metadata": {},
   "source": [
    "### 2. Предобработка данных.<a id='step2'></a>"
   ]
  },
  {
   "cell_type": "markdown",
   "metadata": {},
   "source": [
    "На этапе предварительного анализа были внесены изменения в обучающей и тестовый наборы данных.\n",
    "Из обучающего набора данных были исключены признаки которые можно получить только после анализа сплавов. Оставлены только признаки из тестового набора данных и целевые признаки.\n",
    "Тестовый набор был обогащен целевыми признаками.\n",
    "\n",
    "Так же из наборов данных были исключены нулевые значения и явные выбросы в признаке \"primary_cleaner.input.feed_size\".\n",
    "Для последующего обучения моделей необходимо выполнить еще ряд корректировок:\n",
    "\n",
    "1. Избавится от пропущенных значений.\n",
    "2. Разделить наборы данных на признаки относящиеся к флотации и очистке.\n",
    "3. Проверить признаки на мультиколлинеарность.\n",
    "4. Выполнить масштабирование значений.\n",
    "\n",
    "Дальнейшая работа будет выполняться с таблицами из списка \"source_data_updated_list\""
   ]
  },
  {
   "cell_type": "markdown",
   "metadata": {},
   "source": [
    "#### 2.1 Обработка пропущенных значений. <a id='step2.1'></a>"
   ]
  },
  {
   "cell_type": "markdown",
   "metadata": {},
   "source": [
    "Оценим количество пропущенных значений в таблицах. Напишем функцию, которая будет выдавать данные о пропусках в удобочитаемом виде. Функция сортирует столбцы в соответствии с количеством пропущенных значений."
   ]
  },
  {
   "cell_type": "code",
   "execution_count": 44,
   "metadata": {},
   "outputs": [],
   "source": [
    "def na_values (data):\n",
    "    report = data.isna().sum().to_frame()\n",
    "    report = report.rename(columns = {0: 'missing_values'})\n",
    "    report['% of total'] = (report['missing_values'] / data.shape[0]).round(2)\n",
    "    return report.sort_values(by = 'missing_values', ascending = False)"
   ]
  },
  {
   "cell_type": "code",
   "execution_count": 45,
   "metadata": {},
   "outputs": [
    {
     "data": {
      "text/html": [
       "<div>\n",
       "<style scoped>\n",
       "    .dataframe tbody tr th:only-of-type {\n",
       "        vertical-align: middle;\n",
       "    }\n",
       "\n",
       "    .dataframe tbody tr th {\n",
       "        vertical-align: top;\n",
       "    }\n",
       "\n",
       "    .dataframe thead th {\n",
       "        text-align: right;\n",
       "    }\n",
       "</style>\n",
       "<table border=\"1\" class=\"dataframe\">\n",
       "  <thead>\n",
       "    <tr style=\"text-align: right;\">\n",
       "      <th></th>\n",
       "      <th>missing_values</th>\n",
       "      <th>% of total</th>\n",
       "    </tr>\n",
       "  </thead>\n",
       "  <tbody>\n",
       "    <tr>\n",
       "      <th>rougher.output.recovery</th>\n",
       "      <td>155</td>\n",
       "      <td>0.03</td>\n",
       "    </tr>\n",
       "    <tr>\n",
       "      <th>final.output.recovery</th>\n",
       "      <td>71</td>\n",
       "      <td>0.01</td>\n",
       "    </tr>\n",
       "    <tr>\n",
       "      <th>rougher.input.feed_sol</th>\n",
       "      <td>59</td>\n",
       "      <td>0.01</td>\n",
       "    </tr>\n",
       "    <tr>\n",
       "      <th>rougher.input.floatbank11_xanthate</th>\n",
       "      <td>49</td>\n",
       "      <td>0.01</td>\n",
       "    </tr>\n",
       "    <tr>\n",
       "      <th>primary_cleaner.input.depressant</th>\n",
       "      <td>29</td>\n",
       "      <td>0.01</td>\n",
       "    </tr>\n",
       "    <tr>\n",
       "      <th>secondary_cleaner.state.floatbank3_a_air</th>\n",
       "      <td>28</td>\n",
       "      <td>0.01</td>\n",
       "    </tr>\n",
       "    <tr>\n",
       "      <th>rougher.input.floatbank10_sulfate</th>\n",
       "      <td>26</td>\n",
       "      <td>0.00</td>\n",
       "    </tr>\n",
       "    <tr>\n",
       "      <th>primary_cleaner.input.xanthate</th>\n",
       "      <td>25</td>\n",
       "      <td>0.00</td>\n",
       "    </tr>\n",
       "    <tr>\n",
       "      <th>primary_cleaner.input.sulfate</th>\n",
       "      <td>25</td>\n",
       "      <td>0.00</td>\n",
       "    </tr>\n",
       "    <tr>\n",
       "      <th>rougher.input.feed_rate</th>\n",
       "      <td>23</td>\n",
       "      <td>0.00</td>\n",
       "    </tr>\n",
       "    <tr>\n",
       "      <th>secondary_cleaner.state.floatbank2_b_air</th>\n",
       "      <td>20</td>\n",
       "      <td>0.00</td>\n",
       "    </tr>\n",
       "    <tr>\n",
       "      <th>rougher.input.floatbank11_sulfate</th>\n",
       "      <td>20</td>\n",
       "      <td>0.00</td>\n",
       "    </tr>\n",
       "    <tr>\n",
       "      <th>secondary_cleaner.state.floatbank2_a_air</th>\n",
       "      <td>19</td>\n",
       "      <td>0.00</td>\n",
       "    </tr>\n",
       "    <tr>\n",
       "      <th>rougher.input.floatbank10_xanthate</th>\n",
       "      <td>19</td>\n",
       "      <td>0.00</td>\n",
       "    </tr>\n",
       "    <tr>\n",
       "      <th>rougher.input.feed_size</th>\n",
       "      <td>17</td>\n",
       "      <td>0.00</td>\n",
       "    </tr>\n",
       "    <tr>\n",
       "      <th>secondary_cleaner.state.floatbank4_a_air</th>\n",
       "      <td>16</td>\n",
       "      <td>0.00</td>\n",
       "    </tr>\n",
       "    <tr>\n",
       "      <th>secondary_cleaner.state.floatbank3_a_level</th>\n",
       "      <td>16</td>\n",
       "      <td>0.00</td>\n",
       "    </tr>\n",
       "    <tr>\n",
       "      <th>secondary_cleaner.state.floatbank6_a_level</th>\n",
       "      <td>16</td>\n",
       "      <td>0.00</td>\n",
       "    </tr>\n",
       "    <tr>\n",
       "      <th>secondary_cleaner.state.floatbank2_a_level</th>\n",
       "      <td>16</td>\n",
       "      <td>0.00</td>\n",
       "    </tr>\n",
       "    <tr>\n",
       "      <th>secondary_cleaner.state.floatbank6_a_air</th>\n",
       "      <td>16</td>\n",
       "      <td>0.00</td>\n",
       "    </tr>\n",
       "    <tr>\n",
       "      <th>secondary_cleaner.state.floatbank5_b_level</th>\n",
       "      <td>16</td>\n",
       "      <td>0.00</td>\n",
       "    </tr>\n",
       "    <tr>\n",
       "      <th>secondary_cleaner.state.floatbank2_b_level</th>\n",
       "      <td>16</td>\n",
       "      <td>0.00</td>\n",
       "    </tr>\n",
       "    <tr>\n",
       "      <th>secondary_cleaner.state.floatbank5_b_air</th>\n",
       "      <td>16</td>\n",
       "      <td>0.00</td>\n",
       "    </tr>\n",
       "    <tr>\n",
       "      <th>secondary_cleaner.state.floatbank3_b_air</th>\n",
       "      <td>16</td>\n",
       "      <td>0.00</td>\n",
       "    </tr>\n",
       "    <tr>\n",
       "      <th>rougher.state.floatbank10_f_air</th>\n",
       "      <td>16</td>\n",
       "      <td>0.00</td>\n",
       "    </tr>\n",
       "    <tr>\n",
       "      <th>secondary_cleaner.state.floatbank5_a_level</th>\n",
       "      <td>16</td>\n",
       "      <td>0.00</td>\n",
       "    </tr>\n",
       "    <tr>\n",
       "      <th>secondary_cleaner.state.floatbank5_a_air</th>\n",
       "      <td>16</td>\n",
       "      <td>0.00</td>\n",
       "    </tr>\n",
       "    <tr>\n",
       "      <th>secondary_cleaner.state.floatbank4_b_level</th>\n",
       "      <td>16</td>\n",
       "      <td>0.00</td>\n",
       "    </tr>\n",
       "    <tr>\n",
       "      <th>secondary_cleaner.state.floatbank4_b_air</th>\n",
       "      <td>16</td>\n",
       "      <td>0.00</td>\n",
       "    </tr>\n",
       "    <tr>\n",
       "      <th>secondary_cleaner.state.floatbank3_b_level</th>\n",
       "      <td>16</td>\n",
       "      <td>0.00</td>\n",
       "    </tr>\n",
       "    <tr>\n",
       "      <th>secondary_cleaner.state.floatbank4_a_level</th>\n",
       "      <td>16</td>\n",
       "      <td>0.00</td>\n",
       "    </tr>\n",
       "    <tr>\n",
       "      <th>rougher.state.floatbank10_f_level</th>\n",
       "      <td>16</td>\n",
       "      <td>0.00</td>\n",
       "    </tr>\n",
       "    <tr>\n",
       "      <th>rougher.state.floatbank10_c_air</th>\n",
       "      <td>16</td>\n",
       "      <td>0.00</td>\n",
       "    </tr>\n",
       "    <tr>\n",
       "      <th>rougher.state.floatbank10_e_level</th>\n",
       "      <td>16</td>\n",
       "      <td>0.00</td>\n",
       "    </tr>\n",
       "    <tr>\n",
       "      <th>rougher.state.floatbank10_e_air</th>\n",
       "      <td>16</td>\n",
       "      <td>0.00</td>\n",
       "    </tr>\n",
       "    <tr>\n",
       "      <th>primary_cleaner.state.floatbank8_a_air</th>\n",
       "      <td>16</td>\n",
       "      <td>0.00</td>\n",
       "    </tr>\n",
       "    <tr>\n",
       "      <th>primary_cleaner.state.floatbank8_a_level</th>\n",
       "      <td>16</td>\n",
       "      <td>0.00</td>\n",
       "    </tr>\n",
       "    <tr>\n",
       "      <th>primary_cleaner.state.floatbank8_b_air</th>\n",
       "      <td>16</td>\n",
       "      <td>0.00</td>\n",
       "    </tr>\n",
       "    <tr>\n",
       "      <th>primary_cleaner.state.floatbank8_b_level</th>\n",
       "      <td>16</td>\n",
       "      <td>0.00</td>\n",
       "    </tr>\n",
       "    <tr>\n",
       "      <th>primary_cleaner.state.floatbank8_c_air</th>\n",
       "      <td>16</td>\n",
       "      <td>0.00</td>\n",
       "    </tr>\n",
       "    <tr>\n",
       "      <th>primary_cleaner.state.floatbank8_c_level</th>\n",
       "      <td>16</td>\n",
       "      <td>0.00</td>\n",
       "    </tr>\n",
       "    <tr>\n",
       "      <th>primary_cleaner.state.floatbank8_d_air</th>\n",
       "      <td>16</td>\n",
       "      <td>0.00</td>\n",
       "    </tr>\n",
       "    <tr>\n",
       "      <th>primary_cleaner.state.floatbank8_d_level</th>\n",
       "      <td>16</td>\n",
       "      <td>0.00</td>\n",
       "    </tr>\n",
       "    <tr>\n",
       "      <th>rougher.input.feed_ag</th>\n",
       "      <td>16</td>\n",
       "      <td>0.00</td>\n",
       "    </tr>\n",
       "    <tr>\n",
       "      <th>rougher.input.feed_pb</th>\n",
       "      <td>16</td>\n",
       "      <td>0.00</td>\n",
       "    </tr>\n",
       "    <tr>\n",
       "      <th>rougher.input.feed_au</th>\n",
       "      <td>16</td>\n",
       "      <td>0.00</td>\n",
       "    </tr>\n",
       "    <tr>\n",
       "      <th>rougher.state.floatbank10_a_air</th>\n",
       "      <td>16</td>\n",
       "      <td>0.00</td>\n",
       "    </tr>\n",
       "    <tr>\n",
       "      <th>rougher.state.floatbank10_a_level</th>\n",
       "      <td>16</td>\n",
       "      <td>0.00</td>\n",
       "    </tr>\n",
       "    <tr>\n",
       "      <th>rougher.state.floatbank10_b_air</th>\n",
       "      <td>16</td>\n",
       "      <td>0.00</td>\n",
       "    </tr>\n",
       "    <tr>\n",
       "      <th>rougher.state.floatbank10_b_level</th>\n",
       "      <td>16</td>\n",
       "      <td>0.00</td>\n",
       "    </tr>\n",
       "    <tr>\n",
       "      <th>rougher.state.floatbank10_c_level</th>\n",
       "      <td>16</td>\n",
       "      <td>0.00</td>\n",
       "    </tr>\n",
       "    <tr>\n",
       "      <th>rougher.state.floatbank10_d_air</th>\n",
       "      <td>16</td>\n",
       "      <td>0.00</td>\n",
       "    </tr>\n",
       "    <tr>\n",
       "      <th>rougher.state.floatbank10_d_level</th>\n",
       "      <td>16</td>\n",
       "      <td>0.00</td>\n",
       "    </tr>\n",
       "    <tr>\n",
       "      <th>primary_cleaner.input.feed_size</th>\n",
       "      <td>0</td>\n",
       "      <td>0.00</td>\n",
       "    </tr>\n",
       "    <tr>\n",
       "      <th>date</th>\n",
       "      <td>0</td>\n",
       "      <td>0.00</td>\n",
       "    </tr>\n",
       "  </tbody>\n",
       "</table>\n",
       "</div>"
      ],
      "text/plain": [
       "                                            missing_values  % of total\n",
       "rougher.output.recovery                                155        0.03\n",
       "final.output.recovery                                   71        0.01\n",
       "rougher.input.feed_sol                                  59        0.01\n",
       "rougher.input.floatbank11_xanthate                      49        0.01\n",
       "primary_cleaner.input.depressant                        29        0.01\n",
       "secondary_cleaner.state.floatbank3_a_air                28        0.01\n",
       "rougher.input.floatbank10_sulfate                       26        0.00\n",
       "primary_cleaner.input.xanthate                          25        0.00\n",
       "primary_cleaner.input.sulfate                           25        0.00\n",
       "rougher.input.feed_rate                                 23        0.00\n",
       "secondary_cleaner.state.floatbank2_b_air                20        0.00\n",
       "rougher.input.floatbank11_sulfate                       20        0.00\n",
       "secondary_cleaner.state.floatbank2_a_air                19        0.00\n",
       "rougher.input.floatbank10_xanthate                      19        0.00\n",
       "rougher.input.feed_size                                 17        0.00\n",
       "secondary_cleaner.state.floatbank4_a_air                16        0.00\n",
       "secondary_cleaner.state.floatbank3_a_level              16        0.00\n",
       "secondary_cleaner.state.floatbank6_a_level              16        0.00\n",
       "secondary_cleaner.state.floatbank2_a_level              16        0.00\n",
       "secondary_cleaner.state.floatbank6_a_air                16        0.00\n",
       "secondary_cleaner.state.floatbank5_b_level              16        0.00\n",
       "secondary_cleaner.state.floatbank2_b_level              16        0.00\n",
       "secondary_cleaner.state.floatbank5_b_air                16        0.00\n",
       "secondary_cleaner.state.floatbank3_b_air                16        0.00\n",
       "rougher.state.floatbank10_f_air                         16        0.00\n",
       "secondary_cleaner.state.floatbank5_a_level              16        0.00\n",
       "secondary_cleaner.state.floatbank5_a_air                16        0.00\n",
       "secondary_cleaner.state.floatbank4_b_level              16        0.00\n",
       "secondary_cleaner.state.floatbank4_b_air                16        0.00\n",
       "secondary_cleaner.state.floatbank3_b_level              16        0.00\n",
       "secondary_cleaner.state.floatbank4_a_level              16        0.00\n",
       "rougher.state.floatbank10_f_level                       16        0.00\n",
       "rougher.state.floatbank10_c_air                         16        0.00\n",
       "rougher.state.floatbank10_e_level                       16        0.00\n",
       "rougher.state.floatbank10_e_air                         16        0.00\n",
       "primary_cleaner.state.floatbank8_a_air                  16        0.00\n",
       "primary_cleaner.state.floatbank8_a_level                16        0.00\n",
       "primary_cleaner.state.floatbank8_b_air                  16        0.00\n",
       "primary_cleaner.state.floatbank8_b_level                16        0.00\n",
       "primary_cleaner.state.floatbank8_c_air                  16        0.00\n",
       "primary_cleaner.state.floatbank8_c_level                16        0.00\n",
       "primary_cleaner.state.floatbank8_d_air                  16        0.00\n",
       "primary_cleaner.state.floatbank8_d_level                16        0.00\n",
       "rougher.input.feed_ag                                   16        0.00\n",
       "rougher.input.feed_pb                                   16        0.00\n",
       "rougher.input.feed_au                                   16        0.00\n",
       "rougher.state.floatbank10_a_air                         16        0.00\n",
       "rougher.state.floatbank10_a_level                       16        0.00\n",
       "rougher.state.floatbank10_b_air                         16        0.00\n",
       "rougher.state.floatbank10_b_level                       16        0.00\n",
       "rougher.state.floatbank10_c_level                       16        0.00\n",
       "rougher.state.floatbank10_d_air                         16        0.00\n",
       "rougher.state.floatbank10_d_level                       16        0.00\n",
       "primary_cleaner.input.feed_size                          0        0.00\n",
       "date                                                     0        0.00"
      ]
     },
     "execution_count": 45,
     "metadata": {},
     "output_type": "execute_result"
    }
   ],
   "source": [
    "na_values(data_test_updated)"
   ]
  },
  {
   "cell_type": "code",
   "execution_count": 46,
   "metadata": {},
   "outputs": [
    {
     "data": {
      "text/html": [
       "<div>\n",
       "<style scoped>\n",
       "    .dataframe tbody tr th:only-of-type {\n",
       "        vertical-align: middle;\n",
       "    }\n",
       "\n",
       "    .dataframe tbody tr th {\n",
       "        vertical-align: top;\n",
       "    }\n",
       "\n",
       "    .dataframe thead th {\n",
       "        text-align: right;\n",
       "    }\n",
       "</style>\n",
       "<table border=\"1\" class=\"dataframe\">\n",
       "  <thead>\n",
       "    <tr style=\"text-align: right;\">\n",
       "      <th></th>\n",
       "      <th>missing_values</th>\n",
       "      <th>% of total</th>\n",
       "    </tr>\n",
       "  </thead>\n",
       "  <tbody>\n",
       "    <tr>\n",
       "      <th>rougher.output.recovery</th>\n",
       "      <td>1381</td>\n",
       "      <td>0.09</td>\n",
       "    </tr>\n",
       "    <tr>\n",
       "      <th>rougher.input.floatbank11_xanthate</th>\n",
       "      <td>858</td>\n",
       "      <td>0.06</td>\n",
       "    </tr>\n",
       "    <tr>\n",
       "      <th>rougher.state.floatbank10_e_air</th>\n",
       "      <td>493</td>\n",
       "      <td>0.03</td>\n",
       "    </tr>\n",
       "    <tr>\n",
       "      <th>primary_cleaner.input.sulfate</th>\n",
       "      <td>479</td>\n",
       "      <td>0.03</td>\n",
       "    </tr>\n",
       "    <tr>\n",
       "      <th>rougher.input.floatbank10_sulfate</th>\n",
       "      <td>451</td>\n",
       "      <td>0.03</td>\n",
       "    </tr>\n",
       "    <tr>\n",
       "      <th>rougher.input.floatbank11_sulfate</th>\n",
       "      <td>401</td>\n",
       "      <td>0.03</td>\n",
       "    </tr>\n",
       "    <tr>\n",
       "      <th>primary_cleaner.input.depressant</th>\n",
       "      <td>362</td>\n",
       "      <td>0.02</td>\n",
       "    </tr>\n",
       "    <tr>\n",
       "      <th>primary_cleaner.input.xanthate</th>\n",
       "      <td>355</td>\n",
       "      <td>0.02</td>\n",
       "    </tr>\n",
       "    <tr>\n",
       "      <th>final.output.recovery</th>\n",
       "      <td>339</td>\n",
       "      <td>0.02</td>\n",
       "    </tr>\n",
       "    <tr>\n",
       "      <th>secondary_cleaner.state.floatbank2_a_air</th>\n",
       "      <td>315</td>\n",
       "      <td>0.02</td>\n",
       "    </tr>\n",
       "    <tr>\n",
       "      <th>rougher.input.feed_rate</th>\n",
       "      <td>306</td>\n",
       "      <td>0.02</td>\n",
       "    </tr>\n",
       "    <tr>\n",
       "      <th>rougher.input.feed_sol</th>\n",
       "      <td>272</td>\n",
       "      <td>0.02</td>\n",
       "    </tr>\n",
       "    <tr>\n",
       "      <th>rougher.input.feed_pb</th>\n",
       "      <td>227</td>\n",
       "      <td>0.01</td>\n",
       "    </tr>\n",
       "    <tr>\n",
       "      <th>rougher.input.feed_size</th>\n",
       "      <td>222</td>\n",
       "      <td>0.01</td>\n",
       "    </tr>\n",
       "    <tr>\n",
       "      <th>rougher.input.floatbank10_xanthate</th>\n",
       "      <td>145</td>\n",
       "      <td>0.01</td>\n",
       "    </tr>\n",
       "    <tr>\n",
       "      <th>secondary_cleaner.state.floatbank2_b_air</th>\n",
       "      <td>107</td>\n",
       "      <td>0.01</td>\n",
       "    </tr>\n",
       "    <tr>\n",
       "      <th>secondary_cleaner.state.floatbank3_a_air</th>\n",
       "      <td>88</td>\n",
       "      <td>0.01</td>\n",
       "    </tr>\n",
       "    <tr>\n",
       "      <th>secondary_cleaner.state.floatbank4_a_air</th>\n",
       "      <td>87</td>\n",
       "      <td>0.01</td>\n",
       "    </tr>\n",
       "    <tr>\n",
       "      <th>secondary_cleaner.state.floatbank6_a_air</th>\n",
       "      <td>86</td>\n",
       "      <td>0.01</td>\n",
       "    </tr>\n",
       "    <tr>\n",
       "      <th>rougher.input.feed_au</th>\n",
       "      <td>83</td>\n",
       "      <td>0.01</td>\n",
       "    </tr>\n",
       "    <tr>\n",
       "      <th>rougher.input.feed_ag</th>\n",
       "      <td>82</td>\n",
       "      <td>0.01</td>\n",
       "    </tr>\n",
       "    <tr>\n",
       "      <th>secondary_cleaner.state.floatbank3_b_air</th>\n",
       "      <td>82</td>\n",
       "      <td>0.01</td>\n",
       "    </tr>\n",
       "    <tr>\n",
       "      <th>secondary_cleaner.state.floatbank2_a_level</th>\n",
       "      <td>82</td>\n",
       "      <td>0.01</td>\n",
       "    </tr>\n",
       "    <tr>\n",
       "      <th>secondary_cleaner.state.floatbank2_b_level</th>\n",
       "      <td>82</td>\n",
       "      <td>0.01</td>\n",
       "    </tr>\n",
       "    <tr>\n",
       "      <th>secondary_cleaner.state.floatbank3_a_level</th>\n",
       "      <td>82</td>\n",
       "      <td>0.01</td>\n",
       "    </tr>\n",
       "    <tr>\n",
       "      <th>secondary_cleaner.state.floatbank5_b_level</th>\n",
       "      <td>82</td>\n",
       "      <td>0.01</td>\n",
       "    </tr>\n",
       "    <tr>\n",
       "      <th>secondary_cleaner.state.floatbank5_b_air</th>\n",
       "      <td>82</td>\n",
       "      <td>0.01</td>\n",
       "    </tr>\n",
       "    <tr>\n",
       "      <th>secondary_cleaner.state.floatbank3_b_level</th>\n",
       "      <td>82</td>\n",
       "      <td>0.01</td>\n",
       "    </tr>\n",
       "    <tr>\n",
       "      <th>secondary_cleaner.state.floatbank5_a_level</th>\n",
       "      <td>82</td>\n",
       "      <td>0.01</td>\n",
       "    </tr>\n",
       "    <tr>\n",
       "      <th>secondary_cleaner.state.floatbank5_a_air</th>\n",
       "      <td>82</td>\n",
       "      <td>0.01</td>\n",
       "    </tr>\n",
       "    <tr>\n",
       "      <th>secondary_cleaner.state.floatbank4_b_level</th>\n",
       "      <td>82</td>\n",
       "      <td>0.01</td>\n",
       "    </tr>\n",
       "    <tr>\n",
       "      <th>secondary_cleaner.state.floatbank4_b_air</th>\n",
       "      <td>82</td>\n",
       "      <td>0.01</td>\n",
       "    </tr>\n",
       "    <tr>\n",
       "      <th>secondary_cleaner.state.floatbank4_a_level</th>\n",
       "      <td>82</td>\n",
       "      <td>0.01</td>\n",
       "    </tr>\n",
       "    <tr>\n",
       "      <th>secondary_cleaner.state.floatbank6_a_level</th>\n",
       "      <td>82</td>\n",
       "      <td>0.01</td>\n",
       "    </tr>\n",
       "    <tr>\n",
       "      <th>rougher.state.floatbank10_f_level</th>\n",
       "      <td>40</td>\n",
       "      <td>0.00</td>\n",
       "    </tr>\n",
       "    <tr>\n",
       "      <th>rougher.state.floatbank10_b_air</th>\n",
       "      <td>40</td>\n",
       "      <td>0.00</td>\n",
       "    </tr>\n",
       "    <tr>\n",
       "      <th>rougher.state.floatbank10_f_air</th>\n",
       "      <td>40</td>\n",
       "      <td>0.00</td>\n",
       "    </tr>\n",
       "    <tr>\n",
       "      <th>rougher.state.floatbank10_d_level</th>\n",
       "      <td>40</td>\n",
       "      <td>0.00</td>\n",
       "    </tr>\n",
       "    <tr>\n",
       "      <th>rougher.state.floatbank10_d_air</th>\n",
       "      <td>40</td>\n",
       "      <td>0.00</td>\n",
       "    </tr>\n",
       "    <tr>\n",
       "      <th>rougher.state.floatbank10_c_level</th>\n",
       "      <td>40</td>\n",
       "      <td>0.00</td>\n",
       "    </tr>\n",
       "    <tr>\n",
       "      <th>rougher.state.floatbank10_c_air</th>\n",
       "      <td>40</td>\n",
       "      <td>0.00</td>\n",
       "    </tr>\n",
       "    <tr>\n",
       "      <th>rougher.state.floatbank10_b_level</th>\n",
       "      <td>40</td>\n",
       "      <td>0.00</td>\n",
       "    </tr>\n",
       "    <tr>\n",
       "      <th>rougher.state.floatbank10_a_level</th>\n",
       "      <td>40</td>\n",
       "      <td>0.00</td>\n",
       "    </tr>\n",
       "    <tr>\n",
       "      <th>rougher.state.floatbank10_a_air</th>\n",
       "      <td>40</td>\n",
       "      <td>0.00</td>\n",
       "    </tr>\n",
       "    <tr>\n",
       "      <th>rougher.state.floatbank10_e_level</th>\n",
       "      <td>40</td>\n",
       "      <td>0.00</td>\n",
       "    </tr>\n",
       "    <tr>\n",
       "      <th>primary_cleaner.state.floatbank8_b_air</th>\n",
       "      <td>33</td>\n",
       "      <td>0.00</td>\n",
       "    </tr>\n",
       "    <tr>\n",
       "      <th>primary_cleaner.state.floatbank8_a_air</th>\n",
       "      <td>33</td>\n",
       "      <td>0.00</td>\n",
       "    </tr>\n",
       "    <tr>\n",
       "      <th>primary_cleaner.state.floatbank8_d_air</th>\n",
       "      <td>32</td>\n",
       "      <td>0.00</td>\n",
       "    </tr>\n",
       "    <tr>\n",
       "      <th>primary_cleaner.state.floatbank8_c_air</th>\n",
       "      <td>31</td>\n",
       "      <td>0.00</td>\n",
       "    </tr>\n",
       "    <tr>\n",
       "      <th>primary_cleaner.state.floatbank8_a_level</th>\n",
       "      <td>26</td>\n",
       "      <td>0.00</td>\n",
       "    </tr>\n",
       "    <tr>\n",
       "      <th>primary_cleaner.state.floatbank8_d_level</th>\n",
       "      <td>26</td>\n",
       "      <td>0.00</td>\n",
       "    </tr>\n",
       "    <tr>\n",
       "      <th>primary_cleaner.state.floatbank8_b_level</th>\n",
       "      <td>26</td>\n",
       "      <td>0.00</td>\n",
       "    </tr>\n",
       "    <tr>\n",
       "      <th>primary_cleaner.state.floatbank8_c_level</th>\n",
       "      <td>26</td>\n",
       "      <td>0.00</td>\n",
       "    </tr>\n",
       "    <tr>\n",
       "      <th>primary_cleaner.input.feed_size</th>\n",
       "      <td>0</td>\n",
       "      <td>0.00</td>\n",
       "    </tr>\n",
       "    <tr>\n",
       "      <th>date</th>\n",
       "      <td>0</td>\n",
       "      <td>0.00</td>\n",
       "    </tr>\n",
       "  </tbody>\n",
       "</table>\n",
       "</div>"
      ],
      "text/plain": [
       "                                            missing_values  % of total\n",
       "rougher.output.recovery                               1381        0.09\n",
       "rougher.input.floatbank11_xanthate                     858        0.06\n",
       "rougher.state.floatbank10_e_air                        493        0.03\n",
       "primary_cleaner.input.sulfate                          479        0.03\n",
       "rougher.input.floatbank10_sulfate                      451        0.03\n",
       "rougher.input.floatbank11_sulfate                      401        0.03\n",
       "primary_cleaner.input.depressant                       362        0.02\n",
       "primary_cleaner.input.xanthate                         355        0.02\n",
       "final.output.recovery                                  339        0.02\n",
       "secondary_cleaner.state.floatbank2_a_air               315        0.02\n",
       "rougher.input.feed_rate                                306        0.02\n",
       "rougher.input.feed_sol                                 272        0.02\n",
       "rougher.input.feed_pb                                  227        0.01\n",
       "rougher.input.feed_size                                222        0.01\n",
       "rougher.input.floatbank10_xanthate                     145        0.01\n",
       "secondary_cleaner.state.floatbank2_b_air               107        0.01\n",
       "secondary_cleaner.state.floatbank3_a_air                88        0.01\n",
       "secondary_cleaner.state.floatbank4_a_air                87        0.01\n",
       "secondary_cleaner.state.floatbank6_a_air                86        0.01\n",
       "rougher.input.feed_au                                   83        0.01\n",
       "rougher.input.feed_ag                                   82        0.01\n",
       "secondary_cleaner.state.floatbank3_b_air                82        0.01\n",
       "secondary_cleaner.state.floatbank2_a_level              82        0.01\n",
       "secondary_cleaner.state.floatbank2_b_level              82        0.01\n",
       "secondary_cleaner.state.floatbank3_a_level              82        0.01\n",
       "secondary_cleaner.state.floatbank5_b_level              82        0.01\n",
       "secondary_cleaner.state.floatbank5_b_air                82        0.01\n",
       "secondary_cleaner.state.floatbank3_b_level              82        0.01\n",
       "secondary_cleaner.state.floatbank5_a_level              82        0.01\n",
       "secondary_cleaner.state.floatbank5_a_air                82        0.01\n",
       "secondary_cleaner.state.floatbank4_b_level              82        0.01\n",
       "secondary_cleaner.state.floatbank4_b_air                82        0.01\n",
       "secondary_cleaner.state.floatbank4_a_level              82        0.01\n",
       "secondary_cleaner.state.floatbank6_a_level              82        0.01\n",
       "rougher.state.floatbank10_f_level                       40        0.00\n",
       "rougher.state.floatbank10_b_air                         40        0.00\n",
       "rougher.state.floatbank10_f_air                         40        0.00\n",
       "rougher.state.floatbank10_d_level                       40        0.00\n",
       "rougher.state.floatbank10_d_air                         40        0.00\n",
       "rougher.state.floatbank10_c_level                       40        0.00\n",
       "rougher.state.floatbank10_c_air                         40        0.00\n",
       "rougher.state.floatbank10_b_level                       40        0.00\n",
       "rougher.state.floatbank10_a_level                       40        0.00\n",
       "rougher.state.floatbank10_a_air                         40        0.00\n",
       "rougher.state.floatbank10_e_level                       40        0.00\n",
       "primary_cleaner.state.floatbank8_b_air                  33        0.00\n",
       "primary_cleaner.state.floatbank8_a_air                  33        0.00\n",
       "primary_cleaner.state.floatbank8_d_air                  32        0.00\n",
       "primary_cleaner.state.floatbank8_c_air                  31        0.00\n",
       "primary_cleaner.state.floatbank8_a_level                26        0.00\n",
       "primary_cleaner.state.floatbank8_d_level                26        0.00\n",
       "primary_cleaner.state.floatbank8_b_level                26        0.00\n",
       "primary_cleaner.state.floatbank8_c_level                26        0.00\n",
       "primary_cleaner.input.feed_size                          0        0.00\n",
       "date                                                     0        0.00"
      ]
     },
     "execution_count": 46,
     "metadata": {},
     "output_type": "execute_result"
    }
   ],
   "source": [
    "na_values(data_train_updated)"
   ]
  },
  {
   "cell_type": "markdown",
   "metadata": {},
   "source": [
    "Большинство пропущенных значений приходится на целевые признаки. Можно предположить, что пропуски появляются в связи с тем что по технологическому процессу получить значение признаков можно только в конце процесса и на момент создания строки данные еще не поступили. Заполнять значения целевого признака каким либо алгоритмом будет не корректно. Такие изменения приведут к ухудшению качества предсказания самой модели и оценки качество при подборе гипперпараметров.\n",
    "\n",
    "В не целевых признаках пропущенных значений немного. Заполним все пропущенные значения в не целевых признаках методом fillna(method='ffill'). Данный метод заполняет пропуск значением которое было до него. Для близких временных замеров должны быть близкие значения.\n",
    "    \n",
    "Удалим строки с пропущенными значениями в целевом признаке только после заполнения пропущенных значений в не целевых признаках. Удаление строк до заполнения может незначительно скорректировать порядок строк по времени."
   ]
  },
  {
   "cell_type": "markdown",
   "metadata": {},
   "source": [
    "Сохраним список с названиями целевых признаков."
   ]
  },
  {
   "cell_type": "code",
   "execution_count": 47,
   "metadata": {},
   "outputs": [],
   "source": [
    "target_features_list = ['final.output.recovery', 'rougher.output.recovery']"
   ]
  },
  {
   "cell_type": "markdown",
   "metadata": {},
   "source": [
    "Применим метод fillna(method='ffill') к не целевым признакам."
   ]
  },
  {
   "cell_type": "code",
   "execution_count": 48,
   "metadata": {},
   "outputs": [],
   "source": [
    "data_test_updated[data_test_updated.columns.difference(target_features_list)] = \\\n",
    "    data_test_updated[data_test_updated.columns.difference(target_features_list)].fillna(method='ffill')\n",
    "\n",
    "data_train_updated[data_train_updated.columns.difference(target_features_list)] = \\\n",
    "    data_train_updated[data_train_updated.columns.difference(target_features_list)].fillna(method='ffill')"
   ]
  },
  {
   "cell_type": "markdown",
   "metadata": {},
   "source": [
    "После заполнения можно удалить все оставшиеся строки с пропущенными значениями."
   ]
  },
  {
   "cell_type": "code",
   "execution_count": 49,
   "metadata": {},
   "outputs": [],
   "source": [
    "data_test_updated = data_test_updated.dropna()\n",
    "data_train_updated  = data_train_updated.dropna()"
   ]
  },
  {
   "cell_type": "markdown",
   "metadata": {},
   "source": [
    "#### 2.2 Получение наборов данных согласно этапам технологического процесса. <a id='step2.2'></a>"
   ]
  },
  {
   "cell_type": "markdown",
   "metadata": {},
   "source": [
    "Технологический процесс разделен на два этапа - флотация и очистка. Согласно требованию заказчика необходимо построить модель для каждого этапа. Разделим наборы данных для обучения и тестирования по этапам. Создадим два списка в которых будут содержаться названия столбцов относящихся к первому и второму этапу.\n",
    "\n",
    "Обучающий и тестовый наборы данных содержат одинаковый набор признаков, не принципиально откуда получить список этапов."
   ]
  },
  {
   "cell_type": "code",
   "execution_count": 50,
   "metadata": {},
   "outputs": [],
   "source": [
    "rougher_columns = []\n",
    "cleaner_columns = []\n",
    "\n",
    "for column in list(data_train_updated):\n",
    "    if 'rougher' in column:\n",
    "        rougher_columns.append(column)\n",
    "    else:\n",
    "        cleaner_columns.append(column)        "
   ]
  },
  {
   "cell_type": "markdown",
   "metadata": {},
   "source": [
    "Разделим таблицы на два этапа согласно спискам полученным выше."
   ]
  },
  {
   "cell_type": "code",
   "execution_count": 51,
   "metadata": {},
   "outputs": [],
   "source": [
    "data_test_updated_rougher = data_test_updated[rougher_columns]\n",
    "data_test_updated_cleaner = data_test_updated[cleaner_columns]\n",
    "data_train_updated_rougher = data_train_updated[rougher_columns]\n",
    "data_train_updated_cleaner = data_train_updated[cleaner_columns]"
   ]
  },
  {
   "cell_type": "markdown",
   "metadata": {},
   "source": [
    "Удалим из таблиц с данными по этапам очистки столбец \"date\"."
   ]
  },
  {
   "cell_type": "code",
   "execution_count": 52,
   "metadata": {},
   "outputs": [],
   "source": [
    "data_test_updated_cleaner = data_test_updated_cleaner.drop(\"date\",axis=1)\n",
    "data_train_updated_cleaner = data_train_updated_cleaner.drop(\"date\",axis=1)"
   ]
  },
  {
   "cell_type": "markdown",
   "metadata": {},
   "source": [
    "#### 2.3 Проверка признаков на мультиколлинеарность. <a id='step2.3'></a>"
   ]
  },
  {
   "cell_type": "markdown",
   "metadata": {},
   "source": [
    "На примере обучающего набора данных этапа флотации определим признаки с очень высоким значением коэффициента Пирсона. Очень высоким считается значение больше 0.75 или меньше -0.75. По итогам проверки напишем функцию для автоматизации процесса."
   ]
  },
  {
   "cell_type": "markdown",
   "metadata": {},
   "source": [
    "Получим DataFrame в котором попарно рассчитан коэффициент Пирсона по каждому признаку методом \".corr()\". Затем преобразуем многоуровневую таблицу в виде попарных записей методом \".unstack()\" и сбросим индексы. Изменения сохраним в переменную \"data_corr_testing\""
   ]
  },
  {
   "cell_type": "code",
   "execution_count": 53,
   "metadata": {},
   "outputs": [],
   "source": [
    "data_corr_testing = data_train_updated_rougher.corr().unstack().reset_index()"
   ]
  },
  {
   "cell_type": "markdown",
   "metadata": {},
   "source": [
    "Скорректируем названия столбцов для удобства."
   ]
  },
  {
   "cell_type": "code",
   "execution_count": 54,
   "metadata": {},
   "outputs": [],
   "source": [
    "data_corr_testing.columns = ['feature_a','feature_b','corr_value']"
   ]
  },
  {
   "cell_type": "markdown",
   "metadata": {},
   "source": [
    "Отфильтруем таблицу и выберем только значения в очень высокой прямой или обратной корреляцией. Так же уберем строки, где коэффициент равен единице. Значение коэффициента равно единицу в строках с зависимостью признака от самого себя."
   ]
  },
  {
   "cell_type": "code",
   "execution_count": 55,
   "metadata": {},
   "outputs": [],
   "source": [
    "data_corr_testing = data_corr_testing.query('(corr_value != 1) and ((corr_value <= -0.75) or (corr_value >= 0.75))')"
   ]
  },
  {
   "cell_type": "markdown",
   "metadata": {},
   "source": [
    "Из полученной таблицы уберем строки с одинаковым значением коэффициента. Это строки отображают одинаковую зависимость и отличаются только порядков признаков."
   ]
  },
  {
   "cell_type": "code",
   "execution_count": 56,
   "metadata": {},
   "outputs": [],
   "source": [
    "data_corr_testing = data_corr_testing.drop_duplicates(subset=['corr_value'])"
   ]
  },
  {
   "cell_type": "code",
   "execution_count": 57,
   "metadata": {},
   "outputs": [
    {
     "data": {
      "text/html": [
       "<div>\n",
       "<style scoped>\n",
       "    .dataframe tbody tr th:only-of-type {\n",
       "        vertical-align: middle;\n",
       "    }\n",
       "\n",
       "    .dataframe tbody tr th {\n",
       "        vertical-align: top;\n",
       "    }\n",
       "\n",
       "    .dataframe thead th {\n",
       "        text-align: right;\n",
       "    }\n",
       "</style>\n",
       "<table border=\"1\" class=\"dataframe\">\n",
       "  <thead>\n",
       "    <tr style=\"text-align: right;\">\n",
       "      <th></th>\n",
       "      <th>feature_a</th>\n",
       "      <th>feature_b</th>\n",
       "      <th>corr_value</th>\n",
       "    </tr>\n",
       "  </thead>\n",
       "  <tbody>\n",
       "    <tr>\n",
       "      <th>5</th>\n",
       "      <td>rougher.input.feed_ag</td>\n",
       "      <td>rougher.input.feed_au</td>\n",
       "      <td>0.843446</td>\n",
       "    </tr>\n",
       "    <tr>\n",
       "      <th>146</th>\n",
       "      <td>rougher.input.floatbank10_sulfate</td>\n",
       "      <td>rougher.input.floatbank11_sulfate</td>\n",
       "      <td>0.793792</td>\n",
       "    </tr>\n",
       "    <tr>\n",
       "      <th>170</th>\n",
       "      <td>rougher.input.floatbank10_xanthate</td>\n",
       "      <td>rougher.input.floatbank11_xanthate</td>\n",
       "      <td>0.799236</td>\n",
       "    </tr>\n",
       "    <tr>\n",
       "      <th>314</th>\n",
       "      <td>rougher.state.floatbank10_b_air</td>\n",
       "      <td>rougher.state.floatbank10_c_air</td>\n",
       "      <td>0.935043</td>\n",
       "    </tr>\n",
       "    <tr>\n",
       "      <th>316</th>\n",
       "      <td>rougher.state.floatbank10_b_air</td>\n",
       "      <td>rougher.state.floatbank10_d_air</td>\n",
       "      <td>0.926476</td>\n",
       "    </tr>\n",
       "    <tr>\n",
       "      <th>318</th>\n",
       "      <td>rougher.state.floatbank10_b_air</td>\n",
       "      <td>rougher.state.floatbank10_e_air</td>\n",
       "      <td>0.829463</td>\n",
       "    </tr>\n",
       "    <tr>\n",
       "      <th>320</th>\n",
       "      <td>rougher.state.floatbank10_b_air</td>\n",
       "      <td>rougher.state.floatbank10_f_air</td>\n",
       "      <td>0.822009</td>\n",
       "    </tr>\n",
       "    <tr>\n",
       "      <th>338</th>\n",
       "      <td>rougher.state.floatbank10_b_level</td>\n",
       "      <td>rougher.state.floatbank10_c_level</td>\n",
       "      <td>0.987748</td>\n",
       "    </tr>\n",
       "    <tr>\n",
       "      <th>340</th>\n",
       "      <td>rougher.state.floatbank10_b_level</td>\n",
       "      <td>rougher.state.floatbank10_d_level</td>\n",
       "      <td>0.977676</td>\n",
       "    </tr>\n",
       "    <tr>\n",
       "      <th>342</th>\n",
       "      <td>rougher.state.floatbank10_b_level</td>\n",
       "      <td>rougher.state.floatbank10_e_level</td>\n",
       "      <td>0.973243</td>\n",
       "    </tr>\n",
       "    <tr>\n",
       "      <th>344</th>\n",
       "      <td>rougher.state.floatbank10_b_level</td>\n",
       "      <td>rougher.state.floatbank10_f_level</td>\n",
       "      <td>0.965957</td>\n",
       "    </tr>\n",
       "    <tr>\n",
       "      <th>362</th>\n",
       "      <td>rougher.state.floatbank10_c_air</td>\n",
       "      <td>rougher.state.floatbank10_d_air</td>\n",
       "      <td>0.910652</td>\n",
       "    </tr>\n",
       "    <tr>\n",
       "      <th>364</th>\n",
       "      <td>rougher.state.floatbank10_c_air</td>\n",
       "      <td>rougher.state.floatbank10_e_air</td>\n",
       "      <td>0.779818</td>\n",
       "    </tr>\n",
       "    <tr>\n",
       "      <th>366</th>\n",
       "      <td>rougher.state.floatbank10_c_air</td>\n",
       "      <td>rougher.state.floatbank10_f_air</td>\n",
       "      <td>0.754479</td>\n",
       "    </tr>\n",
       "    <tr>\n",
       "      <th>386</th>\n",
       "      <td>rougher.state.floatbank10_c_level</td>\n",
       "      <td>rougher.state.floatbank10_d_level</td>\n",
       "      <td>0.987528</td>\n",
       "    </tr>\n",
       "    <tr>\n",
       "      <th>388</th>\n",
       "      <td>rougher.state.floatbank10_c_level</td>\n",
       "      <td>rougher.state.floatbank10_e_level</td>\n",
       "      <td>0.984198</td>\n",
       "    </tr>\n",
       "    <tr>\n",
       "      <th>390</th>\n",
       "      <td>rougher.state.floatbank10_c_level</td>\n",
       "      <td>rougher.state.floatbank10_f_level</td>\n",
       "      <td>0.976710</td>\n",
       "    </tr>\n",
       "    <tr>\n",
       "      <th>410</th>\n",
       "      <td>rougher.state.floatbank10_d_air</td>\n",
       "      <td>rougher.state.floatbank10_e_air</td>\n",
       "      <td>0.877993</td>\n",
       "    </tr>\n",
       "    <tr>\n",
       "      <th>412</th>\n",
       "      <td>rougher.state.floatbank10_d_air</td>\n",
       "      <td>rougher.state.floatbank10_f_air</td>\n",
       "      <td>0.859876</td>\n",
       "    </tr>\n",
       "    <tr>\n",
       "      <th>434</th>\n",
       "      <td>rougher.state.floatbank10_d_level</td>\n",
       "      <td>rougher.state.floatbank10_e_level</td>\n",
       "      <td>0.976659</td>\n",
       "    </tr>\n",
       "    <tr>\n",
       "      <th>436</th>\n",
       "      <td>rougher.state.floatbank10_d_level</td>\n",
       "      <td>rougher.state.floatbank10_f_level</td>\n",
       "      <td>0.974421</td>\n",
       "    </tr>\n",
       "    <tr>\n",
       "      <th>458</th>\n",
       "      <td>rougher.state.floatbank10_e_air</td>\n",
       "      <td>rougher.state.floatbank10_f_air</td>\n",
       "      <td>0.935422</td>\n",
       "    </tr>\n",
       "    <tr>\n",
       "      <th>482</th>\n",
       "      <td>rougher.state.floatbank10_e_level</td>\n",
       "      <td>rougher.state.floatbank10_f_level</td>\n",
       "      <td>0.988263</td>\n",
       "    </tr>\n",
       "  </tbody>\n",
       "</table>\n",
       "</div>"
      ],
      "text/plain": [
       "                              feature_a                           feature_b  \\\n",
       "5                 rougher.input.feed_ag               rougher.input.feed_au   \n",
       "146   rougher.input.floatbank10_sulfate   rougher.input.floatbank11_sulfate   \n",
       "170  rougher.input.floatbank10_xanthate  rougher.input.floatbank11_xanthate   \n",
       "314     rougher.state.floatbank10_b_air     rougher.state.floatbank10_c_air   \n",
       "316     rougher.state.floatbank10_b_air     rougher.state.floatbank10_d_air   \n",
       "318     rougher.state.floatbank10_b_air     rougher.state.floatbank10_e_air   \n",
       "320     rougher.state.floatbank10_b_air     rougher.state.floatbank10_f_air   \n",
       "338   rougher.state.floatbank10_b_level   rougher.state.floatbank10_c_level   \n",
       "340   rougher.state.floatbank10_b_level   rougher.state.floatbank10_d_level   \n",
       "342   rougher.state.floatbank10_b_level   rougher.state.floatbank10_e_level   \n",
       "344   rougher.state.floatbank10_b_level   rougher.state.floatbank10_f_level   \n",
       "362     rougher.state.floatbank10_c_air     rougher.state.floatbank10_d_air   \n",
       "364     rougher.state.floatbank10_c_air     rougher.state.floatbank10_e_air   \n",
       "366     rougher.state.floatbank10_c_air     rougher.state.floatbank10_f_air   \n",
       "386   rougher.state.floatbank10_c_level   rougher.state.floatbank10_d_level   \n",
       "388   rougher.state.floatbank10_c_level   rougher.state.floatbank10_e_level   \n",
       "390   rougher.state.floatbank10_c_level   rougher.state.floatbank10_f_level   \n",
       "410     rougher.state.floatbank10_d_air     rougher.state.floatbank10_e_air   \n",
       "412     rougher.state.floatbank10_d_air     rougher.state.floatbank10_f_air   \n",
       "434   rougher.state.floatbank10_d_level   rougher.state.floatbank10_e_level   \n",
       "436   rougher.state.floatbank10_d_level   rougher.state.floatbank10_f_level   \n",
       "458     rougher.state.floatbank10_e_air     rougher.state.floatbank10_f_air   \n",
       "482   rougher.state.floatbank10_e_level   rougher.state.floatbank10_f_level   \n",
       "\n",
       "     corr_value  \n",
       "5      0.843446  \n",
       "146    0.793792  \n",
       "170    0.799236  \n",
       "314    0.935043  \n",
       "316    0.926476  \n",
       "318    0.829463  \n",
       "320    0.822009  \n",
       "338    0.987748  \n",
       "340    0.977676  \n",
       "342    0.973243  \n",
       "344    0.965957  \n",
       "362    0.910652  \n",
       "364    0.779818  \n",
       "366    0.754479  \n",
       "386    0.987528  \n",
       "388    0.984198  \n",
       "390    0.976710  \n",
       "410    0.877993  \n",
       "412    0.859876  \n",
       "434    0.976659  \n",
       "436    0.974421  \n",
       "458    0.935422  \n",
       "482    0.988263  "
      ]
     },
     "execution_count": 57,
     "metadata": {},
     "output_type": "execute_result"
    }
   ],
   "source": [
    "data_corr_testing"
   ]
  },
  {
   "cell_type": "markdown",
   "metadata": {},
   "source": [
    "Прослеживается явная зависимость признаков. Если параметр \"rougher.state.floatbank10_b_air\" высокий, то и параметры \"rougher.state.floatbank10_c_air\", \"rougher.state.floatbank10_d_air\", \"rougher.state.floatbank10_e_air\", \"rougher.state.floatbank10_f_air\" так же высокие. Не принципиально из какого столбца выбрать признаки для удаления. Сохраним признаки из столбца \"feature_a\" и уберем из него дубликаты."
   ]
  },
  {
   "cell_type": "code",
   "execution_count": 58,
   "metadata": {},
   "outputs": [],
   "source": [
    "data_corr_testing_feature = data_corr_testing.drop_duplicates(subset=['feature_a'])['feature_a']"
   ]
  },
  {
   "cell_type": "code",
   "execution_count": 59,
   "metadata": {
    "scrolled": true
   },
   "outputs": [
    {
     "data": {
      "text/plain": [
       "5                   rougher.input.feed_ag\n",
       "146     rougher.input.floatbank10_sulfate\n",
       "170    rougher.input.floatbank10_xanthate\n",
       "314       rougher.state.floatbank10_b_air\n",
       "338     rougher.state.floatbank10_b_level\n",
       "362       rougher.state.floatbank10_c_air\n",
       "386     rougher.state.floatbank10_c_level\n",
       "410       rougher.state.floatbank10_d_air\n",
       "434     rougher.state.floatbank10_d_level\n",
       "458       rougher.state.floatbank10_e_air\n",
       "482     rougher.state.floatbank10_e_level\n",
       "Name: feature_a, dtype: object"
      ]
     },
     "execution_count": 59,
     "metadata": {},
     "output_type": "execute_result"
    }
   ],
   "source": [
    "data_corr_testing_feature"
   ]
  },
  {
   "cell_type": "markdown",
   "metadata": {},
   "source": [
    "Из наборов данных этапа флотации необходимо исключить признаки содержащиеся в серии \"data_corr_testing_feature\"."
   ]
  },
  {
   "cell_type": "markdown",
   "metadata": {},
   "source": [
    "Напишем функцию, которая позволит получить аналогичный список для этапа очистки."
   ]
  },
  {
   "cell_type": "code",
   "execution_count": 60,
   "metadata": {},
   "outputs": [],
   "source": [
    "def features_high_corr(data):\n",
    "    data_corr = data.corr().unstack().reset_index()\n",
    "    data_corr.columns = ['feature_a','feature_b','corr_value']\n",
    "    data_corr_high = data_corr.query('(corr_value != 1) and \\\n",
    "            ((corr_value <= -0.75) or (corr_value >= 0.75))').drop_duplicates(subset=['corr_value'])\n",
    "    data_corr_high_features = data_corr_high.drop_duplicates(subset=['feature_a'])['feature_a']\n",
    "    return list(data_corr_high_features)"
   ]
  },
  {
   "cell_type": "code",
   "execution_count": 61,
   "metadata": {},
   "outputs": [],
   "source": [
    "rougher_high_corr_features_list = features_high_corr(data_train_updated_rougher)\n",
    "cleaner_high_corr_features_list = features_high_corr(data_train_updated_cleaner)"
   ]
  },
  {
   "cell_type": "markdown",
   "metadata": {},
   "source": [
    "Удалим из наборов данных признаки согласно спискам."
   ]
  },
  {
   "cell_type": "code",
   "execution_count": 62,
   "metadata": {},
   "outputs": [],
   "source": [
    "data_test_updated_rougher = data_test_updated_rougher.drop(rougher_high_corr_features_list, axis=1)\n",
    "data_test_updated_cleaner = data_test_updated_cleaner.drop(cleaner_high_corr_features_list, axis=1)\n",
    "data_train_updated_rougher = data_train_updated_rougher.drop(rougher_high_corr_features_list, axis=1)\n",
    "data_train_updated_cleaner = data_train_updated_cleaner.drop(cleaner_high_corr_features_list, axis=1)"
   ]
  },
  {
   "cell_type": "markdown",
   "metadata": {},
   "source": [
    "Оценим размеры таблиц после удаление признаков с высокой коллинеарностью значений."
   ]
  },
  {
   "cell_type": "code",
   "execution_count": 63,
   "metadata": {},
   "outputs": [
    {
     "name": "stdout",
     "output_type": "stream",
     "text": [
      "Размер таблиц тестового набора данных:\n",
      "(5152, 12)\n",
      "(5152, 19)\n",
      "Размер таблиц обучающего набора данных:\n",
      "(13770, 12)\n",
      "(13770, 19)\n"
     ]
    }
   ],
   "source": [
    "print(\"Размер таблиц тестового набора данных:\")\n",
    "print(data_test_updated_rougher.shape)\n",
    "print(data_test_updated_cleaner.shape)\n",
    "print(\"Размер таблиц обучающего набора данных:\")\n",
    "print(data_train_updated_rougher.shape)\n",
    "print(data_train_updated_cleaner.shape)"
   ]
  },
  {
   "cell_type": "markdown",
   "metadata": {},
   "source": [
    "#### 2.4. Отделение целевого признака от обучающих. <a id='step2.4'></a>"
   ]
  },
  {
   "cell_type": "markdown",
   "metadata": {},
   "source": [
    "Необходимо сохранить масштаб целевого признака. Дальнейшее масштабирование будет проводиться только на обучающих признаках. Отделим целевой признак от обучающих. Напишем функцию \"feature_separation\". Функция будет принимать в качестве параметров набор данных и название столбца с целевым признаком. После выполнения функция вернет разделенные данные сохраненные в словарь."
   ]
  },
  {
   "cell_type": "code",
   "execution_count": 64,
   "metadata": {},
   "outputs": [],
   "source": [
    "def feature_separation(data,target_column):\n",
    "    data_dict_local = {}\n",
    "    features = data.drop([target_column], axis=1)\n",
    "    target = data[target_column]\n",
    "    data_dict_local['target'] = target\n",
    "    data_dict_local['features'] = features\n",
    "    return data_dict_local"
   ]
  },
  {
   "cell_type": "code",
   "execution_count": 65,
   "metadata": {},
   "outputs": [],
   "source": [
    "data_test_updated_rougher_dict = feature_separation(data_test_updated_rougher,'rougher.output.recovery')\n",
    "data_test_updated_cleaner_dict = feature_separation(data_test_updated_cleaner,'final.output.recovery')\n",
    "data_train_updated_rougher_dict = feature_separation(data_train_updated_rougher,'rougher.output.recovery')\n",
    "data_train_updated_cleaner_dict = feature_separation(data_train_updated_cleaner,'final.output.recovery')"
   ]
  },
  {
   "cell_type": "markdown",
   "metadata": {},
   "source": [
    "#### 2.5 Масштабирование признаков. <a id='step2.5'></a>"
   ]
  },
  {
   "cell_type": "markdown",
   "metadata": {},
   "source": [
    "Численные признаки имеют различный масштаб, что может повлиять на качество модели. Создадим объект структуры StandardScaler() и настроим его используя обучающий набор данных. Настройка — это вычисление среднего и дисперсии. Так как у нас два этапа с различными данными, то перед каждым масштабированием необходимо переобучить StandardScaler() на новых данных. Как было указано ранее масштабироваться будут только признаки для обучения."
   ]
  },
  {
   "cell_type": "code",
   "execution_count": 66,
   "metadata": {},
   "outputs": [],
   "source": [
    "scaler = StandardScaler()"
   ]
  },
  {
   "cell_type": "markdown",
   "metadata": {},
   "source": [
    "Напишем функцию для масштабирования."
   ]
  },
  {
   "cell_type": "code",
   "execution_count": 67,
   "metadata": {},
   "outputs": [],
   "source": [
    "def transform_data_dicts(data_dict_train,data_dict_test):\n",
    "    column_list = list(data_dict_train['features'])\n",
    "    scaler.fit(data_dict_train['features'][column_list])\n",
    "    data_dict_train['features'][column_list] = scaler.transform(data_dict_train['features'][column_list])\n",
    "    data_dict_test['features'][column_list] = scaler.transform(data_dict_test['features'][column_list])"
   ]
  },
  {
   "cell_type": "markdown",
   "metadata": {},
   "source": [
    "Выполним функцию для всех словарей с данными."
   ]
  },
  {
   "cell_type": "code",
   "execution_count": 68,
   "metadata": {},
   "outputs": [],
   "source": [
    "transform_data_dicts(data_train_updated_rougher_dict, data_test_updated_rougher_dict)\n",
    "transform_data_dicts(data_train_updated_cleaner_dict, data_test_updated_cleaner_dict)"
   ]
  },
  {
   "cell_type": "markdown",
   "metadata": {},
   "source": [
    "### 3. Построение моделей. <a id='step3'></a>"
   ]
  },
  {
   "cell_type": "markdown",
   "metadata": {},
   "source": [
    "#### 3.1 Функция расчета sMAPE. <a id='step3.1'></a>"
   ]
  },
  {
   "cell_type": "markdown",
   "metadata": {},
   "source": [
    "Для решения задачи введём новую метрику качества — sMAPE (англ. Symmetric Mean Absolute Percentage Error, «симметричное среднее абсолютное процентное отклонение»).\n",
    "Метрика sMAPE вычисляется по следующей формуле:\n",
    "\n",
    "$sMAPE = \\frac{1}{N} \\sum\\limits_{i=1}^N \\frac{|y_i-\\hat{y_i}|}{(|y_i|+|\\hat{y_i}|)/2} *100\\%$\n",
    "\n",
    "Обозначения:\n",
    "<br>$y_i$ -Значение целевого признака для объекта с порядковым номером i в выборке, на которой измеряется качество.\n",
    "<br>$\\hat{y_i}$ - Значение предсказания для объекта с порядковым номером i.\n",
    "<br>N - Количество объектов в выборке.\n",
    "<br>$\\sum\\limits_{i=1}^N$ - Суммирование по всем объектам выборки (i меняется от 1 до N).\n",
    "\n",
    "Итоговая метрика складывается из двух величин:\n",
    "\n",
    "Итоговая sMAPE = 25% * sMAPE(rougher) + 75% * sMAPE(cleaner)"
   ]
  },
  {
   "cell_type": "markdown",
   "metadata": {},
   "source": [
    "Напишем функцию для расчета sMAPE."
   ]
  },
  {
   "cell_type": "code",
   "execution_count": 69,
   "metadata": {},
   "outputs": [],
   "source": [
    "def smape(target, predict):\n",
    "    return 100 * (2 * np.abs(target - predict) / (np.abs(target) + np.abs(predict))).mean()"
   ]
  },
  {
   "cell_type": "markdown",
   "metadata": {},
   "source": [
    "#### 3.2 Поиск оптимальной модели и гиперпараметров. <a id='step3.2'></a>"
   ]
  },
  {
   "cell_type": "markdown",
   "metadata": {},
   "source": [
    "Необходимо подобрать оптимальную модель и гиперпараметры к ней. Создадим список моделей которые мы будем использовать."
   ]
  },
  {
   "cell_type": "code",
   "execution_count": 70,
   "metadata": {},
   "outputs": [],
   "source": [
    "models_types_list = [DecisionTreeRegressor(random_state=12345),RandomForestRegressor(random_state=12345),LinearRegression()]"
   ]
  },
  {
   "cell_type": "markdown",
   "metadata": {},
   "source": [
    "Создадим словари с параметрами для моделей \"дерево решений\" и \"случайный лес\". Линейная регрессия не предусматривает сложных гиперпараметров."
   ]
  },
  {
   "cell_type": "code",
   "execution_count": 71,
   "metadata": {},
   "outputs": [],
   "source": [
    "parametrs_tree = { 'max_depth': range (1, 5) }\n",
    "parametrs_forest = { 'n_estimators': range (10, 101, 10),\n",
    "              'max_depth': range (1, 5) }"
   ]
  },
  {
   "cell_type": "markdown",
   "metadata": {},
   "source": [
    "Напишем небольшую функцию для автоматизации. Функция принимает в качестве параметров модель, DataFrame и словарь с параметрами. Функция возвращает наилучшие значения гипперпараметров."
   ]
  },
  {
   "cell_type": "code",
   "execution_count": 72,
   "metadata": {},
   "outputs": [],
   "source": [
    "def grid_search(model,data,parametrs):\n",
    "    grid = GridSearchCV(model,\n",
    "                                 parametrs,\n",
    "                                 scoring=make_scorer(smape, greater_is_better=False),\n",
    "                                 cv=5)\n",
    "    grid.fit(data['features'],data['target'])\n",
    "    print(f'Лучшие гиперпараметры для модели {model} - {grid.best_params_}')"
   ]
  },
  {
   "cell_type": "markdown",
   "metadata": {},
   "source": [
    "Подберем наилучшие гиперпараметры используя \"GridSearchCV\" для этапа флотации. "
   ]
  },
  {
   "cell_type": "code",
   "execution_count": 73,
   "metadata": {},
   "outputs": [
    {
     "name": "stdout",
     "output_type": "stream",
     "text": [
      "Лучшие гиперпараметры для модели DecisionTreeRegressor(random_state=12345) - {'max_depth': 2}\n",
      "Wall time: 914 ms\n"
     ]
    }
   ],
   "source": [
    "%%time\n",
    "grid_search(DecisionTreeRegressor(random_state=12345),\n",
    "            data_train_updated_rougher_dict,\n",
    "            parametrs_tree)"
   ]
  },
  {
   "cell_type": "code",
   "execution_count": 74,
   "metadata": {},
   "outputs": [
    {
     "name": "stdout",
     "output_type": "stream",
     "text": [
      "Лучшие гиперпараметры для модели RandomForestRegressor(random_state=12345) - {'max_depth': 4, 'n_estimators': 100}\n",
      "Wall time: 4min 31s\n"
     ]
    }
   ],
   "source": [
    "%%time\n",
    "grid_search(RandomForestRegressor(random_state=12345),\n",
    "            data_train_updated_rougher_dict,\n",
    "            parametrs_forest)"
   ]
  },
  {
   "cell_type": "markdown",
   "metadata": {},
   "source": [
    "Подберем наилучшие гиперпараметры используя для этапа очистки."
   ]
  },
  {
   "cell_type": "code",
   "execution_count": 75,
   "metadata": {},
   "outputs": [
    {
     "name": "stdout",
     "output_type": "stream",
     "text": [
      "Лучшие гиперпараметры для модели DecisionTreeRegressor(random_state=12345) - {'max_depth': 1}\n",
      "Wall time: 1.62 s\n"
     ]
    }
   ],
   "source": [
    "%%time\n",
    "grid_search(DecisionTreeRegressor(random_state=12345),\n",
    "            data_train_updated_cleaner_dict,\n",
    "            parametrs_tree)"
   ]
  },
  {
   "cell_type": "code",
   "execution_count": 76,
   "metadata": {},
   "outputs": [
    {
     "name": "stdout",
     "output_type": "stream",
     "text": [
      "Лучшие гиперпараметры для модели RandomForestRegressor(random_state=12345) - {'max_depth': 1, 'n_estimators': 20}\n",
      "Wall time: 7min 9s\n"
     ]
    }
   ],
   "source": [
    "%%time\n",
    "grid_search(RandomForestRegressor(random_state=12345),\n",
    "            data_train_updated_cleaner_dict,\n",
    "            parametrs_forest)"
   ]
  },
  {
   "cell_type": "markdown",
   "metadata": {},
   "source": [
    "##### 3.2.1 Вывод. <a id='step3.2.1'></a>"
   ]
  },
  {
   "cell_type": "markdown",
   "metadata": {},
   "source": [
    "Наилучшие гиперпараметры для этапа флотации:\n",
    "\"Дерево решений\" - {'max_depth': 2}\n",
    "\"Случайный лес\" - {'max_depth': 4, 'n_estimators': 100}\n",
    "Наилучшие гиперпараметры для этапа очистки:\n",
    "\"Дерево решений\" - {'max_depth': 1}\n",
    "\"Случайный лес\" - {'max_depth': 1, 'n_estimators': 20}"
   ]
  },
  {
   "cell_type": "markdown",
   "metadata": {},
   "source": [
    "#### 3.3 Расчет качества моделей на обучающем наборе данных. <a id='step3.3'></a>"
   ]
  },
  {
   "cell_type": "markdown",
   "metadata": {},
   "source": [
    "Рассчитаем какая модель лучше всего подходит для предсказания эффективности очистки для каждого этапа и напишем функцию. В качестве параметра качества будем использовать sMAPE. Чтобы более точного расчета sMAPE воспользуемся кросс-валидацией и функцией \"cross_val_score\". В качестве параметра \"scoring\" мы передадим функцию \"smape\" написанную ранее. Таким образом мы сможем сразу получить значения sMAPE для каждой модели.\n",
    "    \n",
    "Функция принимать в качестве параметров словарь с данными и модель."
   ]
  },
  {
   "cell_type": "code",
   "execution_count": 77,
   "metadata": {},
   "outputs": [],
   "source": [
    "def smape_score(data_dict,model):\n",
    "    scores = cross_val_score(model, \n",
    "                         data_dict['features'], \n",
    "                         data_dict['target'], \n",
    "                         scoring=make_scorer(smape, greater_is_better=False), cv=5)\n",
    "    final_score = abs(sum(scores)/len(scores))\n",
    "    print(f'Значение среднего sMAPE для модели {model}:\\n{final_score}')"
   ]
  },
  {
   "cell_type": "markdown",
   "metadata": {},
   "source": [
    "##### 3.3.1 Линейная регресия. <a id='step3.3.1'></a>"
   ]
  },
  {
   "cell_type": "markdown",
   "metadata": {},
   "source": [
    "Линейная регрессия не предусматривает сложных гиперпараметров. Проверим какое среднее значение sMAPE можно получить на данных этапа флотации."
   ]
  },
  {
   "cell_type": "code",
   "execution_count": 78,
   "metadata": {},
   "outputs": [
    {
     "name": "stdout",
     "output_type": "stream",
     "text": [
      "Значение среднего sMAPE для модели LinearRegression():\n",
      "6.634547269424985\n",
      "Wall time: 79 ms\n"
     ]
    }
   ],
   "source": [
    "%%time\n",
    "smape_score(data_train_updated_rougher_dict,LinearRegression())"
   ]
  },
  {
   "cell_type": "markdown",
   "metadata": {},
   "source": [
    "Проверим модель на данных этапа очистки."
   ]
  },
  {
   "cell_type": "code",
   "execution_count": 79,
   "metadata": {},
   "outputs": [
    {
     "name": "stdout",
     "output_type": "stream",
     "text": [
      "Значение среднего sMAPE для модели LinearRegression():\n",
      "10.260675099089681\n",
      "Wall time: 93 ms\n"
     ]
    }
   ],
   "source": [
    "%%time\n",
    "smape_score(data_train_updated_cleaner_dict,LinearRegression())"
   ]
  },
  {
   "cell_type": "markdown",
   "metadata": {},
   "source": [
    "##### 3.3.2 Дерево решений. <a id='step3.3.2'></a>"
   ]
  },
  {
   "cell_type": "markdown",
   "metadata": {},
   "source": [
    "Ранее мы получили наилучшие гиперпараметры для модели \"дерево решений\".\n",
    "<br>Наилучшие гиперпараметры для этапа флотации: \n",
    "<br>{'max_depth': 2}\n",
    "<br>Наилучшие гиперпараметры для этапа очистки:\n",
    "<br>{'max_depth': 1}\n",
    "\n",
    "Рассчитаем среднее sMAPE для этапа флотации."
   ]
  },
  {
   "cell_type": "code",
   "execution_count": 80,
   "metadata": {},
   "outputs": [
    {
     "name": "stdout",
     "output_type": "stream",
     "text": [
      "Значение среднего sMAPE для модели DecisionTreeRegressor(max_depth=2, random_state=12345):\n",
      "7.448185074359708\n",
      "Wall time: 226 ms\n"
     ]
    }
   ],
   "source": [
    "%%time\n",
    "smape_score(data_train_updated_rougher_dict,\n",
    "            DecisionTreeRegressor(random_state=12345, max_depth=2))"
   ]
  },
  {
   "cell_type": "markdown",
   "metadata": {},
   "source": [
    "Рассчитаем среднее sMAPE для этапа очистки."
   ]
  },
  {
   "cell_type": "code",
   "execution_count": 81,
   "metadata": {},
   "outputs": [
    {
     "name": "stdout",
     "output_type": "stream",
     "text": [
      "Значение среднего sMAPE для модели DecisionTreeRegressor(max_depth=1, random_state=12345):\n",
      "10.144051129821653\n",
      "Wall time: 140 ms\n"
     ]
    }
   ],
   "source": [
    "%%time\n",
    "smape_score(data_train_updated_cleaner_dict,\n",
    "            DecisionTreeRegressor(random_state=12345, max_depth=1))"
   ]
  },
  {
   "cell_type": "markdown",
   "metadata": {},
   "source": [
    "##### 3.3.3 Случайный лес. <a id='step3.3.3'></a>"
   ]
  },
  {
   "cell_type": "markdown",
   "metadata": {},
   "source": [
    "Ранее мы получили наилучшие гиперпараметры для модели \"случайный лес\". \n",
    "<br>Наилучшие гиперпараметры для этапа флотации: \n",
    "<br>{'max_depth': 4, 'n_estimators': 100} \n",
    "<br>Наилучшие гиперпараметры для этапа очистки: \n",
    "<br>{'max_depth': 1, 'n_estimators': 20}\n",
    "\n",
    "Рассчитаем среднее sMAPE для этапа флотации."
   ]
  },
  {
   "cell_type": "code",
   "execution_count": 82,
   "metadata": {},
   "outputs": [
    {
     "name": "stdout",
     "output_type": "stream",
     "text": [
      "Значение среднего sMAPE для модели RandomForestRegressor(max_depth=4, random_state=12345):\n",
      "7.180900797473498\n",
      "Wall time: 19 s\n"
     ]
    }
   ],
   "source": [
    "%%time\n",
    "smape_score(data_train_updated_rougher_dict,\n",
    "            RandomForestRegressor(random_state=12345,max_depth=4, n_estimators=100))"
   ]
  },
  {
   "cell_type": "markdown",
   "metadata": {},
   "source": [
    "Рассчитаем среднее sMAPE для этапа очистки."
   ]
  },
  {
   "cell_type": "code",
   "execution_count": 83,
   "metadata": {},
   "outputs": [
    {
     "name": "stdout",
     "output_type": "stream",
     "text": [
      "Значение среднего sMAPE для модели RandomForestRegressor(max_depth=1, n_estimators=20, random_state=12345):\n",
      "10.004542221898152\n",
      "Wall time: 1.95 s\n"
     ]
    }
   ],
   "source": [
    "%%time\n",
    "smape_score(data_train_updated_cleaner_dict,\n",
    "            RandomForestRegressor(random_state=12345,max_depth=1, n_estimators=20))"
   ]
  },
  {
   "cell_type": "markdown",
   "metadata": {},
   "source": [
    "##### 3.3.4 Вывод.  <a id='step3.3.4'></a>"
   ]
  },
  {
   "cell_type": "markdown",
   "metadata": {},
   "source": [
    "Необходимо выбрать наименьшее значение. \n",
    "\n",
    "Наилучший результат для этапа флотации показала модель \"линейная регрессия\". \n",
    "Наилучший результат для этапа очистки показала модель \"случайный лес\" с гиперпараметрами \"max_depth\"=1 и \"n_estimators\"=20"
   ]
  },
  {
   "cell_type": "markdown",
   "metadata": {},
   "source": [
    "#### 3.4 Проверка моделей на тестовом наборе данных. <a id='step3.4'></a>"
   ]
  },
  {
   "cell_type": "markdown",
   "metadata": {},
   "source": [
    "Рассчитаем итоговую sMAPE на тестовом наборе данных используя наилучшие модели.\n",
    "Напишем функцию, которая принимает в качестве параметров:\n",
    "    \n",
    "    - Модель с гиперпараметрами для этапа флотации\n",
    "    - Модель с гиперпараметрами для этапа очистки\n",
    "    - Обучающий набор данных этапа флотации\n",
    "    - Обучающий набор данных этапа очистки\n",
    "    - Тестовый набор данных этапа флотации\n",
    "    - Тестовый набор данных этапа очистки"
   ]
  },
  {
   "cell_type": "code",
   "execution_count": 84,
   "metadata": {},
   "outputs": [],
   "source": [
    "def final_smape(model_rougher_parametrs,\n",
    "                model_cleaner_parametrs,\n",
    "                data_train_rougher,\n",
    "                data_train_cleaner,\n",
    "                data_test_rougher,\n",
    "                data_test_cleaner):\n",
    "    \n",
    "    #<этап флотации>\n",
    "    model_rougher = model_rougher_parametrs\n",
    "    model_rougher.fit(data_train_rougher['features'],data_train_rougher['target'])\n",
    "    predictions_test_rougher = model_rougher.predict(data_test_rougher['features'])\n",
    "    smape_rougher = smape(data_test_rougher['target'],predictions_test_rougher)\n",
    "    #<этап очистки>\n",
    "    model_cleaner = model_cleaner_parametrs\n",
    "    model_cleaner.fit(data_train_cleaner['features'],data_train_cleaner['target'])\n",
    "    predictions_test_cleaner = model_cleaner.predict(data_test_cleaner['features'])\n",
    "    smape_cleaner = smape(data_test_cleaner['target'],predictions_test_cleaner)\n",
    "    #<расчет итоговой smape>\n",
    "    \n",
    "    final_smape = (smape_rougher * 0.25) + (smape_cleaner * 0.75)\n",
    "    print(f'Значение итоговой sMAPE на тестовом наборе данных:\\n{final_smape}')  "
   ]
  },
  {
   "cell_type": "code",
   "execution_count": 85,
   "metadata": {},
   "outputs": [
    {
     "name": "stdout",
     "output_type": "stream",
     "text": [
      "Значение итоговой sMAPE на тестовом наборе данных:\n",
      "6.834745636653477\n"
     ]
    }
   ],
   "source": [
    "final_smape(LinearRegression(),\n",
    "            RandomForestRegressor(random_state=12345,max_depth=1, n_estimators=20),\n",
    "            data_train_updated_rougher_dict,\n",
    "            data_train_updated_cleaner_dict,\n",
    "            data_test_updated_rougher_dict,\n",
    "            data_test_updated_cleaner_dict)"
   ]
  },
  {
   "cell_type": "markdown",
   "metadata": {},
   "source": [
    "Рассчитаем аналогичный параметр, но на простой модели \"DummyRegressor\". В качестве параметр будем использовать strategy= 'median'.  Данный параметр указывает, что модель всегда будет предсказывать медианное значение обучающего набора."
   ]
  },
  {
   "cell_type": "code",
   "execution_count": 86,
   "metadata": {},
   "outputs": [
    {
     "name": "stdout",
     "output_type": "stream",
     "text": [
      "Значение итоговой sMAPE на тестовом наборе данных:\n",
      "7.356355423901205\n"
     ]
    }
   ],
   "source": [
    "final_smape(DummyRegressor(strategy='median'),\n",
    "            DummyRegressor(strategy='median'),\n",
    "            data_train_updated_rougher_dict,\n",
    "            data_train_updated_cleaner_dict,\n",
    "            data_test_updated_rougher_dict,\n",
    "            data_test_updated_cleaner_dict)"
   ]
  },
  {
   "cell_type": "markdown",
   "metadata": {},
   "source": [
    "##### 3.4.1 Вывод.  <a id='step3.4.1'></a>"
   ]
  },
  {
   "cell_type": "markdown",
   "metadata": {},
   "source": [
    "<br>У комбинации моделей \"линейной регрессии\" и \"случайного леса\" получена итоговая ошибка sMAPE - 6.83\n",
    "<br>Итоговое значение sMAPE у простой модели со стратегией \"median\" - 7.35\n",
    "    \n",
    "Сложная модель оказалась эффективнее в предсказании целевых признаков чем простая модель. Обучение модели можно считать удачным."
   ]
  },
  {
   "cell_type": "markdown",
   "metadata": {},
   "source": [
    "### 4. Общий вывод. <a id='step4'></a>"
   ]
  },
  {
   "cell_type": "markdown",
   "metadata": {},
   "source": [
    "Исследование концентрации веществ на стадиях очистки показало наличие большое количество аномальных значений. В исходном наборе данных присутствует большое количество нулевых значений. Было принято решение удалить из обучающего и тестового наборов данных строки по списку столбцов относящихся к технологическому процессу очистки. Предположительно нулевые значения появляются в момент запуска процесса очистки когда в емкости для замера еще не поступили материалы. Необходимо оповестить заказчика, что предоставленную модель предполагается использовать после выхода очистительной установки на нормальный режим.\n",
    "\n",
    "Исследование концентрации металлов на различных этапах технологического процесса позволяет сделать следующие выводы:\n",
    "\n",
    "    Золото:\n",
    "    На каждом этапе очистки количество золота в пробах значительно увеличивается. После финальной стадии очистки количество золота в пробах в среднем увеличилось более чем в четыре раза.\n",
    "    В среднем количество золота в отвалах значительно снижается относительно изначального количества в руде. При этом после каждого этапа очистки количество золота в отвалах примерно одинаковое. Незначительное увеличение количества золота в отвалах после первичной очистки можно связать с увеличением количества золота в концентрате который попадает на первичную очистку.\n",
    "\n",
    "    Серебро:\n",
    "    Относительно содержания в исходном сырье среднее количество серебра в концентрате после флотации увеличивается. На последующих этапах содержание серебра в концентрате падает.\n",
    "    После первой стадии очистки количество серебра в отвалах резко увеличивается и становиться больше чем в исходном сырье.\n",
    "    На всех этапах кроме флотации количество серебра в отвалах больше чем в исходном сырье.\n",
    "\n",
    "    Свинец:\n",
    "    Количество свинца в концентрате на всех стадиях очистки увеличивается относительно содержания в исходном сырье.\n",
    "    Количество свинца в отвалах меняется не линейно. Больше всего свинца в отвалах после второго этапа очистки.\n",
    "\n",
    "\n",
    "У комбинации моделей \"линейной регрессии\" и \"случайного леса\" получена итоговая ошибка sMAPE - 6.83\n",
    "Данный показатель достигнул при следующих гиперпараметрах:\n",
    "<br>Для этапа флотации использовалась модель \"линейной регрессии\".\n",
    "<br>Для этапа очистки использовалась модель \"случайный лес\" с глубиной - 1 и количеством деревьев - 20\n",
    "\n",
    "Итоговое значение sMAPE у простой модели со стратегией \"median\" - 7.35\n",
    "\n",
    "Сложная модель оказалась эффективнее в предсказании целевых признаков чем простая модель. \n",
    "Обучение модели можно считать успешным."
   ]
  }
 ],
 "metadata": {
  "kernelspec": {
   "display_name": "Python 3",
   "language": "python",
   "name": "python3"
  },
  "language_info": {
   "codemirror_mode": {
    "name": "ipython",
    "version": 3
   },
   "file_extension": ".py",
   "mimetype": "text/x-python",
   "name": "python",
   "nbconvert_exporter": "python",
   "pygments_lexer": "ipython3",
   "version": "3.9.1"
  },
  "toc": {
   "base_numbering": 1,
   "nav_menu": {},
   "number_sections": false,
   "sideBar": true,
   "skip_h1_title": false,
   "title_cell": "Table of Contents",
   "title_sidebar": "Contents",
   "toc_cell": false,
   "toc_position": {},
   "toc_section_display": true,
   "toc_window_display": false
  }
 },
 "nbformat": 4,
 "nbformat_minor": 4
}
